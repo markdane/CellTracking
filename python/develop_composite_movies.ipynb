{
 "cells": [
  {
   "cell_type": "code",
   "execution_count": null,
   "id": "a9ebe569-d12a-48c4-88be-f870a8837f85",
   "metadata": {},
   "outputs": [],
   "source": [
    "import numpy as np\n",
    "import os, glob\n",
    "from skimage import io\n",
    "import xtiff"
   ]
  },
  {
   "cell_type": "code",
   "execution_count": 9,
   "id": "9181c3bf-ed3d-4809-a56b-a044b6c9824d",
   "metadata": {},
   "outputs": [],
   "source": [
    "def write_composite(data_path, plateID, pipeline_name, well, field_num):\n",
    "    c_filename = os.path.join(data_path, plateID,\"Analysis\",pipeline_name,\"intermediate_files\",plateID+\"_C_\"+well+\"_\"+str(field_num)+\"_reg_stack.ome.tiff\")\n",
    "    print(\"creating composite movie file for \"+c_filename)\n",
    "    r_src = os.path.join(data_path, plateID,\"Analysis\",pipeline_name,\"intermediate_files\",plateID+\"_R_\"+well+\"_\"+str(field_num)+\"_reg_stack.tif\")\n",
    "    g_src = r_src.replace(\"_R_\",\"_G_\")\n",
    "    p_src = r_src.replace(\"_R_\",\"_P_\")\n",
    "\n",
    "    mask_src = os.path.join(data_path, plateID,\"Analysis\",pipeline_name,\"intermediate_files/tracking\",well,\"field_\"+str(field_num),\"filtered_masks\")\n",
    "    mask_filenames = sorted(glob.glob(mask_src+\"/mask*\"))\n",
    "    r_stack = io.imread(r_src)\n",
    "    g_stack = io.imread(g_src)\n",
    "    p_stack = io.imread(p_src)\n",
    "    \n",
    "    mask_list = []\n",
    "    for fn in mask_filenames:\n",
    "        #read in the mask image\n",
    "        masks = io.imread(fn)\n",
    "        mask_list.append(masks)\n",
    "    mask_stack = np.stack(mask_list)\n",
    "    composite_stack = np.stack((r_stack, g_stack, mask_stack, p_stack), axis = 1)\n",
    "    \n",
    "    res = xtiff.to_tiff(composite_stack, c_filename)\n",
    "    return(res)"
   ]
  },
  {
   "cell_type": "code",
   "execution_count": 28,
   "id": "133ac09d-8547-4ab0-8590-da64d31704c3",
   "metadata": {},
   "outputs": [
    {
     "name": "stdout",
     "output_type": "stream",
     "text": [
      "creating composite movie file for /home/exacloud/gscratch/HeiserLab/images/HC00901/Analysis/CKn/intermediate_files/HC00901_C_A1_1_reg_stack.ome.tiff\n",
      "creating composite movie file for /home/exacloud/gscratch/HeiserLab/images/HC00901/Analysis/CKn/intermediate_files/HC00901_C_B2_1_reg_stack.ome.tiff\n",
      "creating composite movie file for /home/exacloud/gscratch/HeiserLab/images/HC00901/Analysis/CKn/intermediate_files/HC00901_C_C2_1_reg_stack.ome.tiff\n",
      "creating composite movie file for /home/exacloud/gscratch/HeiserLab/images/HC00901/Analysis/CKn/intermediate_files/HC00901_C_D2_1_reg_stack.ome.tiff\n",
      "creating composite movie file for /home/exacloud/gscratch/HeiserLab/images/HC00901/Analysis/CKn/intermediate_files/HC00901_C_B4_1_reg_stack.ome.tiff\n",
      "creating composite movie file for /home/exacloud/gscratch/HeiserLab/images/HC00901/Analysis/CKn/intermediate_files/HC00901_C_C4_1_reg_stack.ome.tiff\n",
      "creating composite movie file for /home/exacloud/gscratch/HeiserLab/images/HC00901/Analysis/CKn/intermediate_files/HC00901_C_D4_1_reg_stack.ome.tiff\n",
      "creating composite movie file for /home/exacloud/gscratch/HeiserLab/images/HC00901/Analysis/CKn/intermediate_files/HC00901_C_B6_1_reg_stack.ome.tiff\n",
      "creating composite movie file for /home/exacloud/gscratch/HeiserLab/images/HC00901/Analysis/CKn/intermediate_files/HC00901_C_C6_1_reg_stack.ome.tiff\n",
      "creating composite movie file for /home/exacloud/gscratch/HeiserLab/images/HC00901/Analysis/CKn/intermediate_files/HC00901_C_D6_1_reg_stack.ome.tiff\n",
      "creating composite movie file for /home/exacloud/gscratch/HeiserLab/images/HC01001/Analysis/CKn/intermediate_files/HC01001_C_A1_1_reg_stack.ome.tiff\n",
      "creating composite movie file for /home/exacloud/gscratch/HeiserLab/images/HC01001/Analysis/CKn/intermediate_files/HC01001_C_B2_1_reg_stack.ome.tiff\n",
      "creating composite movie file for /home/exacloud/gscratch/HeiserLab/images/HC01001/Analysis/CKn/intermediate_files/HC01001_C_C2_1_reg_stack.ome.tiff\n",
      "creating composite movie file for /home/exacloud/gscratch/HeiserLab/images/HC01001/Analysis/CKn/intermediate_files/HC01001_C_D2_1_reg_stack.ome.tiff\n",
      "creating composite movie file for /home/exacloud/gscratch/HeiserLab/images/HC01001/Analysis/CKn/intermediate_files/HC01001_C_B4_1_reg_stack.ome.tiff\n",
      "creating composite movie file for /home/exacloud/gscratch/HeiserLab/images/HC01001/Analysis/CKn/intermediate_files/HC01001_C_C4_1_reg_stack.ome.tiff\n",
      "creating composite movie file for /home/exacloud/gscratch/HeiserLab/images/HC01001/Analysis/CKn/intermediate_files/HC01001_C_D4_1_reg_stack.ome.tiff\n",
      "creating composite movie file for /home/exacloud/gscratch/HeiserLab/images/HC01001/Analysis/CKn/intermediate_files/HC01001_C_B6_1_reg_stack.ome.tiff\n"
     ]
    },
    {
     "ename": "ValueError",
     "evalue": "need at least one array to stack",
     "output_type": "error",
     "traceback": [
      "\u001b[0;31m---------------------------------------------------------------------------\u001b[0m",
      "\u001b[0;31mValueError\u001b[0m                                Traceback (most recent call last)",
      "\u001b[0;32m/tmp/ipykernel_35940/3352709308.py\u001b[0m in \u001b[0;36m<module>\u001b[0;34m\u001b[0m\n\u001b[1;32m      8\u001b[0m \u001b[0;31m#res = write_composite(data_path, plateID, pipeline_name, well, field_num)\u001b[0m\u001b[0;34m\u001b[0m\u001b[0;34m\u001b[0m\u001b[0;34m\u001b[0m\u001b[0m\n\u001b[1;32m      9\u001b[0m \u001b[0;31m#res = list(map(write_composite, [data_path]*len(well_list), [plateID]*len(well_list), [pipeline_name]*len(well_list), well_list, [field_num]*len(well_list)))\u001b[0m\u001b[0;34m\u001b[0m\u001b[0;34m\u001b[0m\u001b[0;34m\u001b[0m\u001b[0m\n\u001b[0;32m---> 10\u001b[0;31m \u001b[0mres\u001b[0m \u001b[0;34m=\u001b[0m \u001b[0mlist\u001b[0m\u001b[0;34m(\u001b[0m\u001b[0mmap\u001b[0m\u001b[0;34m(\u001b[0m\u001b[0mwrite_composite\u001b[0m\u001b[0;34m,\u001b[0m \u001b[0;34m[\u001b[0m\u001b[0mdata_path\u001b[0m\u001b[0;34m]\u001b[0m\u001b[0;34m*\u001b[0m\u001b[0mlen\u001b[0m\u001b[0;34m(\u001b[0m\u001b[0mwell_list\u001b[0m\u001b[0;34m)\u001b[0m\u001b[0;34m*\u001b[0m\u001b[0mlen\u001b[0m\u001b[0;34m(\u001b[0m\u001b[0mplateID_list\u001b[0m\u001b[0;34m)\u001b[0m\u001b[0;34m,\u001b[0m \u001b[0;34m[\u001b[0m\u001b[0melement\u001b[0m \u001b[0;32mfor\u001b[0m \u001b[0melement\u001b[0m \u001b[0;32min\u001b[0m \u001b[0mplateID_list\u001b[0m \u001b[0;32mfor\u001b[0m \u001b[0mi\u001b[0m \u001b[0;32min\u001b[0m \u001b[0mrange\u001b[0m\u001b[0;34m(\u001b[0m\u001b[0mlen\u001b[0m\u001b[0;34m(\u001b[0m\u001b[0mwell_list\u001b[0m\u001b[0;34m)\u001b[0m\u001b[0;34m)\u001b[0m\u001b[0;34m]\u001b[0m\u001b[0;34m,\u001b[0m \u001b[0;34m[\u001b[0m\u001b[0mpipeline_name\u001b[0m\u001b[0;34m]\u001b[0m\u001b[0;34m*\u001b[0m\u001b[0mlen\u001b[0m\u001b[0;34m(\u001b[0m\u001b[0mwell_list\u001b[0m\u001b[0;34m)\u001b[0m\u001b[0;34m*\u001b[0m\u001b[0mlen\u001b[0m\u001b[0;34m(\u001b[0m\u001b[0mplateID_list\u001b[0m\u001b[0;34m)\u001b[0m\u001b[0;34m,\u001b[0m \u001b[0mwell_list\u001b[0m\u001b[0;34m*\u001b[0m\u001b[0mlen\u001b[0m\u001b[0;34m(\u001b[0m\u001b[0mplateID_list\u001b[0m\u001b[0;34m)\u001b[0m\u001b[0;34m,\u001b[0m \u001b[0;34m[\u001b[0m\u001b[0mfield_num\u001b[0m\u001b[0;34m]\u001b[0m\u001b[0;34m*\u001b[0m\u001b[0mlen\u001b[0m\u001b[0;34m(\u001b[0m\u001b[0mwell_list\u001b[0m\u001b[0;34m)\u001b[0m\u001b[0;34m*\u001b[0m\u001b[0mlen\u001b[0m\u001b[0;34m(\u001b[0m\u001b[0mplateID_list\u001b[0m\u001b[0;34m)\u001b[0m\u001b[0;34m)\u001b[0m\u001b[0;34m)\u001b[0m\u001b[0;34m\u001b[0m\u001b[0;34m\u001b[0m\u001b[0m\n\u001b[0m",
      "\u001b[0;32m/tmp/ipykernel_35940/2590120401.py\u001b[0m in \u001b[0;36mwrite_composite\u001b[0;34m(data_path, plateID, pipeline_name, well, field_num)\u001b[0m\n\u001b[1;32m     17\u001b[0m         \u001b[0mmasks\u001b[0m \u001b[0;34m=\u001b[0m \u001b[0mio\u001b[0m\u001b[0;34m.\u001b[0m\u001b[0mimread\u001b[0m\u001b[0;34m(\u001b[0m\u001b[0mfn\u001b[0m\u001b[0;34m)\u001b[0m\u001b[0;34m\u001b[0m\u001b[0;34m\u001b[0m\u001b[0m\n\u001b[1;32m     18\u001b[0m         \u001b[0mmask_list\u001b[0m\u001b[0;34m.\u001b[0m\u001b[0mappend\u001b[0m\u001b[0;34m(\u001b[0m\u001b[0mmasks\u001b[0m\u001b[0;34m)\u001b[0m\u001b[0;34m\u001b[0m\u001b[0;34m\u001b[0m\u001b[0m\n\u001b[0;32m---> 19\u001b[0;31m     \u001b[0mmask_stack\u001b[0m \u001b[0;34m=\u001b[0m \u001b[0mnp\u001b[0m\u001b[0;34m.\u001b[0m\u001b[0mstack\u001b[0m\u001b[0;34m(\u001b[0m\u001b[0mmask_list\u001b[0m\u001b[0;34m)\u001b[0m\u001b[0;34m\u001b[0m\u001b[0;34m\u001b[0m\u001b[0m\n\u001b[0m\u001b[1;32m     20\u001b[0m     \u001b[0mcomposite_stack\u001b[0m \u001b[0;34m=\u001b[0m \u001b[0mnp\u001b[0m\u001b[0;34m.\u001b[0m\u001b[0mstack\u001b[0m\u001b[0;34m(\u001b[0m\u001b[0;34m(\u001b[0m\u001b[0mr_stack\u001b[0m\u001b[0;34m,\u001b[0m \u001b[0mg_stack\u001b[0m\u001b[0;34m,\u001b[0m \u001b[0mmask_stack\u001b[0m\u001b[0;34m,\u001b[0m \u001b[0mp_stack\u001b[0m\u001b[0;34m)\u001b[0m\u001b[0;34m,\u001b[0m \u001b[0maxis\u001b[0m \u001b[0;34m=\u001b[0m \u001b[0;36m1\u001b[0m\u001b[0;34m)\u001b[0m\u001b[0;34m\u001b[0m\u001b[0;34m\u001b[0m\u001b[0m\n\u001b[1;32m     21\u001b[0m \u001b[0;34m\u001b[0m\u001b[0m\n",
      "\u001b[0;32m<__array_function__ internals>\u001b[0m in \u001b[0;36mstack\u001b[0;34m(*args, **kwargs)\u001b[0m\n",
      "\u001b[0;32m/home/exacloud/gscratch/HeiserLab/software/miniconda3/envs/cellpose/lib/python3.8/site-packages/numpy/core/shape_base.py\u001b[0m in \u001b[0;36mstack\u001b[0;34m(arrays, axis, out)\u001b[0m\n\u001b[1;32m    421\u001b[0m     \u001b[0marrays\u001b[0m \u001b[0;34m=\u001b[0m \u001b[0;34m[\u001b[0m\u001b[0masanyarray\u001b[0m\u001b[0;34m(\u001b[0m\u001b[0marr\u001b[0m\u001b[0;34m)\u001b[0m \u001b[0;32mfor\u001b[0m \u001b[0marr\u001b[0m \u001b[0;32min\u001b[0m \u001b[0marrays\u001b[0m\u001b[0;34m]\u001b[0m\u001b[0;34m\u001b[0m\u001b[0;34m\u001b[0m\u001b[0m\n\u001b[1;32m    422\u001b[0m     \u001b[0;32mif\u001b[0m \u001b[0;32mnot\u001b[0m \u001b[0marrays\u001b[0m\u001b[0;34m:\u001b[0m\u001b[0;34m\u001b[0m\u001b[0;34m\u001b[0m\u001b[0m\n\u001b[0;32m--> 423\u001b[0;31m         \u001b[0;32mraise\u001b[0m \u001b[0mValueError\u001b[0m\u001b[0;34m(\u001b[0m\u001b[0;34m'need at least one array to stack'\u001b[0m\u001b[0;34m)\u001b[0m\u001b[0;34m\u001b[0m\u001b[0;34m\u001b[0m\u001b[0m\n\u001b[0m\u001b[1;32m    424\u001b[0m \u001b[0;34m\u001b[0m\u001b[0m\n\u001b[1;32m    425\u001b[0m     \u001b[0mshapes\u001b[0m \u001b[0;34m=\u001b[0m \u001b[0;34m{\u001b[0m\u001b[0marr\u001b[0m\u001b[0;34m.\u001b[0m\u001b[0mshape\u001b[0m \u001b[0;32mfor\u001b[0m \u001b[0marr\u001b[0m \u001b[0;32min\u001b[0m \u001b[0marrays\u001b[0m\u001b[0;34m}\u001b[0m\u001b[0;34m\u001b[0m\u001b[0;34m\u001b[0m\u001b[0m\n",
      "\u001b[0;31mValueError\u001b[0m: need at least one array to stack"
     ]
    }
   ],
   "source": [
    "data_path = \"/home/exacloud/gscratch/HeiserLab/images/\"\n",
    "plateID = \"HC00701\"\n",
    "plateID_list = (\"HC00901\", \"HC01001\")\n",
    "pipeline_name = \"CKn\"\n",
    "well_list = (\"A1\", \"B2\", \"C2\", \"D2\",  \"B4\", \"C4\", \"D4\",  \"B6\", \"C6\", \"D6\")\n",
    "field_num = 1\n",
    "\n",
    "#res = write_composite(data_path, plateID, pipeline_name, well, field_num)\n",
    "#res = list(map(write_composite, [data_path]*len(well_list), [plateID]*len(well_list), [pipeline_name]*len(well_list), well_list, [field_num]*len(well_list)))\n",
    "res = list(map(write_composite, [data_path]*len(well_list)*len(plateID_list), [element for element in plateID_list for i in range(len(well_list))], [pipeline_name]*len(well_list)*len(plateID_list), well_list*len(plateID_list), [field_num]*len(well_list)*len(plateID_list)))"
   ]
  },
  {
   "cell_type": "code",
   "execution_count": null,
   "id": "84357ddc-bf4c-45e9-a49a-d650fedf0f4f",
   "metadata": {},
   "outputs": [],
   "source": []
  }
 ],
 "metadata": {
  "kernelspec": {
   "display_name": "Python 3 (ipykernel)",
   "language": "python",
   "name": "python3"
  },
  "language_info": {
   "codemirror_mode": {
    "name": "ipython",
    "version": 3
   },
   "file_extension": ".py",
   "mimetype": "text/x-python",
   "name": "python",
   "nbconvert_exporter": "python",
   "pygments_lexer": "ipython3",
   "version": "3.8.12"
  }
 },
 "nbformat": 4,
 "nbformat_minor": 5
}
