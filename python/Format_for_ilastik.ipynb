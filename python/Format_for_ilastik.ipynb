{
 "cells": [
  {
   "cell_type": "code",
   "execution_count": 1,
   "id": "d6a8e734-b8d6-4d70-a4f8-c8e5d1a31550",
   "metadata": {},
   "outputs": [],
   "source": [
    "#setup libraries\n",
    "import numpy as np\n",
    "import os, re, glob, sys\n",
    "from skimage import io"
   ]
  },
  {
   "cell_type": "code",
   "execution_count": 2,
   "id": "e4a22418-0891-408d-bedb-1e5fb27427ac",
   "metadata": {},
   "outputs": [],
   "source": [
    "pipeline_name = \"PI\" #python and ilastik\n",
    "data_path = '/home/exacloud/gscratch/HeiserLab/images/'\n",
    "#plateID = sys.argv[1]\n",
    "plateID = 'AU01401'\n",
    "\n",
    "output_path = os.path.join(data_path+plateID,\"Analysis\",pipeline_name,\"intermediate_files\")\n",
    "subdirectories = sorted(glob.glob(os.path.join(data_path+plateID,\"[A-Z][1-9]\",\"field_[1-9]\")))"
   ]
  },
  {
   "cell_type": "markdown",
   "id": "56c9e723-6538-47f0-b7ff-b4390800aa14",
   "metadata": {},
   "source": [
    "Only create a job if there is no stack of RGP files\n"
   ]
  },
  {
   "cell_type": "code",
   "execution_count": 4,
   "id": "ee281d51-5b59-49a1-9dcb-a4b98aa9b07e",
   "metadata": {},
   "outputs": [
    {
     "name": "stdout",
     "output_type": "stream",
     "text": [
      "combining channels in /home/exacloud/gscratch/HeiserLab/images/AU01401/A1/field_1\n"
     ]
    }
   ],
   "source": [
    "flourescent_scaler = 255/4095 #rescale from 12 to 8 bits\n",
    "\n",
    "\n",
    "for subdir in subdirectories:\n",
    "    well = re.findall(\"/[A-Z][1-9]\",subdir)[0]\n",
    "    well = re.findall(\"[A-Z][1-9]\", well)[0]\n",
    "    field = re.findall(\"field_[1-9]\",subdir)[0]\n",
    "    field_num = re.findall(\"[0-9]\", field)[0]\n",
    "    c_filename = os.path.join(output_path,plateID+\"_RGP_\"+well+\"_\"+field_num+\"_stack.tif\")\n",
    "    metadata_filename = os.path.join(output_path,plateID+\"_RGP_\"+well+\"_\"+field_num+\"_filenames.txt\")\n",
    "    # Only process the field-level image files if there is no stack of RGP files\n",
    "    if not os.path.exists(c_filename):\n",
    "        print(\"combining channels in \"+subdir)\n",
    "        #load and prepare red, green and phase channels. Scale for 8 bits but these are uint16 data types\n",
    "        r_data_paths = glob.glob(os.path.join(subdir,\"*_R_*m.tif\"))\n",
    "        r_time_slices = set()\n",
    "        for data_paths in r_data_paths:\n",
    "            r_time_slices.add(re.findall(\"..d..h..m\", data_paths)[0])\n",
    "        g_data_paths = glob.glob(os.path.join(subdir,\"*_G_*m.tif\"))\n",
    "        g_time_slices = set()\n",
    "        for data_paths in g_data_paths:\n",
    "            g_time_slices.add(re.findall(\"..d..h..m\", data_paths)[0])\n",
    "        p_data_paths = glob.glob(os.path.join(subdir,\"*_P_*m.tif\"))\n",
    "        p_time_slices = set()\n",
    "        for data_paths in p_data_paths:\n",
    "            p_time_slices.add(re.findall(\"..d..h..m\", data_paths)[0])\n",
    "        complete_time_slices = r_time_slices & g_time_slices & p_time_slices\n",
    "        r_data_paths_c = []\n",
    "        g_data_paths_c = []\n",
    "        p_data_paths_c = []\n",
    "        for time_slice in complete_time_slices:\n",
    "            r_data_paths_c.append(os.path.join(data_path+plateID,well,field,plateID+\"_R_\"+well+\"_\"+field_num+\"_\"+time_slice+\".tif\"))\n",
    "            g_data_paths_c.append(os.path.join(data_path+plateID,well,field,plateID+\"_G_\"+well+\"_\"+field_num+\"_\"+time_slice+\".tif\"))\n",
    "            p_data_paths_c.append(os.path.join(data_path+plateID,well,field,plateID+\"_P_\"+well+\"_\"+field_num+\"_\"+time_slice+\".tif\"))\n",
    "        img_r_ic = io.imread_collection(r_data_paths_c) # 3 dimensions : frames x width x height\n",
    "        img_rs = np.stack(img_r_ic)*flourescent_scaler\n",
    "\n",
    "        img_g_ic = io.imread_collection(g_data_paths_c) # 3 dimensions : frames x width x height\n",
    "        img_gs = np.stack(img_g_ic)*flourescent_scaler\n",
    "\n",
    "        img_p_ic = io.imread_collection(p_data_paths_c) # 3 dimensions : frames x width x height\n",
    "        img_ps = np.stack(img_p_ic)\n",
    "\n",
    "        img_c = np.stack([img_rs.astype('B'), img_gs.astype('B'), img_ps.astype('B')], axis = -1) \n",
    "    \n",
    "        if not os.path.exists(output_path):\n",
    "            os.makedirs(output_path)\n",
    "\n",
    "        io.imsave(c_filename, img_c, plugin='tifffile')\n",
    "        with open(metadata_filename, 'w') as filehandle:\n",
    "            for listitem in img_r_ic.files:\n",
    "                filehandle.write('%s\\n' % re.sub(\"_R_\",\"_RGP_\",listitem))"
   ]
  },
  {
   "cell_type": "code",
   "execution_count": null,
   "id": "0c57b2be-e869-4634-961e-35ae4952d61c",
   "metadata": {},
   "outputs": [],
   "source": []
  }
 ],
 "metadata": {
  "kernelspec": {
   "display_name": "biapy",
   "language": "python",
   "name": "biapy"
  },
  "language_info": {
   "codemirror_mode": {
    "name": "ipython",
    "version": 3
   },
   "file_extension": ".py",
   "mimetype": "text/x-python",
   "name": "python",
   "nbconvert_exporter": "python",
   "pygments_lexer": "ipython3",
   "version": "3.7.10"
  }
 },
 "nbformat": 4,
 "nbformat_minor": 5
}
