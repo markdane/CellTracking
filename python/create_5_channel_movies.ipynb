{
 "cells": [
  {
   "cell_type": "code",
   "execution_count": null,
   "id": "a9ebe569-d12a-48c4-88be-f870a8837f85",
   "metadata": {},
   "outputs": [],
   "source": [
    "import numpy as np\n",
    "import os, glob\n",
    "from skimage import io, exposure, img_as_ubyte\n",
    "import xtiff"
   ]
  },
  {
   "cell_type": "code",
   "execution_count": null,
   "id": "9181c3bf-ed3d-4809-a56b-a044b6c9824d",
   "metadata": {},
   "outputs": [],
   "source": [
    "def write_composite(data_path, plateID, pipeline_name, well, field_num):\n",
    "    c_filename = os.path.join(data_path, plateID,\"Analysis\",pipeline_name,\"intermediate_files\",plateID+\"_C_\"+well+\"_\"+str(field_num)+\"_reg_stack.ome.tiff\")\n",
    "    print(\"creating composite movie file for \"+c_filename)\n",
    "    r_src = os.path.join(data_path, plateID,\"Analysis/registered_stacks/\",plateID+\"_R_\"+well+\"_\"+str(field_num)+\"_reg_stack.tif\")\n",
    "    g_src = r_src.replace(\"_R_\",\"_G_\")\n",
    "    p_src = r_src.replace(\"_R_\",\"_P_\")\n",
    "\n",
    "    cyto_mask_src = os.path.join(data_path, plateID,\"Analysis\",pipeline_name,\"intermediate_files/tracking\",well,\"field_\"+str(field_num),\"cyto_filtered_masks\")\n",
    "    cyto_mask_filenames = sorted(glob.glob(cyto_mask_src+\"/mask*\"))\n",
    "    nuc_mask_src = os.path.join(data_path, plateID,\"Analysis\",pipeline_name,\"intermediate_files/tracking\",well,\"field_\"+str(field_num),\"nuc_filtered_masks\")\n",
    "    nuc_mask_filenames = sorted(glob.glob(nuc_mask_src+\"/mask*\"))\n",
    "    r_raw = io.imread(r_src)\n",
    "    g_raw = io.imread(g_src)\n",
    "    p_raw = io.imread(p_src)\n",
    "    r_stack = img_as_ubyte(exposure.rescale_intensity(r_raw, in_range = (np.quantile(r_raw, .07),np.quantile(r_raw, .9995))))\n",
    "    g_stack = img_as_ubyte(exposure.rescale_intensity(g_raw, in_range = (np.quantile(g_raw, .05),np.quantile(g_raw, .9995))))\n",
    "    p_stack = img_as_ubyte(exposure.rescale_intensity(p_raw))\n",
    "    \n",
    "    cyto_mask_list = []\n",
    "    for fn in cyto_mask_filenames:\n",
    "        #read in the mask image\n",
    "        masks = io.imread(fn)\n",
    "        cyto_mask_list.append(masks)\n",
    "    cyto_mask_stack = img_as_ubyte(exposure.rescale_intensity(np.stack(cyto_mask_list)))\n",
    "    nuc_mask_list = []\n",
    "    for fn in nuc_mask_filenames:\n",
    "        #read in the mask image\n",
    "        masks = io.imread(fn)\n",
    "        nuc_mask_list.append(masks)\n",
    "    nuc_mask_stack = img_as_ubyte(exposure.rescale_intensity(np.stack(nuc_mask_list)))\n",
    "    composite_stack = np.stack((r_stack, g_stack, cyto_mask_stack, nuc_mask_stack, p_stack), axis = 1) #TCCYX\n",
    "    res = xtiff.to_tiff(composite_stack, c_filename)\n",
    "    return(composite_stack)\n"
   ]
  },
  {
   "cell_type": "code",
   "execution_count": null,
   "id": "133ac09d-8547-4ab0-8590-da64d31704c3",
   "metadata": {},
   "outputs": [],
   "source": [
    "data_path = \"/home/exacloud/gscratch/HeiserLab/images/\"\n",
    "plateID_list = (\"HC00701\", \"HC00801\", \"HC00901\", \"HC01001\", \"HC01301\", \"HC01401\")\n",
    "plateID_list = ([\"HC01401\"])\n",
    "plateID_list = (\"HC00701\", \"HC01301\")\n",
    "pipeline_name = \"CtcK\"\n",
    "well_list = (\"A1\", \"D2\", \"D4\", \"D6\")\n",
    "well_list = ([\"D6\"])\n",
    "\n",
    "field_num = 1\n",
    "\n",
    "res = list(map(write_composite, [data_path]*len(well_list)*len(plateID_list), [element for element in plateID_list for i in range(len(well_list))], [pipeline_name]*len(well_list)*len(plateID_list), well_list*len(plateID_list), [field_num]*len(well_list)*len(plateID_list)))"
   ]
  },
  {
   "cell_type": "code",
   "execution_count": null,
   "id": "4d3df6f8-abe6-4422-9e0b-7b95707d54b2",
   "metadata": {},
   "outputs": [],
   "source": []
  }
 ],
 "metadata": {
  "kernelspec": {
   "display_name": "Python 3 (ipykernel)",
   "language": "python",
   "name": "python3"
  },
  "language_info": {
   "codemirror_mode": {
    "name": "ipython",
    "version": 3
   },
   "file_extension": ".py",
   "mimetype": "text/x-python",
   "name": "python",
   "nbconvert_exporter": "python",
   "pygments_lexer": "ipython3",
   "version": "3.8.12"
  }
 },
 "nbformat": 4,
 "nbformat_minor": 5
}
