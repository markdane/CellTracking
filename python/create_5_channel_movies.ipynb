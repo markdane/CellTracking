{
 "cells": [
  {
   "cell_type": "code",
   "execution_count": 1,
   "id": "a9ebe569-d12a-48c4-88be-f870a8837f85",
   "metadata": {},
   "outputs": [],
   "source": [
    "import numpy as np\n",
    "import os, glob\n",
    "from skimage import io, exposure, img_as_ubyte\n",
    "import xtiff"
   ]
  },
  {
   "cell_type": "code",
   "execution_count": 2,
   "id": "9181c3bf-ed3d-4809-a56b-a044b6c9824d",
   "metadata": {},
   "outputs": [],
   "source": [
    "def write_composite(data_path, plateID, pipeline_name, well, field_num):\n",
    "    c_filename = os.path.join(data_path, plateID,\"Analysis\",pipeline_name,\"intermediate_files\",plateID+\"_C_\"+well+\"_\"+str(field_num)+\"_reg_stack.ome.tiff\")\n",
    "    print(\"creating composite movie file for \"+c_filename)\n",
    "    r_src = os.path.join(data_path, plateID,\"Analysis/registered_stacks/\",plateID+\"_R_\"+well+\"_\"+str(field_num)+\"_reg_stack.tif\")\n",
    "    g_src = r_src.replace(\"_R_\",\"_G_\")\n",
    "    p_src = r_src.replace(\"_R_\",\"_P_\")\n",
    "\n",
    "    cyto_mask_src = os.path.join(data_path, plateID,\"Analysis\",pipeline_name,\"intermediate_files/tracking\",well,\"field_\"+str(field_num),\"cyto_filtered_masks\")\n",
    "    cyto_mask_filenames = sorted(glob.glob(cyto_mask_src+\"/mask*\"))\n",
    "    nuc_mask_src = os.path.join(data_path, plateID,\"Analysis\",pipeline_name,\"intermediate_files/tracking\",well,\"field_\"+str(field_num),\"nuc_filtered_masks\")\n",
    "    nuc_mask_filenames = sorted(glob.glob(nuc_mask_src+\"/mask*\"))\n",
    "\n",
    "    r_raw = io.imread(r_src)\n",
    "    g_raw = io.imread(g_src)\n",
    "    p_raw = io.imread(p_src)\n",
    "    r_stack = img_as_ubyte(exposure.rescale_intensity(r_raw, in_range = (np.quantile(r_raw, .07),np.quantile(r_raw, .9995))))\n",
    "    g_stack = img_as_ubyte(exposure.rescale_intensity(g_raw, in_range = (np.quantile(g_raw, .05),np.quantile(g_raw, .9995))))\n",
    "    p_stack = img_as_ubyte(exposure.rescale_intensity(p_raw))\n",
    "    \n",
    "    cyto_mask_list = []\n",
    "    for fn in cyto_mask_filenames:\n",
    "        #read in the mask image\n",
    "        masks = io.imread(fn)\n",
    "        cyto_mask_list.append(masks)\n",
    "    cyto_mask_stack = img_as_ubyte(exposure.rescale_intensity(np.stack(cyto_mask_list)))\n",
    "    nuc_mask_list = []\n",
    "    for fn in nuc_mask_filenames:\n",
    "        #read in the mask image\n",
    "        masks = io.imread(fn)\n",
    "        nuc_mask_list.append(masks)\n",
    "    nuc_mask_stack = img_as_ubyte(exposure.rescale_intensity(np.stack(nuc_mask_list)))\n",
    "    composite_stack = np.stack((r_stack, g_stack, cyto_mask_stack, nuc_mask_stack, p_stack), axis = 1) #TCCYX\n",
    "    res = xtiff.to_tiff(composite_stack, c_filename)\n",
    "    return(composite_stack)\n"
   ]
  },
  {
   "cell_type": "code",
   "execution_count": 3,
   "id": "133ac09d-8547-4ab0-8590-da64d31704c3",
   "metadata": {},
   "outputs": [
    {
     "name": "stdout",
     "output_type": "stream",
     "text": [
      "creating composite movie file for /home/groups/heiserlab_genomics/home/dane/CellTracking/images/HC01501/Analysis/CtnB/intermediate_files/HC01501_C_B2_1_reg_stack.ome.tiff\n"
     ]
    },
    {
     "ename": "ValueError",
     "evalue": "need at least one array to stack",
     "output_type": "error",
     "traceback": [
      "\u001b[0;31m---------------------------------------------------------------------------\u001b[0m",
      "\u001b[0;31mValueError\u001b[0m                                Traceback (most recent call last)",
      "Cell \u001b[0;32mIn [3], line 13\u001b[0m\n\u001b[1;32m      9\u001b[0m well_list \u001b[38;5;241m=\u001b[39m ([\u001b[38;5;124m\"\u001b[39m\u001b[38;5;124mB2\u001b[39m\u001b[38;5;124m\"\u001b[39m])\n\u001b[1;32m     11\u001b[0m field_num \u001b[38;5;241m=\u001b[39m \u001b[38;5;241m1\u001b[39m\n\u001b[0;32m---> 13\u001b[0m res \u001b[38;5;241m=\u001b[39m \u001b[38;5;28;43mlist\u001b[39;49m\u001b[43m(\u001b[49m\u001b[38;5;28;43mmap\u001b[39;49m\u001b[43m(\u001b[49m\u001b[43mwrite_composite\u001b[49m\u001b[43m,\u001b[49m\u001b[43m \u001b[49m\u001b[43m[\u001b[49m\u001b[43mdata_path\u001b[49m\u001b[43m]\u001b[49m\u001b[38;5;241;43m*\u001b[39;49m\u001b[38;5;28;43mlen\u001b[39;49m\u001b[43m(\u001b[49m\u001b[43mwell_list\u001b[49m\u001b[43m)\u001b[49m\u001b[38;5;241;43m*\u001b[39;49m\u001b[38;5;28;43mlen\u001b[39;49m\u001b[43m(\u001b[49m\u001b[43mplateID_list\u001b[49m\u001b[43m)\u001b[49m\u001b[43m,\u001b[49m\u001b[43m \u001b[49m\u001b[43m[\u001b[49m\u001b[43melement\u001b[49m\u001b[43m \u001b[49m\u001b[38;5;28;43;01mfor\u001b[39;49;00m\u001b[43m \u001b[49m\u001b[43melement\u001b[49m\u001b[43m \u001b[49m\u001b[38;5;129;43;01min\u001b[39;49;00m\u001b[43m \u001b[49m\u001b[43mplateID_list\u001b[49m\u001b[43m \u001b[49m\u001b[38;5;28;43;01mfor\u001b[39;49;00m\u001b[43m \u001b[49m\u001b[43mi\u001b[49m\u001b[43m \u001b[49m\u001b[38;5;129;43;01min\u001b[39;49;00m\u001b[43m \u001b[49m\u001b[38;5;28;43mrange\u001b[39;49m\u001b[43m(\u001b[49m\u001b[38;5;28;43mlen\u001b[39;49m\u001b[43m(\u001b[49m\u001b[43mwell_list\u001b[49m\u001b[43m)\u001b[49m\u001b[43m)\u001b[49m\u001b[43m]\u001b[49m\u001b[43m,\u001b[49m\u001b[43m \u001b[49m\u001b[43m[\u001b[49m\u001b[43mpipeline_name\u001b[49m\u001b[43m]\u001b[49m\u001b[38;5;241;43m*\u001b[39;49m\u001b[38;5;28;43mlen\u001b[39;49m\u001b[43m(\u001b[49m\u001b[43mwell_list\u001b[49m\u001b[43m)\u001b[49m\u001b[38;5;241;43m*\u001b[39;49m\u001b[38;5;28;43mlen\u001b[39;49m\u001b[43m(\u001b[49m\u001b[43mplateID_list\u001b[49m\u001b[43m)\u001b[49m\u001b[43m,\u001b[49m\u001b[43m \u001b[49m\u001b[43mwell_list\u001b[49m\u001b[38;5;241;43m*\u001b[39;49m\u001b[38;5;28;43mlen\u001b[39;49m\u001b[43m(\u001b[49m\u001b[43mplateID_list\u001b[49m\u001b[43m)\u001b[49m\u001b[43m,\u001b[49m\u001b[43m \u001b[49m\u001b[43m[\u001b[49m\u001b[43mfield_num\u001b[49m\u001b[43m]\u001b[49m\u001b[38;5;241;43m*\u001b[39;49m\u001b[38;5;28;43mlen\u001b[39;49m\u001b[43m(\u001b[49m\u001b[43mwell_list\u001b[49m\u001b[43m)\u001b[49m\u001b[38;5;241;43m*\u001b[39;49m\u001b[38;5;28;43mlen\u001b[39;49m\u001b[43m(\u001b[49m\u001b[43mplateID_list\u001b[49m\u001b[43m)\u001b[49m\u001b[43m)\u001b[49m\u001b[43m)\u001b[49m\n",
      "Cell \u001b[0;32mIn [2], line 24\u001b[0m, in \u001b[0;36mwrite_composite\u001b[0;34m(data_path, plateID, pipeline_name, well, field_num)\u001b[0m\n\u001b[1;32m     22\u001b[0m     masks \u001b[38;5;241m=\u001b[39m io\u001b[38;5;241m.\u001b[39mimread(fn)\n\u001b[1;32m     23\u001b[0m     cyto_mask_list\u001b[38;5;241m.\u001b[39mappend(masks)\n\u001b[0;32m---> 24\u001b[0m cyto_mask_stack \u001b[38;5;241m=\u001b[39m img_as_ubyte(exposure\u001b[38;5;241m.\u001b[39mrescale_intensity(\u001b[43mnp\u001b[49m\u001b[38;5;241;43m.\u001b[39;49m\u001b[43mstack\u001b[49m\u001b[43m(\u001b[49m\u001b[43mcyto_mask_list\u001b[49m\u001b[43m)\u001b[49m))\n\u001b[1;32m     25\u001b[0m nuc_mask_list \u001b[38;5;241m=\u001b[39m []\n\u001b[1;32m     26\u001b[0m \u001b[38;5;28;01mfor\u001b[39;00m fn \u001b[38;5;129;01min\u001b[39;00m nuc_mask_filenames:\n\u001b[1;32m     27\u001b[0m     \u001b[38;5;66;03m#read in the mask image\u001b[39;00m\n",
      "File \u001b[0;32m<__array_function__ internals>:5\u001b[0m, in \u001b[0;36mstack\u001b[0;34m(*args, **kwargs)\u001b[0m\n",
      "File \u001b[0;32m/home/exacloud/gscratch/HeiserLab/software/miniconda3/envs/cellpose/lib/python3.8/site-packages/numpy/core/shape_base.py:423\u001b[0m, in \u001b[0;36mstack\u001b[0;34m(arrays, axis, out)\u001b[0m\n\u001b[1;32m    421\u001b[0m arrays \u001b[38;5;241m=\u001b[39m [asanyarray(arr) \u001b[38;5;28;01mfor\u001b[39;00m arr \u001b[38;5;129;01min\u001b[39;00m arrays]\n\u001b[1;32m    422\u001b[0m \u001b[38;5;28;01mif\u001b[39;00m \u001b[38;5;129;01mnot\u001b[39;00m arrays:\n\u001b[0;32m--> 423\u001b[0m     \u001b[38;5;28;01mraise\u001b[39;00m \u001b[38;5;167;01mValueError\u001b[39;00m(\u001b[38;5;124m'\u001b[39m\u001b[38;5;124mneed at least one array to stack\u001b[39m\u001b[38;5;124m'\u001b[39m)\n\u001b[1;32m    425\u001b[0m shapes \u001b[38;5;241m=\u001b[39m {arr\u001b[38;5;241m.\u001b[39mshape \u001b[38;5;28;01mfor\u001b[39;00m arr \u001b[38;5;129;01min\u001b[39;00m arrays}\n\u001b[1;32m    426\u001b[0m \u001b[38;5;28;01mif\u001b[39;00m \u001b[38;5;28mlen\u001b[39m(shapes) \u001b[38;5;241m!=\u001b[39m \u001b[38;5;241m1\u001b[39m:\n",
      "\u001b[0;31mValueError\u001b[0m: need at least one array to stack"
     ]
    }
   ],
   "source": [
    "data_path = \"/home/exacloud/gscratch/HeiserLab/images/\"\n",
    "data_path = '/home/groups/heiserlab_genomics/home/dane/CellTracking/images/'\n",
    "plateID_list = ([\"MD00301\"])\n",
    "plateID_list = ([\"HC01501\",\"HC01601\",\"HC01701\",\"HC01801\",\"HC01901\",\"HC02001\",])\n",
    "\n",
    "pipeline_name = \"CtncK\"\n",
    "pipeline_name = \"CntB\"\n",
    "well_list = (\"A1\",\"D2\")\n",
    "well_list = ([\"B2\"])\n",
    "\n",
    "field_num = 1\n",
    "\n",
    "res = list(map(write_composite, [data_path]*len(well_list)*len(plateID_list), [element for element in plateID_list for i in range(len(well_list))], [pipeline_name]*len(well_list)*len(plateID_list), well_list*len(plateID_list), [field_num]*len(well_list)*len(plateID_list)))"
   ]
  },
  {
   "cell_type": "code",
   "execution_count": null,
   "id": "4d3df6f8-abe6-4422-9e0b-7b95707d54b2",
   "metadata": {},
   "outputs": [],
   "source": []
  }
 ],
 "metadata": {
  "kernelspec": {
   "display_name": "Python 3 (ipykernel)",
   "language": "python",
   "name": "python3"
  },
  "language_info": {
   "codemirror_mode": {
    "name": "ipython",
    "version": 3
   },
   "file_extension": ".py",
   "mimetype": "text/x-python",
   "name": "python",
   "nbconvert_exporter": "python",
   "pygments_lexer": "ipython3",
   "version": "3.8.12"
  }
 },
 "nbformat": 4,
 "nbformat_minor": 5
}
