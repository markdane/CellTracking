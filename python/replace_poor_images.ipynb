{
 "cells": [
  {
   "cell_type": "markdown",
   "id": "4095e495-381b-4761-a53f-11464092ef90",
   "metadata": {},
   "source": [
    "Utility script to replace images at a given timeslice with the previous image\n"
   ]
  },
  {
   "cell_type": "code",
   "execution_count": 1,
   "id": "676e730f-63d9-4f13-8214-53ff87ae19fb",
   "metadata": {},
   "outputs": [],
   "source": [
    "import os\n",
    "from skimage import io"
   ]
  },
  {
   "cell_type": "code",
   "execution_count": 26,
   "id": "540024d2-2a3e-435d-a1f2-d09b592d2dcb",
   "metadata": {},
   "outputs": [
    {
     "name": "stdout",
     "output_type": "stream",
     "text": [
      "replacing image /home/exacloud/gscratch/HeiserLab/images/HC00901/A5/field_1/HC00901_P_A5_1_03d07h00m.tif\n",
      "replacing image /home/exacloud/gscratch/HeiserLab/images/HC00901/A5/field_1/HC00901_G_A5_1_03d07h00m.tif\n",
      "replacing image /home/exacloud/gscratch/HeiserLab/images/HC00901/A5/field_1/HC00901_R_A5_1_03d07h00m.tif\n"
     ]
    },
    {
     "name": "stderr",
     "output_type": "stream",
     "text": [
      "/tmp/ipykernel_109547/3264339642.py:15: UserWarning: /home/exacloud/gscratch/HeiserLab/images/HC00901/A5/field_1/HC00901_G_A5_1_03d07h00m.tif is a low contrast image\n",
      "  io.imsave(filename, image)\n",
      "/tmp/ipykernel_109547/3264339642.py:15: UserWarning: /home/exacloud/gscratch/HeiserLab/images/HC00901/A5/field_1/HC00901_R_A5_1_03d07h00m.tif is a low contrast image\n",
      "  io.imsave(filename, image)\n"
     ]
    },
    {
     "name": "stdout",
     "output_type": "stream",
     "text": [
      "replacing image /home/exacloud/gscratch/HeiserLab/images/HC00901/A5/field_2/HC00901_P_A5_2_03d07h00m.tif\n",
      "replacing image /home/exacloud/gscratch/HeiserLab/images/HC00901/A5/field_2/HC00901_G_A5_2_03d07h00m.tif\n"
     ]
    },
    {
     "name": "stderr",
     "output_type": "stream",
     "text": [
      "/tmp/ipykernel_109547/3264339642.py:15: UserWarning: /home/exacloud/gscratch/HeiserLab/images/HC00901/A5/field_2/HC00901_G_A5_2_03d07h00m.tif is a low contrast image\n",
      "  io.imsave(filename, image)\n",
      "/tmp/ipykernel_109547/3264339642.py:15: UserWarning: /home/exacloud/gscratch/HeiserLab/images/HC00901/A5/field_2/HC00901_R_A5_2_03d07h00m.tif is a low contrast image\n",
      "  io.imsave(filename, image)\n"
     ]
    },
    {
     "name": "stdout",
     "output_type": "stream",
     "text": [
      "replacing image /home/exacloud/gscratch/HeiserLab/images/HC00901/A5/field_2/HC00901_R_A5_2_03d07h00m.tif\n",
      "replacing image /home/exacloud/gscratch/HeiserLab/images/HC00901/A5/field_3/HC00901_P_A5_3_03d07h00m.tif\n",
      "replacing image /home/exacloud/gscratch/HeiserLab/images/HC00901/A5/field_3/HC00901_G_A5_3_03d07h00m.tif\n",
      "replacing image /home/exacloud/gscratch/HeiserLab/images/HC00901/A5/field_3/HC00901_R_A5_3_03d07h00m.tif\n"
     ]
    },
    {
     "name": "stderr",
     "output_type": "stream",
     "text": [
      "/tmp/ipykernel_109547/3264339642.py:15: UserWarning: /home/exacloud/gscratch/HeiserLab/images/HC00901/A5/field_3/HC00901_G_A5_3_03d07h00m.tif is a low contrast image\n",
      "  io.imsave(filename, image)\n",
      "/tmp/ipykernel_109547/3264339642.py:15: UserWarning: /home/exacloud/gscratch/HeiserLab/images/HC00901/A5/field_3/HC00901_R_A5_3_03d07h00m.tif is a low contrast image\n",
      "  io.imsave(filename, image)\n"
     ]
    },
    {
     "name": "stdout",
     "output_type": "stream",
     "text": [
      "replacing image /home/exacloud/gscratch/HeiserLab/images/HC00901/A5/field_4/HC00901_P_A5_4_03d07h00m.tif\n",
      "replacing image /home/exacloud/gscratch/HeiserLab/images/HC00901/A5/field_4/HC00901_G_A5_4_03d07h00m.tif\n"
     ]
    },
    {
     "name": "stderr",
     "output_type": "stream",
     "text": [
      "/tmp/ipykernel_109547/3264339642.py:15: UserWarning: /home/exacloud/gscratch/HeiserLab/images/HC00901/A5/field_4/HC00901_G_A5_4_03d07h00m.tif is a low contrast image\n",
      "  io.imsave(filename, image)\n",
      "/tmp/ipykernel_109547/3264339642.py:15: UserWarning: /home/exacloud/gscratch/HeiserLab/images/HC00901/A5/field_4/HC00901_R_A5_4_03d07h00m.tif is a low contrast image\n",
      "  io.imsave(filename, image)\n"
     ]
    },
    {
     "name": "stdout",
     "output_type": "stream",
     "text": [
      "replacing image /home/exacloud/gscratch/HeiserLab/images/HC00901/A5/field_4/HC00901_R_A5_4_03d07h00m.tif\n",
      "replacing image /home/exacloud/gscratch/HeiserLab/images/HC00901/A6/field_1/HC00901_P_A6_1_03d07h00m.tif\n",
      "replacing image /home/exacloud/gscratch/HeiserLab/images/HC00901/A6/field_1/HC00901_G_A6_1_03d07h00m.tif\n",
      "replacing image /home/exacloud/gscratch/HeiserLab/images/HC00901/A6/field_1/HC00901_R_A6_1_03d07h00m.tif\n"
     ]
    },
    {
     "name": "stderr",
     "output_type": "stream",
     "text": [
      "/tmp/ipykernel_109547/3264339642.py:15: UserWarning: /home/exacloud/gscratch/HeiserLab/images/HC00901/A6/field_1/HC00901_G_A6_1_03d07h00m.tif is a low contrast image\n",
      "  io.imsave(filename, image)\n",
      "/tmp/ipykernel_109547/3264339642.py:15: UserWarning: /home/exacloud/gscratch/HeiserLab/images/HC00901/A6/field_1/HC00901_R_A6_1_03d07h00m.tif is a low contrast image\n",
      "  io.imsave(filename, image)\n"
     ]
    },
    {
     "name": "stdout",
     "output_type": "stream",
     "text": [
      "replacing image /home/exacloud/gscratch/HeiserLab/images/HC00901/A6/field_2/HC00901_P_A6_2_03d07h00m.tif\n",
      "replacing image /home/exacloud/gscratch/HeiserLab/images/HC00901/A6/field_2/HC00901_G_A6_2_03d07h00m.tif\n"
     ]
    },
    {
     "name": "stderr",
     "output_type": "stream",
     "text": [
      "/tmp/ipykernel_109547/3264339642.py:15: UserWarning: /home/exacloud/gscratch/HeiserLab/images/HC00901/A6/field_2/HC00901_G_A6_2_03d07h00m.tif is a low contrast image\n",
      "  io.imsave(filename, image)\n",
      "/tmp/ipykernel_109547/3264339642.py:15: UserWarning: /home/exacloud/gscratch/HeiserLab/images/HC00901/A6/field_2/HC00901_R_A6_2_03d07h00m.tif is a low contrast image\n",
      "  io.imsave(filename, image)\n"
     ]
    },
    {
     "name": "stdout",
     "output_type": "stream",
     "text": [
      "replacing image /home/exacloud/gscratch/HeiserLab/images/HC00901/A6/field_2/HC00901_R_A6_2_03d07h00m.tif\n",
      "replacing image /home/exacloud/gscratch/HeiserLab/images/HC00901/A6/field_3/HC00901_P_A6_3_03d07h00m.tif\n",
      "replacing image /home/exacloud/gscratch/HeiserLab/images/HC00901/A6/field_3/HC00901_G_A6_3_03d07h00m.tif\n",
      "replacing image /home/exacloud/gscratch/HeiserLab/images/HC00901/A6/field_3/HC00901_R_A6_3_03d07h00m.tif\n"
     ]
    },
    {
     "name": "stderr",
     "output_type": "stream",
     "text": [
      "/tmp/ipykernel_109547/3264339642.py:15: UserWarning: /home/exacloud/gscratch/HeiserLab/images/HC00901/A6/field_3/HC00901_G_A6_3_03d07h00m.tif is a low contrast image\n",
      "  io.imsave(filename, image)\n",
      "/tmp/ipykernel_109547/3264339642.py:15: UserWarning: /home/exacloud/gscratch/HeiserLab/images/HC00901/A6/field_3/HC00901_R_A6_3_03d07h00m.tif is a low contrast image\n",
      "  io.imsave(filename, image)\n"
     ]
    },
    {
     "name": "stdout",
     "output_type": "stream",
     "text": [
      "replacing image /home/exacloud/gscratch/HeiserLab/images/HC00901/A6/field_4/HC00901_P_A6_4_03d07h00m.tif\n",
      "replacing image /home/exacloud/gscratch/HeiserLab/images/HC00901/A6/field_4/HC00901_G_A6_4_03d07h00m.tif\n"
     ]
    },
    {
     "name": "stderr",
     "output_type": "stream",
     "text": [
      "/tmp/ipykernel_109547/3264339642.py:15: UserWarning: /home/exacloud/gscratch/HeiserLab/images/HC00901/A6/field_4/HC00901_G_A6_4_03d07h00m.tif is a low contrast image\n",
      "  io.imsave(filename, image)\n",
      "/tmp/ipykernel_109547/3264339642.py:15: UserWarning: /home/exacloud/gscratch/HeiserLab/images/HC00901/A6/field_4/HC00901_R_A6_4_03d07h00m.tif is a low contrast image\n",
      "  io.imsave(filename, image)\n"
     ]
    },
    {
     "name": "stdout",
     "output_type": "stream",
     "text": [
      "replacing image /home/exacloud/gscratch/HeiserLab/images/HC00901/A6/field_4/HC00901_R_A6_4_03d07h00m.tif\n",
      "replacing image /home/exacloud/gscratch/HeiserLab/images/HC00901/B5/field_1/HC00901_P_B5_1_03d07h00m.tif\n",
      "replacing image /home/exacloud/gscratch/HeiserLab/images/HC00901/B5/field_1/HC00901_G_B5_1_03d07h00m.tif\n",
      "replacing image /home/exacloud/gscratch/HeiserLab/images/HC00901/B5/field_1/HC00901_R_B5_1_03d07h00m.tif\n"
     ]
    },
    {
     "name": "stderr",
     "output_type": "stream",
     "text": [
      "/tmp/ipykernel_109547/3264339642.py:15: UserWarning: /home/exacloud/gscratch/HeiserLab/images/HC00901/B5/field_1/HC00901_G_B5_1_03d07h00m.tif is a low contrast image\n",
      "  io.imsave(filename, image)\n",
      "/tmp/ipykernel_109547/3264339642.py:15: UserWarning: /home/exacloud/gscratch/HeiserLab/images/HC00901/B5/field_1/HC00901_R_B5_1_03d07h00m.tif is a low contrast image\n",
      "  io.imsave(filename, image)\n"
     ]
    },
    {
     "name": "stdout",
     "output_type": "stream",
     "text": [
      "replacing image /home/exacloud/gscratch/HeiserLab/images/HC00901/B5/field_2/HC00901_P_B5_2_03d07h00m.tif\n",
      "replacing image /home/exacloud/gscratch/HeiserLab/images/HC00901/B5/field_2/HC00901_G_B5_2_03d07h00m.tif\n"
     ]
    },
    {
     "name": "stderr",
     "output_type": "stream",
     "text": [
      "/tmp/ipykernel_109547/3264339642.py:15: UserWarning: /home/exacloud/gscratch/HeiserLab/images/HC00901/B5/field_2/HC00901_G_B5_2_03d07h00m.tif is a low contrast image\n",
      "  io.imsave(filename, image)\n",
      "/tmp/ipykernel_109547/3264339642.py:15: UserWarning: /home/exacloud/gscratch/HeiserLab/images/HC00901/B5/field_2/HC00901_R_B5_2_03d07h00m.tif is a low contrast image\n",
      "  io.imsave(filename, image)\n"
     ]
    },
    {
     "name": "stdout",
     "output_type": "stream",
     "text": [
      "replacing image /home/exacloud/gscratch/HeiserLab/images/HC00901/B5/field_2/HC00901_R_B5_2_03d07h00m.tif\n",
      "replacing image /home/exacloud/gscratch/HeiserLab/images/HC00901/B5/field_3/HC00901_P_B5_3_03d07h00m.tif\n",
      "replacing image /home/exacloud/gscratch/HeiserLab/images/HC00901/B5/field_3/HC00901_G_B5_3_03d07h00m.tif\n",
      "replacing image /home/exacloud/gscratch/HeiserLab/images/HC00901/B5/field_3/HC00901_R_B5_3_03d07h00m.tif\n"
     ]
    },
    {
     "name": "stderr",
     "output_type": "stream",
     "text": [
      "/tmp/ipykernel_109547/3264339642.py:15: UserWarning: /home/exacloud/gscratch/HeiserLab/images/HC00901/B5/field_3/HC00901_G_B5_3_03d07h00m.tif is a low contrast image\n",
      "  io.imsave(filename, image)\n",
      "/tmp/ipykernel_109547/3264339642.py:15: UserWarning: /home/exacloud/gscratch/HeiserLab/images/HC00901/B5/field_3/HC00901_R_B5_3_03d07h00m.tif is a low contrast image\n",
      "  io.imsave(filename, image)\n"
     ]
    },
    {
     "name": "stdout",
     "output_type": "stream",
     "text": [
      "replacing image /home/exacloud/gscratch/HeiserLab/images/HC00901/B5/field_4/HC00901_P_B5_4_03d07h00m.tif\n",
      "replacing image /home/exacloud/gscratch/HeiserLab/images/HC00901/B5/field_4/HC00901_G_B5_4_03d07h00m.tif\n"
     ]
    },
    {
     "name": "stderr",
     "output_type": "stream",
     "text": [
      "/tmp/ipykernel_109547/3264339642.py:15: UserWarning: /home/exacloud/gscratch/HeiserLab/images/HC00901/B5/field_4/HC00901_G_B5_4_03d07h00m.tif is a low contrast image\n",
      "  io.imsave(filename, image)\n",
      "/tmp/ipykernel_109547/3264339642.py:15: UserWarning: /home/exacloud/gscratch/HeiserLab/images/HC00901/B5/field_4/HC00901_R_B5_4_03d07h00m.tif is a low contrast image\n",
      "  io.imsave(filename, image)\n"
     ]
    },
    {
     "name": "stdout",
     "output_type": "stream",
     "text": [
      "replacing image /home/exacloud/gscratch/HeiserLab/images/HC00901/B5/field_4/HC00901_R_B5_4_03d07h00m.tif\n",
      "replacing image /home/exacloud/gscratch/HeiserLab/images/HC00901/B6/field_1/HC00901_P_B6_1_03d07h00m.tif\n",
      "replacing image /home/exacloud/gscratch/HeiserLab/images/HC00901/B6/field_1/HC00901_G_B6_1_03d07h00m.tif\n",
      "replacing image /home/exacloud/gscratch/HeiserLab/images/HC00901/B6/field_1/HC00901_R_B6_1_03d07h00m.tif\n"
     ]
    },
    {
     "name": "stderr",
     "output_type": "stream",
     "text": [
      "/tmp/ipykernel_109547/3264339642.py:15: UserWarning: /home/exacloud/gscratch/HeiserLab/images/HC00901/B6/field_1/HC00901_G_B6_1_03d07h00m.tif is a low contrast image\n",
      "  io.imsave(filename, image)\n",
      "/tmp/ipykernel_109547/3264339642.py:15: UserWarning: /home/exacloud/gscratch/HeiserLab/images/HC00901/B6/field_1/HC00901_R_B6_1_03d07h00m.tif is a low contrast image\n",
      "  io.imsave(filename, image)\n"
     ]
    },
    {
     "name": "stdout",
     "output_type": "stream",
     "text": [
      "replacing image /home/exacloud/gscratch/HeiserLab/images/HC00901/B6/field_2/HC00901_P_B6_2_03d07h00m.tif\n",
      "replacing image /home/exacloud/gscratch/HeiserLab/images/HC00901/B6/field_2/HC00901_G_B6_2_03d07h00m.tif\n"
     ]
    },
    {
     "name": "stderr",
     "output_type": "stream",
     "text": [
      "/tmp/ipykernel_109547/3264339642.py:15: UserWarning: /home/exacloud/gscratch/HeiserLab/images/HC00901/B6/field_2/HC00901_G_B6_2_03d07h00m.tif is a low contrast image\n",
      "  io.imsave(filename, image)\n",
      "/tmp/ipykernel_109547/3264339642.py:15: UserWarning: /home/exacloud/gscratch/HeiserLab/images/HC00901/B6/field_2/HC00901_R_B6_2_03d07h00m.tif is a low contrast image\n",
      "  io.imsave(filename, image)\n"
     ]
    },
    {
     "name": "stdout",
     "output_type": "stream",
     "text": [
      "replacing image /home/exacloud/gscratch/HeiserLab/images/HC00901/B6/field_2/HC00901_R_B6_2_03d07h00m.tif\n",
      "replacing image /home/exacloud/gscratch/HeiserLab/images/HC00901/B6/field_3/HC00901_P_B6_3_03d07h00m.tif\n",
      "replacing image /home/exacloud/gscratch/HeiserLab/images/HC00901/B6/field_3/HC00901_G_B6_3_03d07h00m.tif\n",
      "replacing image /home/exacloud/gscratch/HeiserLab/images/HC00901/B6/field_3/HC00901_R_B6_3_03d07h00m.tif\n"
     ]
    },
    {
     "name": "stderr",
     "output_type": "stream",
     "text": [
      "/tmp/ipykernel_109547/3264339642.py:15: UserWarning: /home/exacloud/gscratch/HeiserLab/images/HC00901/B6/field_3/HC00901_G_B6_3_03d07h00m.tif is a low contrast image\n",
      "  io.imsave(filename, image)\n",
      "/tmp/ipykernel_109547/3264339642.py:15: UserWarning: /home/exacloud/gscratch/HeiserLab/images/HC00901/B6/field_3/HC00901_R_B6_3_03d07h00m.tif is a low contrast image\n",
      "  io.imsave(filename, image)\n"
     ]
    },
    {
     "name": "stdout",
     "output_type": "stream",
     "text": [
      "replacing image /home/exacloud/gscratch/HeiserLab/images/HC00901/B6/field_4/HC00901_P_B6_4_03d07h00m.tif\n",
      "replacing image /home/exacloud/gscratch/HeiserLab/images/HC00901/B6/field_4/HC00901_G_B6_4_03d07h00m.tif\n"
     ]
    },
    {
     "name": "stderr",
     "output_type": "stream",
     "text": [
      "/tmp/ipykernel_109547/3264339642.py:15: UserWarning: /home/exacloud/gscratch/HeiserLab/images/HC00901/B6/field_4/HC00901_G_B6_4_03d07h00m.tif is a low contrast image\n",
      "  io.imsave(filename, image)\n",
      "/tmp/ipykernel_109547/3264339642.py:15: UserWarning: /home/exacloud/gscratch/HeiserLab/images/HC00901/B6/field_4/HC00901_R_B6_4_03d07h00m.tif is a low contrast image\n",
      "  io.imsave(filename, image)\n"
     ]
    },
    {
     "name": "stdout",
     "output_type": "stream",
     "text": [
      "replacing image /home/exacloud/gscratch/HeiserLab/images/HC00901/B6/field_4/HC00901_R_B6_4_03d07h00m.tif\n",
      "replacing image /home/exacloud/gscratch/HeiserLab/images/HC00901/C6/field_1/HC00901_P_C6_1_03d07h00m.tif\n",
      "replacing image /home/exacloud/gscratch/HeiserLab/images/HC00901/C6/field_1/HC00901_G_C6_1_03d07h00m.tif\n",
      "replacing image /home/exacloud/gscratch/HeiserLab/images/HC00901/C6/field_1/HC00901_R_C6_1_03d07h00m.tif\n"
     ]
    },
    {
     "name": "stderr",
     "output_type": "stream",
     "text": [
      "/tmp/ipykernel_109547/3264339642.py:15: UserWarning: /home/exacloud/gscratch/HeiserLab/images/HC00901/C6/field_1/HC00901_G_C6_1_03d07h00m.tif is a low contrast image\n",
      "  io.imsave(filename, image)\n",
      "/tmp/ipykernel_109547/3264339642.py:15: UserWarning: /home/exacloud/gscratch/HeiserLab/images/HC00901/C6/field_1/HC00901_R_C6_1_03d07h00m.tif is a low contrast image\n",
      "  io.imsave(filename, image)\n"
     ]
    },
    {
     "name": "stdout",
     "output_type": "stream",
     "text": [
      "replacing image /home/exacloud/gscratch/HeiserLab/images/HC00901/C6/field_2/HC00901_P_C6_2_03d07h00m.tif\n",
      "replacing image /home/exacloud/gscratch/HeiserLab/images/HC00901/C6/field_2/HC00901_G_C6_2_03d07h00m.tif\n",
      "replacing image /home/exacloud/gscratch/HeiserLab/images/HC00901/C6/field_2/HC00901_R_C6_2_03d07h00m.tif\n"
     ]
    },
    {
     "name": "stderr",
     "output_type": "stream",
     "text": [
      "/tmp/ipykernel_109547/3264339642.py:15: UserWarning: /home/exacloud/gscratch/HeiserLab/images/HC00901/C6/field_2/HC00901_G_C6_2_03d07h00m.tif is a low contrast image\n",
      "  io.imsave(filename, image)\n",
      "/tmp/ipykernel_109547/3264339642.py:15: UserWarning: /home/exacloud/gscratch/HeiserLab/images/HC00901/C6/field_2/HC00901_R_C6_2_03d07h00m.tif is a low contrast image\n",
      "  io.imsave(filename, image)\n"
     ]
    },
    {
     "name": "stdout",
     "output_type": "stream",
     "text": [
      "replacing image /home/exacloud/gscratch/HeiserLab/images/HC00901/C6/field_3/HC00901_P_C6_3_03d07h00m.tif\n",
      "replacing image /home/exacloud/gscratch/HeiserLab/images/HC00901/C6/field_3/HC00901_G_C6_3_03d07h00m.tif\n"
     ]
    },
    {
     "name": "stderr",
     "output_type": "stream",
     "text": [
      "/tmp/ipykernel_109547/3264339642.py:15: UserWarning: /home/exacloud/gscratch/HeiserLab/images/HC00901/C6/field_3/HC00901_G_C6_3_03d07h00m.tif is a low contrast image\n",
      "  io.imsave(filename, image)\n",
      "/tmp/ipykernel_109547/3264339642.py:15: UserWarning: /home/exacloud/gscratch/HeiserLab/images/HC00901/C6/field_3/HC00901_R_C6_3_03d07h00m.tif is a low contrast image\n",
      "  io.imsave(filename, image)\n"
     ]
    },
    {
     "name": "stdout",
     "output_type": "stream",
     "text": [
      "replacing image /home/exacloud/gscratch/HeiserLab/images/HC00901/C6/field_3/HC00901_R_C6_3_03d07h00m.tif\n",
      "replacing image /home/exacloud/gscratch/HeiserLab/images/HC00901/C6/field_4/HC00901_P_C6_4_03d07h00m.tif\n",
      "replacing image /home/exacloud/gscratch/HeiserLab/images/HC00901/C6/field_4/HC00901_G_C6_4_03d07h00m.tif\n",
      "replacing image /home/exacloud/gscratch/HeiserLab/images/HC00901/C6/field_4/HC00901_R_C6_4_03d07h00m.tif\n"
     ]
    },
    {
     "name": "stderr",
     "output_type": "stream",
     "text": [
      "/tmp/ipykernel_109547/3264339642.py:15: UserWarning: /home/exacloud/gscratch/HeiserLab/images/HC00901/C6/field_4/HC00901_G_C6_4_03d07h00m.tif is a low contrast image\n",
      "  io.imsave(filename, image)\n",
      "/tmp/ipykernel_109547/3264339642.py:15: UserWarning: /home/exacloud/gscratch/HeiserLab/images/HC00901/C6/field_4/HC00901_R_C6_4_03d07h00m.tif is a low contrast image\n",
      "  io.imsave(filename, image)\n"
     ]
    },
    {
     "name": "stdout",
     "output_type": "stream",
     "text": [
      "replacing image /home/exacloud/gscratch/HeiserLab/images/HC00901/D6/field_1/HC00901_P_D6_1_03d07h00m.tif\n",
      "replacing image /home/exacloud/gscratch/HeiserLab/images/HC00901/D6/field_1/HC00901_G_D6_1_03d07h00m.tif\n"
     ]
    },
    {
     "name": "stderr",
     "output_type": "stream",
     "text": [
      "/tmp/ipykernel_109547/3264339642.py:15: UserWarning: /home/exacloud/gscratch/HeiserLab/images/HC00901/D6/field_1/HC00901_G_D6_1_03d07h00m.tif is a low contrast image\n",
      "  io.imsave(filename, image)\n",
      "/tmp/ipykernel_109547/3264339642.py:15: UserWarning: /home/exacloud/gscratch/HeiserLab/images/HC00901/D6/field_1/HC00901_R_D6_1_03d07h00m.tif is a low contrast image\n",
      "  io.imsave(filename, image)\n"
     ]
    },
    {
     "name": "stdout",
     "output_type": "stream",
     "text": [
      "replacing image /home/exacloud/gscratch/HeiserLab/images/HC00901/D6/field_1/HC00901_R_D6_1_03d07h00m.tif\n",
      "replacing image /home/exacloud/gscratch/HeiserLab/images/HC00901/D6/field_2/HC00901_P_D6_2_03d07h00m.tif\n",
      "replacing image /home/exacloud/gscratch/HeiserLab/images/HC00901/D6/field_2/HC00901_G_D6_2_03d07h00m.tif\n"
     ]
    },
    {
     "name": "stderr",
     "output_type": "stream",
     "text": [
      "/tmp/ipykernel_109547/3264339642.py:15: UserWarning: /home/exacloud/gscratch/HeiserLab/images/HC00901/D6/field_2/HC00901_G_D6_2_03d07h00m.tif is a low contrast image\n",
      "  io.imsave(filename, image)\n",
      "/tmp/ipykernel_109547/3264339642.py:15: UserWarning: /home/exacloud/gscratch/HeiserLab/images/HC00901/D6/field_2/HC00901_R_D6_2_03d07h00m.tif is a low contrast image\n",
      "  io.imsave(filename, image)\n"
     ]
    },
    {
     "name": "stdout",
     "output_type": "stream",
     "text": [
      "replacing image /home/exacloud/gscratch/HeiserLab/images/HC00901/D6/field_2/HC00901_R_D6_2_03d07h00m.tif\n",
      "replacing image /home/exacloud/gscratch/HeiserLab/images/HC00901/D6/field_3/HC00901_P_D6_3_03d07h00m.tif\n",
      "replacing image /home/exacloud/gscratch/HeiserLab/images/HC00901/D6/field_3/HC00901_G_D6_3_03d07h00m.tif\n",
      "replacing image /home/exacloud/gscratch/HeiserLab/images/HC00901/D6/field_3/HC00901_R_D6_3_03d07h00m.tif\n"
     ]
    },
    {
     "name": "stderr",
     "output_type": "stream",
     "text": [
      "/tmp/ipykernel_109547/3264339642.py:15: UserWarning: /home/exacloud/gscratch/HeiserLab/images/HC00901/D6/field_3/HC00901_G_D6_3_03d07h00m.tif is a low contrast image\n",
      "  io.imsave(filename, image)\n",
      "/tmp/ipykernel_109547/3264339642.py:15: UserWarning: /home/exacloud/gscratch/HeiserLab/images/HC00901/D6/field_3/HC00901_R_D6_3_03d07h00m.tif is a low contrast image\n",
      "  io.imsave(filename, image)\n"
     ]
    },
    {
     "name": "stdout",
     "output_type": "stream",
     "text": [
      "replacing image /home/exacloud/gscratch/HeiserLab/images/HC00901/D6/field_4/HC00901_P_D6_4_03d07h00m.tif\n",
      "replacing image /home/exacloud/gscratch/HeiserLab/images/HC00901/D6/field_4/HC00901_G_D6_4_03d07h00m.tif\n"
     ]
    },
    {
     "name": "stderr",
     "output_type": "stream",
     "text": [
      "/tmp/ipykernel_109547/3264339642.py:15: UserWarning: /home/exacloud/gscratch/HeiserLab/images/HC00901/D6/field_4/HC00901_G_D6_4_03d07h00m.tif is a low contrast image\n",
      "  io.imsave(filename, image)\n"
     ]
    },
    {
     "name": "stdout",
     "output_type": "stream",
     "text": [
      "replacing image /home/exacloud/gscratch/HeiserLab/images/HC00901/D6/field_4/HC00901_R_D6_4_03d07h00m.tif\n"
     ]
    },
    {
     "name": "stderr",
     "output_type": "stream",
     "text": [
      "/tmp/ipykernel_109547/3264339642.py:15: UserWarning: /home/exacloud/gscratch/HeiserLab/images/HC00901/D6/field_4/HC00901_R_D6_4_03d07h00m.tif is a low contrast image\n",
      "  io.imsave(filename, image)\n"
     ]
    }
   ],
   "source": [
    "data_path = \"/home/exacloud/gscratch/HeiserLab/images/\"\n",
    "well_list = (\"A5\", \"A6\", \"B5\", \"B6\", \"C6\", \"D6\")\n",
    "field_num_list = (1,2,3,4)\n",
    "plateID = \"HC00901\"\n",
    "\n",
    "time_slice_to_remove = \"03d07h00m\"\n",
    "time_slice_replacement =  \"03d06h30m\"\n",
    "\n",
    "for well in well_list:\n",
    "    for field_num in field_num_list:\n",
    "        for channel in (\"P\", \"G\", \"R\"):\n",
    "            filename = os.path.join(data_path, plateID, well, \"field_\"+str(field_num), plateID+\"_\"+channel+\"_\"+well+\"_\"+str(field_num)+\"_\"+time_slice+\".tif\")\n",
    "            print(\"replacing image \"+filename)\n",
    "            image = io.imread(filename.replace(time_slice_to_remove,time_slice_replacement))\n",
    "            io.imsave(filename, image, check_contrast = False)\n"
   ]
  },
  {
   "cell_type": "code",
   "execution_count": null,
   "id": "de91289e-92f4-467f-8371-c7617f4d3ca6",
   "metadata": {},
   "outputs": [],
   "source": []
  }
 ],
 "metadata": {
  "kernelspec": {
   "display_name": "Python 3 (ipykernel)",
   "language": "python",
   "name": "python3"
  },
  "language_info": {
   "codemirror_mode": {
    "name": "ipython",
    "version": 3
   },
   "file_extension": ".py",
   "mimetype": "text/x-python",
   "name": "python",
   "nbconvert_exporter": "python",
   "pygments_lexer": "ipython3",
   "version": "3.8.12"
  }
 },
 "nbformat": 4,
 "nbformat_minor": 5
}
