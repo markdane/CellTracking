{
 "cells": [
  {
   "cell_type": "markdown",
   "metadata": {},
   "source": [
    "# Using btrack with napari\n"
   ]
  },
  {
   "cell_type": "code",
   "execution_count": 1,
   "metadata": {},
   "outputs": [
    {
     "name": "stderr",
     "output_type": "stream",
     "text": [
      "<frozen importlib._bootstrap>:219: RuntimeWarning: scipy._lib.messagestream.MessageStream size changed, may indicate binary incompatibility. Expected 56 from C header, got 64 from PyObject\n"
     ]
    }
   ],
   "source": [
    "import os\n",
    "import json\n",
    "\n",
    "import btrack\n",
    "import napari\n",
    "\n",
    "import numpy as np\n",
    "import pandas as pd\n",
    "\n",
    "from skimage import io\n",
    "from napari.utils import nbscreenshot"
   ]
  },
  {
   "cell_type": "code",
   "execution_count": 2,
   "metadata": {},
   "outputs": [
    {
     "name": "stdout",
     "output_type": "stream",
     "text": [
      "0.4.3\n"
     ]
    }
   ],
   "source": [
    "print(btrack.__version__)"
   ]
  },
  {
   "cell_type": "code",
   "execution_count": 3,
   "metadata": {},
   "outputs": [],
   "source": [
    "objects = btrack.dataio.import_CSV('napari_example.csv')"
   ]
  },
  {
   "cell_type": "code",
   "execution_count": 4,
   "metadata": {},
   "outputs": [
    {
     "data": {
      "text/html": [
       "<table border=\"1\" class=\"dataframe\">\n",
       "  <thead>\n",
       "    <tr style=\"text-align: right;\">\n",
       "      <th></th>\n",
       "      <th>ID</th>\n",
       "      <th>x</th>\n",
       "      <th>y</th>\n",
       "      <th>z</th>\n",
       "      <th>t</th>\n",
       "      <th>dummy</th>\n",
       "      <th>states</th>\n",
       "      <th>label</th>\n",
       "      <th>prob</th>\n",
       "    </tr>\n",
       "  </thead>\n",
       "  <tbody>\n",
       "    <tr>\n",
       "      <th>0</th>\n",
       "      <td>0</td>\n",
       "      <td>517.559509</td>\n",
       "      <td>9.081633</td>\n",
       "      <td>0.0</td>\n",
       "      <td>0</td>\n",
       "      <td>False</td>\n",
       "      <td>0</td>\n",
       "      <td>0</td>\n",
       "      <td>0.0</td>\n",
       "    </tr>\n",
       "  </tbody>\n",
       "</table>"
      ],
      "text/plain": [
       "{'ID': 0, 'x': 517.5595092773438, 'y': 9.081632614135742, 'z': 0.0, 't': 0, 'dummy': False, 'states': 0, 'label': 0, 'prob': 0.0}"
      ]
     },
     "execution_count": 4,
     "metadata": {},
     "output_type": "execute_result"
    }
   ],
   "source": [
    "objects[0]"
   ]
  },
  {
   "cell_type": "code",
   "execution_count": 5,
   "metadata": {},
   "outputs": [
    {
     "name": "stderr",
     "output_type": "stream",
     "text": [
      "[INFO][2022/02/16 02:31:56 PM] Loaded btrack: /Users/dane/Documents/CellTrackingProjects/CellTracking/BayesianTracker/btrack/libs/libtracker.dylib\n",
      "[INFO][2022/02/16 02:31:56 PM] btrack (v0.4.3) library imported\n",
      "[INFO][2022/02/16 02:31:56 PM] Setting max XYZ search radius to: 100\n",
      "[INFO][2022/02/16 02:31:56 PM] Starting BayesianTracker session\n",
      "[INFO][2022/02/16 02:31:56 PM] Loading configuration file: ../models/cell_config.json\n",
      "[INFO][2022/02/16 02:31:56 PM] Loading motion model: cell_motion\n",
      "[INFO][2022/02/16 02:31:56 PM] Objects are of type: <class 'list'>\n",
      "[INFO][2022/02/16 02:31:56 PM] Set volume to ((0, 1600), (0, 1200), (-100000.0, 100000.0))\n",
      "[INFO][2022/02/16 02:31:56 PM] Starting tracking... \n",
      "[INFO][2022/02/16 02:31:56 PM] Tracking objects in frames 0 to 99 (of 500)...\n"
     ]
    },
    {
     "name": "stdout",
     "output_type": "stream",
     "text": [
      "Instantiating BTRACK interface wrapper (v0.4.3, compiled Feb 12 2022 at 09:57:38)\n"
     ]
    },
    {
     "name": "stderr",
     "output_type": "stream",
     "text": [
      "[INFO][2022/02/16 02:31:56 PM]  - Timing (Bayesian updates: 1.50ms, Linking: 0.30ms)\n",
      "[INFO][2022/02/16 02:31:56 PM]  - Probabilities (Link: 1.00000, Lost: 0.49482)\n",
      "[INFO][2022/02/16 02:31:56 PM]  - Stats (Active: 78, Lost: 194, Conflicts resolved: 110)\n",
      "[INFO][2022/02/16 02:31:56 PM] Tracking objects in frames 100 to 199 (of 500)...\n",
      "[INFO][2022/02/16 02:31:56 PM]  - Timing (Bayesian updates: 1.82ms, Linking: 0.32ms)\n",
      "[INFO][2022/02/16 02:31:56 PM]  - Probabilities (Link: 1.00000, Lost: 0.60258)\n",
      "[INFO][2022/02/16 02:31:56 PM]  - Stats (Active: 83, Lost: 326, Conflicts resolved: 187)\n",
      "[INFO][2022/02/16 02:31:56 PM] Tracking objects in frames 200 to 299 (of 500)...\n",
      "[INFO][2022/02/16 02:31:56 PM]  - Timing (Bayesian updates: 3.26ms, Linking: 0.44ms)\n",
      "[INFO][2022/02/16 02:31:56 PM]  - Probabilities (Link: 1.00000, Lost: 0.27376)\n",
      "[INFO][2022/02/16 02:31:56 PM]  - Stats (Active: 113, Lost: 574, Conflicts resolved: 276)\n",
      "[INFO][2022/02/16 02:31:56 PM] Tracking objects in frames 300 to 399 (of 500)...\n",
      "[INFO][2022/02/16 02:31:57 PM]  - Timing (Bayesian updates: 5.64ms, Linking: 0.53ms)\n",
      "[INFO][2022/02/16 02:31:57 PM]  - Probabilities (Link: 0.99997, Lost: 0.99982)\n",
      "[INFO][2022/02/16 02:31:57 PM]  - Stats (Active: 140, Lost: 1001, Conflicts resolved: 401)\n",
      "[INFO][2022/02/16 02:31:57 PM] Tracking objects in frames 400 to 499 (of 500)...\n",
      "[INFO][2022/02/16 02:31:58 PM]  - Timing (Bayesian updates: 9.60ms, Linking: 0.73ms)\n",
      "[INFO][2022/02/16 02:31:58 PM]  - Probabilities (Link: 1.00000, Lost: 1.00000)\n",
      "[INFO][2022/02/16 02:31:58 PM] SUCCESS.\n",
      "[INFO][2022/02/16 02:31:58 PM]  - Found 507 tracks in 500 frames (in 0.0s)\n",
      "[INFO][2022/02/16 02:31:58 PM]  - Inserted 97 dummy objects to fill tracking gaps\n",
      "[INFO][2022/02/16 02:31:58 PM] Loading hypothesis model: cell_hypothesis\n",
      "[INFO][2022/02/16 02:31:58 PM] Calculating hypotheses (relax: True)...\n",
      "[INFO][2022/02/16 02:31:58 PM] Setting up constraints matrix for global optimisation...\n",
      "[INFO][2022/02/16 02:31:58 PM] Optimizing...\n",
      "[INFO][2022/02/16 02:31:58 PM] Optimization complete. (Solution: optimal)\n",
      "[INFO][2022/02/16 02:31:58 PM]  - Fates.FALSE_POSITIVE: 507 (of 507)\n",
      "[INFO][2022/02/16 02:31:58 PM]  - TOTAL: 507 hypotheses\n",
      "[INFO][2022/02/16 02:31:58 PM] Completed optimization with 507 tracks\n",
      "[INFO][2022/02/16 02:31:58 PM] Ending BayesianTracker session\n"
     ]
    },
    {
     "name": "stdout",
     "output_type": "stream",
     "text": [
      "GLPK Integer Optimizer, v4.65\n",
      "2028 rows, 507 columns, 1014 non-zeros\n",
      "507 integer variables, all of which are binary\n",
      "Preprocessing...\n",
      "Objective value =   1.162644410e+05\n",
      "INTEGER OPTIMAL SOLUTION FOUND BY MIP PREPROCESSOR\n",
      "Deleting BTRACK interface wrapper\n"
     ]
    }
   ],
   "source": [
    "# initialise a tracker session using a context manager\n",
    "with btrack.BayesianTracker() as tracker:\n",
    "\n",
    "    # configure the tracker using a config file\n",
    "    tracker.configure_from_file('../models/cell_config.json')\n",
    "\n",
    "    # append the objects to be tracked\n",
    "    tracker.append(objects)\n",
    "\n",
    "    # set the volume (Z axis volume is set very large for 2D data)\n",
    "    tracker.volume=((0,1600), (0,1200), (-1e5,1e5))\n",
    "\n",
    "    # track them (in interactive mode)\n",
    "    tracker.track_interactive(step_size=100)\n",
    "\n",
    "    # generate hypotheses and run the global optimizer\n",
    "    tracker.optimize()\n",
    "\n",
    "#     tracker.export('./test3.hdf5', obj_type='obj_type_1')\n",
    "\n",
    "    # get the tracks in a format for napari visualization\n",
    "    data, properties, graph = tracker.to_napari(ndim=2)"
   ]
  },
  {
   "cell_type": "code",
   "execution_count": 6,
   "metadata": {},
   "outputs": [
    {
     "name": "stderr",
     "output_type": "stream",
     "text": [
      "/Users/dane/opt/miniconda3/envs/cellpose/lib/python3.8/site-packages/napari/_qt/qt_event_loop.py:265: FutureWarning: \n",
      "The 'gui_qt()' context manager is deprecated.\n",
      "If you are running napari from a script, please use 'napari.run()' as follows:\n",
      "\n",
      "    import napari\n",
      "\n",
      "    viewer = napari.Viewer()  # no prior setup needed\n",
      "    # other code using the viewer...\n",
      "    napari.run()\n",
      "\n",
      "In IPython or Jupyter, 'napari.run()' is not necessary. napari will automatically\n",
      "start an interactive event loop for you: \n",
      "\n",
      "    import napari\n",
      "    viewer = napari.Viewer()  # that's it!\n",
      "\n",
      "  warn(\n"
     ]
    },
    {
     "name": "stdout",
     "output_type": "stream",
     "text": [
      "Warning: QApplication was created before pyqtgraph was imported; there may be problems (to avoid bugs, call QApplication.setGraphicsSystem(\"raster\") before the QApplication is created).\n"
     ]
    }
   ],
   "source": [
    "with napari.gui_qt():\n",
    "    viewer = napari.Viewer()\n",
    "    viewer.add_tracks(data, properties=properties, graph=graph, name='tracks')"
   ]
  },
  {
   "cell_type": "code",
   "execution_count": 7,
   "metadata": {},
   "outputs": [
    {
     "data": {
      "text/plain": [
       "{}"
      ]
     },
     "execution_count": 7,
     "metadata": {},
     "output_type": "execute_result"
    }
   ],
   "source": [
    "graph"
   ]
  },
  {
   "cell_type": "code",
   "execution_count": 9,
   "metadata": {},
   "outputs": [
    {
     "data": {
      "text/plain": [
       "{'t': array([  0,   1,   0, ..., 499, 499, 499]),\n",
       " 'state': array([0, 2, 2, ..., 3, 3, 0]),\n",
       " 'generation': array([0, 0, 0, ..., 0, 0, 0]),\n",
       " 'root': array([  1,   1,   2, ..., 505, 506, 507]),\n",
       " 'parent': array([  1,   1,   2, ..., 505, 506, 507])}"
      ]
     },
     "execution_count": 9,
     "metadata": {},
     "output_type": "execute_result"
    }
   ],
   "source": [
    "properties"
   ]
  },
  {
   "cell_type": "code",
   "execution_count": 10,
   "metadata": {},
   "outputs": [
    {
     "data": {
      "text/plain": [
       "'/Users/dane/Documents/CellTrackingProjects/CellTracking/BayesianTracker/examples'"
      ]
     },
     "execution_count": 10,
     "metadata": {},
     "output_type": "execute_result"
    }
   ],
   "source": [
    "pwd"
   ]
  },
  {
   "cell_type": "code",
   "execution_count": null,
   "metadata": {},
   "outputs": [],
   "source": []
  }
 ],
 "metadata": {
  "kernelspec": {
   "display_name": "Python 3 (ipykernel)",
   "language": "python",
   "name": "python3"
  },
  "language_info": {
   "codemirror_mode": {
    "name": "ipython",
    "version": 3
   },
   "file_extension": ".py",
   "mimetype": "text/x-python",
   "name": "python",
   "nbconvert_exporter": "python",
   "pygments_lexer": "ipython3",
   "version": "3.8.12"
  }
 },
 "nbformat": 4,
 "nbformat_minor": 4
}
