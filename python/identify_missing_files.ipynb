{
 "cells": [
  {
   "cell_type": "markdown",
   "id": "b7b3e3bb-a373-4fad-80db-a7eba594fbc8",
   "metadata": {},
   "source": [
    "### Identify missing files\n",
    "\n",
    "list missing files before processing"
   ]
  },
  {
   "cell_type": "code",
   "execution_count": 5,
   "id": "d50f7b49-374f-4dc1-a9a7-0e2f0af71360",
   "metadata": {},
   "outputs": [],
   "source": [
    "#setup libraries\n",
    "import numpy as np\n",
    "import pandas as pd\n",
    "import os, re, glob, shutil, sys"
   ]
  },
  {
   "cell_type": "code",
   "execution_count": 6,
   "id": "cd1c6c83-0f93-459f-8c54-a5e965381033",
   "metadata": {},
   "outputs": [
    {
     "name": "stdout",
     "output_type": "stream",
     "text": [
      "get file names in /home/exacloud/gscratch/HeiserLab/images/2101301\n",
      "getting files for 2101301\n"
     ]
    }
   ],
   "source": [
    "directory_name = \"AU565_drug_screen\"\n",
    "directory_name = \"HCC1143_drug_screen\"\n",
    "directory_name = \"21MT1_drug_screen\"\n",
    "#directory_name = \"MDAMB157_drug_screen\"\n",
    "#directory_name = \"AU_I_L_006_01_1\"\n",
    "#directory_name = \"nlc_incucyte\"\n",
    "\n",
    "\n",
    "#directory_name = \"AU565_Drug_Screen_Project\" #used for files stored on graylab_share\n",
    "plateID = \"AU00601\"\n",
    "plateID = \"HC01401\"\n",
    "plateID = \"MD00601\"\n",
    "plateID = \"2101301\"\n",
    "#plateID = \"221006_nlc_hcc1143ccrep_sirna_ptx_p2\"\n",
    "\n",
    "def get_file_df(plateID):\n",
    "    print(\"getting files for \"+plateID)\n",
    "    #data_path =  '/home/groups/graylab_share/OMERO.rdsStore/liby/'+directory_name+'/'+plateID+\"/\"+plateID+'_IMAGES'\n",
    "    data_path =  '/home/groups/heiserlab_genomics/home/liby/'+directory_name+'/'+plateID+\"/\"+plateID+'_IMAGES'\n",
    "    #data_path =  '/home/groups/heiserlab_genomics/home/liby/'+directory_name+'/'+plateID+'_IMAGES'\n",
    "    #data_path = \"/home/groups/heiserlab_genomics/home/grossse/AU565 Project/AU565 Image Files/AU_I_L_006_01_1/AU_I_L_006_01_1_IMAGES\"\n",
    "    data_paths = glob.glob(os.path.join(data_path,\"*.tif\"),recursive=False)\n",
    "    df = pd.DataFrame(data_paths, columns =['path'])\n",
    "    df['filename'] = df['path'].str.extract('(\\w*.tif)')\n",
    "    df['plateID'] = df['filename'].str.extract('(^[a-zA-Z0-9]*)')\n",
    "    df['channel'] = df['filename'].str.extract('(_[PRG]_)')\n",
    "    df['channel'] = df['channel'].str.extract('([PRG])')\n",
    "    df['well'] = df['filename'].str.extract('(_[A-Z][0-9]+_)')\n",
    "    df['well'] = df['well'].str.extract('([A-Z][0-9]+)')\n",
    "    df['field'] = df['filename'].str.extract('(_[0-9]+_)')\n",
    "    df['field'] = df['field'].str.extract('([0-9]+)')\n",
    "    df['time'] = df['filename'].str.extract('(_[a-z0-9]*.tif)')\n",
    "    df['time'] = df['time'].str.replace('[_(.tif)]','',regex = True)\n",
    "    return df\n",
    "\n",
    "        \n",
    "dest_path = '/home/exacloud/gscratch/HeiserLab/images/'\n",
    "data_path =  '/home/groups/heiserlab_genomics/home/liby/'+directory_name+'/'+plateID+\"/\"+plateID+'_IMAGES/'\n",
    "#data_path =   '/home/groups/heiserlab_genomics/globus/calistri/'+directory_name+'/'+plateID\n",
    "\n",
    "\n",
    "print(\"get file names in \"+dest_path+plateID)\n",
    "df_dest = get_file_df(plateID)\n",
    "df_dest['dest_path'] = df_dest['plateID']+'/'+df_dest['well']+'/'+'field_'+df_dest['field']\n",
    "\n",
    "channels = np.unique(df_dest.channel)\n",
    "wells = np.unique(df_dest.well)\n",
    "fields = np.unique(df_dest.field)\n",
    "times = np.unique(df_dest.time)\n",
    "\n",
    "fullset = []\n",
    "for channel in channels:\n",
    "    for well in wells:\n",
    "        for field in fields:\n",
    "            for time in times:\n",
    "                fullset.append(data_path+plateID+\"_\"+channel+\"_\"+well+\"_\"+field+\"_\"+time+\".tif\")\n",
    "                \n",
    "df_missing_from_source = pd.DataFrame(set(fullset)-set(df_dest.path), columns =['path'])\n",
    "df_missing_from_source['filename'] = df_missing_from_source['path'].str.extract('(\\w*.tif)')\n",
    "\n",
    "df_missing_from_source['plateID'] = df_missing_from_source['filename'].str.extract('(^[a-zA-Z0-9]*)')\n",
    "df_missing_from_source['channel'] = df_missing_from_source['filename'].str.extract('(_[PRG]_)')\n",
    "df_missing_from_source['channel'] = df_missing_from_source['channel'].str.extract('([PRG])')\n",
    "df_missing_from_source['well'] = df_missing_from_source['filename'].str.extract('(_[A-Z][0-9]+_)')\n",
    "df_missing_from_source['well'] = df_missing_from_source['well'].str.extract('([A-Z][0-9]+)')\n",
    "df_missing_from_source['field'] = df_missing_from_source['filename'].str.extract('(_[0-9]+_)')\n",
    "df_missing_from_source['field'] = df_missing_from_source['field'].str.extract('([0-9]+)')\n",
    "df_missing_from_source['time'] = df_missing_from_source['filename'].str.extract('(_[a-z0-9]*.tif)')\n",
    "df_missing_from_source['time'] = df_missing_from_source['time'].str.replace('[_(.tif)]','',regex = True)\n",
    "time_slices = ['04d00h31m','04d01h01m','04d00h30m', '04d01h00m']\n",
    "# filter out time slices after 4 days\n",
    "df_missing_from_source = df_missing_from_source.loc[~df_missing_from_source['time'].isin(time_slices)].sort_values(by = ['channel', 'well', 'field', 'time'])\n",
    "df_missing_from_source.reset_index(drop=True, inplace=True)\n",
    "\n",
    "df_missing_from_source.to_csv(dest_path+plateID+\"/\"+plateID+\"_missing_files_from_incucyte.csv\")\n"
   ]
  },
  {
   "cell_type": "code",
   "execution_count": 7,
   "id": "7919d02f-cfff-458f-ae7c-57af367d01af",
   "metadata": {},
   "outputs": [
    {
     "data": {
      "text/html": [
       "<div>\n",
       "<style scoped>\n",
       "    .dataframe tbody tr th:only-of-type {\n",
       "        vertical-align: middle;\n",
       "    }\n",
       "\n",
       "    .dataframe tbody tr th {\n",
       "        vertical-align: top;\n",
       "    }\n",
       "\n",
       "    .dataframe thead th {\n",
       "        text-align: right;\n",
       "    }\n",
       "</style>\n",
       "<table border=\"1\" class=\"dataframe\">\n",
       "  <thead>\n",
       "    <tr style=\"text-align: right;\">\n",
       "      <th></th>\n",
       "      <th>path</th>\n",
       "      <th>filename</th>\n",
       "      <th>plateID</th>\n",
       "      <th>channel</th>\n",
       "      <th>well</th>\n",
       "      <th>field</th>\n",
       "      <th>time</th>\n",
       "    </tr>\n",
       "  </thead>\n",
       "  <tbody>\n",
       "  </tbody>\n",
       "</table>\n",
       "</div>"
      ],
      "text/plain": [
       "Empty DataFrame\n",
       "Columns: [path, filename, plateID, channel, well, field, time]\n",
       "Index: []"
      ]
     },
     "execution_count": 7,
     "metadata": {},
     "output_type": "execute_result"
    }
   ],
   "source": [
    "pd.set_option('display.max_colwidth', 200)  # or 199\n",
    "df_missing_from_source"
   ]
  },
  {
   "cell_type": "code",
   "execution_count": null,
   "id": "c2ee9b84-1e00-4706-b037-dbb05f2f7106",
   "metadata": {},
   "outputs": [],
   "source": []
  },
  {
   "cell_type": "code",
   "execution_count": null,
   "id": "c90cc44a-873a-45a3-bb10-b3a6327bae66",
   "metadata": {},
   "outputs": [],
   "source": []
  }
 ],
 "metadata": {
  "kernelspec": {
   "display_name": "Python 3 (ipykernel)",
   "language": "python",
   "name": "python3"
  },
  "language_info": {
   "codemirror_mode": {
    "name": "ipython",
    "version": 3
   },
   "file_extension": ".py",
   "mimetype": "text/x-python",
   "name": "python",
   "nbconvert_exporter": "python",
   "pygments_lexer": "ipython3",
   "version": "3.8.12"
  }
 },
 "nbformat": 4,
 "nbformat_minor": 5
}
