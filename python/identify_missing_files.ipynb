{
 "cells": [
  {
   "cell_type": "markdown",
   "id": "b7b3e3bb-a373-4fad-80db-a7eba594fbc8",
   "metadata": {},
   "source": [
    "### Identify missing files\n",
    "\n",
    "list missing files before processing"
   ]
  },
  {
   "cell_type": "code",
   "execution_count": null,
   "id": "d50f7b49-374f-4dc1-a9a7-0e2f0af71360",
   "metadata": {},
   "outputs": [],
   "source": [
    "#setup libraries\n",
    "import numpy as np\n",
    "import pandas as pd\n",
    "import os, re, glob, shutil, sys"
   ]
  },
  {
   "cell_type": "code",
   "execution_count": 83,
   "id": "cd1c6c83-0f93-459f-8c54-a5e965381033",
   "metadata": {},
   "outputs": [
    {
     "name": "stdout",
     "output_type": "stream",
     "text": [
      "get file names in /home/exacloud/gscratch/HeiserLab/images/2101001\n",
      "getting files for 2101001\n"
     ]
    }
   ],
   "source": [
    "directory_name = \"AU565_drug_screen\"\n",
    "directory_name = \"HCC1143_drug_screen\"\n",
    "directory_name = \"21MT1_drug_screen\"\n",
    "#directory_name = \"AU_I_L_006_01_1\"\n",
    "\n",
    "#directory_name = \"AU565_Drug_Screen_Project\" #used for files stored on graylab_share\n",
    "plateID = \"AU00601\"\n",
    "plateID = \"HC01401\"\n",
    "plateID = \"2101001\"\n",
    "\n",
    "def get_file_df(plateID):\n",
    "    print(\"getting files for \"+plateID)\n",
    "    #data_path =  '/home/groups/graylab_share/OMERO.rdsStore/liby/'+directory_name+'/'+plateID+\"/\"+plateID+'_IMAGES'\n",
    "    data_path =  '/home/groups/heiserlab_genomics/home/liby/'+directory_name+'/'+plateID+\"/\"+plateID+'_IMAGES'\n",
    "    #data_path =  '/home/groups/heiserlab_genomics/home/liby/'+directory_name+'/'+plateID+'_IMAGES'\n",
    "    #data_path = \"/home/groups/heiserlab_genomics/home/grossse/AU565 Project/AU565 Image Files/AU_I_L_006_01_1/AU_I_L_006_01_1_IMAGES\"\n",
    "    data_paths = glob.glob(os.path.join(data_path,\"*.tif\"),recursive=False)\n",
    "    df = pd.DataFrame(data_paths, columns =['path'])\n",
    "    df['filename'] = df['path'].str.extract('(\\w*.tif)')\n",
    "    df['plateID'] = df['filename'].str.extract('(^[a-zA-Z0-9]*)')\n",
    "    df['channel'] = df['filename'].str.extract('(_[PRG]_)')\n",
    "    df['channel'] = df['channel'].str.extract('([PRG])')\n",
    "    df['well'] = df['filename'].str.extract('(_[A-Z][0-9]+_)')\n",
    "    df['well'] = df['well'].str.extract('([A-Z][0-9]+)')\n",
    "    df['field'] = df['filename'].str.extract('(_[0-9]+_)')\n",
    "    df['field'] = df['field'].str.extract('([0-9]+)')\n",
    "    df['time'] = df['filename'].str.extract('(_[a-z0-9]*.tif)')\n",
    "    df['time'] = df['time'].str.replace('[_(.tif)]','',regex = True)\n",
    "    return df\n",
    "\n",
    "        \n",
    "dest_path = '/home/exacloud/gscratch/HeiserLab/images/'\n",
    "data_path =  '/home/groups/heiserlab_genomics/home/liby/'+directory_name+'/'+plateID+\"/\"+plateID+'_IMAGES/'\n",
    "\n",
    "print(\"get file names in \"+dest_path+plateID)\n",
    "df_dest = get_file_df(plateID)\n",
    "df_dest['dest_path'] = df_dest['plateID']+'/'+df_dest['well']+'/'+'field_'+df_dest['field']\n",
    "\n",
    "channels = np.unique(df_dest.channel)\n",
    "wells = np.unique(df_dest.well)\n",
    "fields = np.unique(df_dest.field)\n",
    "times = np.unique(df_dest.time)\n",
    "\n",
    "fullset = []\n",
    "for channel in channels:\n",
    "    for well in wells:\n",
    "        for field in fields:\n",
    "            for time in times:\n",
    "                fullset.append(data_path+plateID+\"_\"+channel+\"_\"+well+\"_\"+field+\"_\"+time+\".tif\")\n",
    "                \n",
    "df_missing_from_source = pd.DataFrame(set(fullset)-set(df_dest.path), columns =['path'])\n",
    "\n",
    "df_missing_from_source.to_csv(dest_path+plateID+\"/\"+plateID+\"_missing_files_from_incucyte.csv\")\n"
   ]
  },
  {
   "cell_type": "code",
   "execution_count": null,
   "id": "55c2acf1-9344-4a4b-b01c-3f243e3eb6a9",
   "metadata": {},
   "outputs": [],
   "source": []
  }
 ],
 "metadata": {
  "kernelspec": {
   "display_name": "Python 3 (ipykernel)",
   "language": "python",
   "name": "python3"
  },
  "language_info": {
   "codemirror_mode": {
    "name": "ipython",
    "version": 3
   },
   "file_extension": ".py",
   "mimetype": "text/x-python",
   "name": "python",
   "nbconvert_exporter": "python",
   "pygments_lexer": "ipython3",
   "version": "3.8.12"
  }
 },
 "nbformat": 4,
 "nbformat_minor": 5
}
