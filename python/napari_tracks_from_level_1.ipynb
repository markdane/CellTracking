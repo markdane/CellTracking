{
 "cells": [
  {
   "cell_type": "code",
   "execution_count": 26,
   "id": "a8db7fab-b07a-47d9-98a5-98427f013d06",
   "metadata": {},
   "outputs": [],
   "source": [
    "import napari\n",
    "import numpy as np\n",
    "import pandas as pd\n",
    "import os, re, glob, sys\n",
    "from skimage import io"
   ]
  },
  {
   "cell_type": "code",
   "execution_count": 27,
   "id": "2d6e8c5a-a072-4738-a16b-cb9afa30673d",
   "metadata": {},
   "outputs": [],
   "source": [
    "pipeline_name = \"PC\" #python and cellpose\n",
    "ch1_name = 'NR'\n",
    "ch2_name = 'CC'\n",
    "data_path = '/home/exacloud/gscratch/HeiserLab/images/'\n",
    "data_path = '/Users/dane/Documents/CellTrackingProjects/AU565/images/'\n",
    "plateID = 'AU02001'\n",
    "#plateID = sys.argv[1]\n",
    "well = \"A1\"\n",
    "field = \"1\"\n",
    "field_num = int(field)\n",
    "well_index = 1\n",
    "#well_index = int(sys.argv[2])\n",
    "\n",
    "p_stack_filename = os.path.join(data_path+plateID,\"Analysis\",pipeline_name,\"intermediate_files\",plateID+\"_P_\"+well+\"_\"+field+\"_reg_stack.tif\")\n",
    "cp_mask_stack_filename = p_stack_filename.replace(\"_P_\", \"_R_\")\n",
    "cp_mask_stack_filename = cp_mask_stack_filename.replace(\"reg_stack.tif\",\"masks_stack.tif\")\n",
    "img_p_stack = io.imread(p_stack_filename)\n",
    "img_r_stack = io.imread(p_stack_filename.replace(\"_P_\",\"_R_\"))\n",
    "cp_mask_stack = io.imread(cp_mask_stack_filename)\n",
    "l1_filename = os.path.join(data_path+plateID,\"Analysis\",pipeline_name,plateID+\"_level_1.csv\")\n",
    "l1 = pd.read_csv(l1_filename)\n",
    "l1 = l1.query('well == @well & field == @field_num')"
   ]
  },
  {
   "cell_type": "code",
   "execution_count": 28,
   "id": "d9ffc143-7873-4787-86dc-f81ec07d4962",
   "metadata": {},
   "outputs": [],
   "source": [
    "tracks = l1[[\"label\", \"slice\",\"Nuclei_PC_NR_centroid-0\", \"Nuclei_PC_NR_centroid-1\"]]\n",
    "tracks = tracks.rename(columns={\"slice\": \"time\", \"Nuclei_PC_NR_centroid-1\": \"y\", \"Nuclei_PC_NR_centroid-0\": \"x\"})\n",
    "tracks = tracks.sort_values(by=['label', 'time']).to_numpy(dtype = \"float_\")"
   ]
  },
  {
   "cell_type": "code",
   "execution_count": 29,
   "id": "0e89ca79-c9b0-4d0d-bcc0-29de3dde5a5f",
   "metadata": {},
   "outputs": [],
   "source": [
    "graph_filename = os.path.join(data_path,plateID,\"Analysis\",pipeline_name,\"intermediate_files\",\"tracking\",\n",
    "                              well,\"field_\"+field,\"results\",\"tracks.csv\")\n",
    "graph = pd.read_csv(graph_filename)[[\"label\",\"parent\"]]\n",
    "graph = graph[(graph.parent.isin(l1.label))]\n",
    "graph = graph.set_index('label').T.to_dict('list')"
   ]
  },
  {
   "cell_type": "code",
   "execution_count": 30,
   "id": "23d66ff6-8d8c-4ac6-a4bc-349e354f2a1d",
   "metadata": {},
   "outputs": [],
   "source": [
    "track_color_features =  l1[[\"label\",'parent', 'length','Cell_PC_CC_mean_intensity_ratio', 'Cell_PC_CC_max_intensity_ratio',\n",
    "       'Cell_PC_CC_min_intensity_ratio','Nuclei_PC_NR_area', 'lineage']]\n",
    "track_color_features = track_color_features.rename(columns={\"slice\": \"time\"})\n",
    "\n",
    "vertices = tracks[:, 1:]"
   ]
  },
  {
   "cell_type": "code",
   "execution_count": 36,
   "id": "97de7c39-c4a5-4f55-a988-7e6d8b2b3ad2",
   "metadata": {},
   "outputs": [
    {
     "name": "stdout",
     "output_type": "stream",
     "text": [
      "None None []\n",
      "None None []\n"
     ]
    }
   ],
   "source": [
    "viewer = napari.view_image(img_p_stack, name = \"phase image\")\n",
    "viewer.add_image(img_r_stack, name = \"nuclear image\")\n",
    "viewer.add_image(cp_mask_stack, name = \"cp masks image\")\n",
    "viewer.add_points(vertices, size=1, name='points', opacity=0.3)\n",
    "viewer.add_tracks(tracks, features = track_color_features, graph=graph, name='tracks')\n",
    "\n",
    "napari.run()"
   ]
  },
  {
   "cell_type": "code",
   "execution_count": 32,
   "id": "51614585-36c7-4b9f-a0e8-2bcac45cf30d",
   "metadata": {},
   "outputs": [
    {
     "data": {
      "text/plain": [
       "(193, 1040, 1408)"
      ]
     },
     "execution_count": 32,
     "metadata": {},
     "output_type": "execute_result"
    }
   ],
   "source": [
    "cp_mask_stack.shape"
   ]
  },
  {
   "cell_type": "code",
   "execution_count": 33,
   "id": "2b7e00d1-f6f9-4445-9ccc-b412cdf0a2d8",
   "metadata": {},
   "outputs": [
    {
     "data": {
      "text/plain": [
       "(45311, 84)"
      ]
     },
     "execution_count": 33,
     "metadata": {},
     "output_type": "execute_result"
    }
   ],
   "source": [
    "l1.shape"
   ]
  },
  {
   "cell_type": "markdown",
   "id": "20bf5a11-ded0-48cb-9403-5ef6c4d6b99e",
   "metadata": {},
   "source": [
    "# "
   ]
  },
  {
   "cell_type": "code",
   "execution_count": 34,
   "id": "467550e0-6204-4a76-b27c-10d6efd814f6",
   "metadata": {},
   "outputs": [
    {
     "data": {
      "text/plain": [
       "0        1\n",
       "1        1\n",
       "2        1\n",
       "3        1\n",
       "4        1\n",
       "        ..\n",
       "45306    1\n",
       "45307    1\n",
       "45308    1\n",
       "45309    1\n",
       "45310    1\n",
       "Name: field, Length: 45311, dtype: int64"
      ]
     },
     "execution_count": 34,
     "metadata": {},
     "output_type": "execute_result"
    }
   ],
   "source": [
    "l1.field"
   ]
  },
  {
   "cell_type": "code",
   "execution_count": 35,
   "id": "f9107ac8-18f9-4459-ada4-663b74c74170",
   "metadata": {},
   "outputs": [
    {
     "data": {
      "text/plain": [
       "1"
      ]
     },
     "execution_count": 35,
     "metadata": {},
     "output_type": "execute_result"
    }
   ],
   "source": [
    "int(field)"
   ]
  },
  {
   "cell_type": "code",
   "execution_count": null,
   "id": "db83fa58-9e22-4f67-958b-76d8efb7cc90",
   "metadata": {},
   "outputs": [],
   "source": []
  }
 ],
 "metadata": {
  "kernelspec": {
   "display_name": "Python 3 (ipykernel)",
   "language": "python",
   "name": "python3"
  },
  "language_info": {
   "codemirror_mode": {
    "name": "ipython",
    "version": 3
   },
   "file_extension": ".py",
   "mimetype": "text/x-python",
   "name": "python",
   "nbconvert_exporter": "python",
   "pygments_lexer": "ipython3",
   "version": "3.8.12"
  }
 },
 "nbformat": 4,
 "nbformat_minor": 5
}
