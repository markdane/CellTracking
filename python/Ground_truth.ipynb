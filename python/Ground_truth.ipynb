{
 "cells": [
  {
   "cell_type": "markdown",
   "id": "b7b3e3bb-a373-4fad-80db-a7eba594fbc8",
   "metadata": {},
   "source": [
    "### Using ground truth images\n",
    "\n",
    "This notebook uses ground truth images to evaluate segmentation accuracy."
   ]
  },
  {
   "cell_type": "code",
   "execution_count": 88,
   "id": "d50f7b49-374f-4dc1-a9a7-0e2f0af71360",
   "metadata": {},
   "outputs": [],
   "source": [
    "#setup libraries\n",
    "import os, re, sys, glob, shutil, math\n",
    "import pandas as pd\n",
    "import numpy as np\n",
    "import matplotlib.pyplot as plt\n",
    "from skimage import io, filters, util, segmentation, morphology, measure\n",
    "from cellpose import plot\n",
    "from scipy import stats\n",
    "\n",
    "#use_GPU = models.use_gpu()\n",
    "#print('>>> GPU activated? %d'%use_GPU)"
   ]
  },
  {
   "cell_type": "code",
   "execution_count": 89,
   "id": "df7db906-a257-4ca7-8ccb-6adf9b0a910f",
   "metadata": {},
   "outputs": [],
   "source": [
    "pipeline_name = 'CL'\n",
    "ch1_name = 'NR'\n",
    "ch2_name = 'CC'\n",
    "data_path = '/home/exacloud/gscratch/HeiserLab/images/'"
   ]
  },
  {
   "cell_type": "markdown",
   "id": "804309f1-045f-47f7-83dd-feedbb6972a4",
   "metadata": {},
   "source": [
    "Read the names of the ground truth files, parse them to be able to identify the corresponding segmented files and store in a dataframe."
   ]
  },
  {
   "cell_type": "code",
   "execution_count": 102,
   "id": "cdbcdc10-2c7a-461c-988b-d41b167980d2",
   "metadata": {},
   "outputs": [],
   "source": [
    "minutes_between_images = 30\n",
    "path_to_ground_truth = '/home/exacloud/gscratch/HeiserLab/software/image_analysis_pipelines/AU565/ground_truth/'\n",
    "ground_truth_data_paths =glob.glob(os.path.join(path_to_ground_truth,\"*groundtruth.tif\"))\n",
    "df_path = pd.DataFrame(ground_truth_data_paths, columns =['path']).sort_values(by='path', ignore_index = True)\n",
    "#parse ground truth filenames to get filenames of segmentation masks\n",
    "df = df_path.path.str.extract(r'(?P<plateID>[A-Z]{2}[0-9]{5})_(?P<well>[A-D][1-6])_(?P<field>[1-6])_(?P<slice>[0-9]+)_')\n",
    "df = df.astype({'slice': 'int32'})\n",
    "df['elapsed_minutes'] = (df.slice-1)*minutes_between_images #assumes time slice numbering starts at 1\n",
    "df['day'] = np.floor(df.elapsed_minutes/(24*60)).astype(int)\n",
    "df['hour'] = np.floor((df.elapsed_minutes-df.day*(24*60))/60).astype(int)\n",
    "df['minute'] = np.floor(df.elapsed_minutes-df.day*(24*60)-df.hour*60).astype(int)\n",
    "df.day = df.day.apply(lambda x: '{0:0>2}'.format(x))\n",
    "df.hour = df.hour.apply(lambda x: '{0:0>2}'.format(x))\n",
    "df.minute = df.minute.apply(lambda x: '{0:0>2}'.format(x))\n",
    "df['time_slice'] = df.day+\"d\"+df.hour+\"h\"+df.minute+\"m\"\n",
    "df['mask_slice'] = df.slice-1\n",
    "df['ground_truth_path'] = df_path.path\n",
    "df['mask_path'] = data_path+df.plateID+\"/Analysis/PI/intermediate_files/masks/\"+df.well+\"/field_\"+df.field+\"/\"+df.well+\"_\"+df.field+\"_image\"+df.mask_slice.astype(\"str\")+\"_nuclei_masks.tif\""
   ]
  },
  {
   "cell_type": "markdown",
   "id": "a2b80f21-0d31-4ace-a635-98fd276301e2",
   "metadata": {},
   "source": [
    "Loop through each row of the dataframe and compare the ilastik segmented and ground truth masks."
   ]
  },
  {
   "cell_type": "code",
   "execution_count": 111,
   "id": "fe22a7b8-5189-4d0e-801f-ba28422d52c0",
   "metadata": {},
   "outputs": [],
   "source": [
    "df['dice'] = 0.0\n",
    "for index, image in df.iterrows():\n",
    "    #load the ground truth masks and convert to binary\n",
    "    ground_truth_mask = io.imread(image.ground_truth_path) > 0\n",
    "    #load the segmented mask and convertto binary\n",
    "    segmented_mask = io.imread(image.mask_path) > 0\n",
    "    dice = np.sum(segmented_mask[ground_truth_mask])*2/(np.sum(segmented_mask) + np.sum(ground_truth_mask))\n",
    "    df.loc[index,\"dice\"] = dice\n",
    "    #create images that show the differences in the masks\n",
    "    common_pixels = np.logical_and(ground_truth_mask, segmented_mask)\n",
    "    ground_truth_unique_pixels = np.logical_xor(ground_truth_mask, common_pixels)\n",
    "    segmented_unique_pixels = np.logical_xor(segmented_mask, common_pixels)\n",
    "    \n",
    "    path_name_p = os.path.join(data_path,image.plateID,image.well,\"field_\"+image.field,image.plateID+\"_P_\"+image.well+\"_\"+image.field+\"_\"+image.time_slice+\".tif\")\n",
    "    path_name_r = os.path.join(data_path,image.plateID,image.well,\"field_\"+image.field,image.plateID+\"_R_\"+image.well+\"_\"+image.field+\"_\"+image.time_slice+\".tif\")\n",
    "\n",
    "    # load the phase and red images for display purposes\n",
    "    image_p = io.imread(path_name_p)\n",
    "    #Create ground truth mask overlay and save it\n",
    "    masks_o = plot.mask_overlay(image_p, ground_truth_mask, colors=None)\n",
    "    ground_truth_mask_filename = image.ground_truth_path.replace(\".tif\", \"_masks.png\")\n",
    "    ground_truth_mask_filename = ground_truth_mask_filename.replace(\"/ground_truth/\", \"/ground_truth/comparisons/\")\n",
    "    io.imsave(ground_truth_mask_filename, masks_o)\n",
    "    #Create ground truth unique mask overlay and save it\n",
    "    masks_o = plot.mask_overlay(image_p, ground_truth_unique_pixels, colors=None)\n",
    "    ground_truth_unique_mask_filename = ground_truth_mask_filename.replace(\"_groundtruth_masks.png\", \"_groundtruth_unique_masks.png\")\n",
    "    io.imsave(ground_truth_unique_mask_filename, masks_o)\n",
    "    #Create unique segmentation mask overlay and save it\n",
    "    masks_o = plot.mask_overlay(image_p, segmented_unique_pixels, colors=None)\n",
    "    segmented_unique_mask_filename = ground_truth_mask_filename.replace(\"_groundtruth_masks.png\", \"_segmented_unique_masks.png\")\n",
    "    io.imsave(segmented_unique_mask_filename, masks_o)\n",
    "    #Create overlay of segmentation masks on phase save it\n",
    "    masks_o = plot.mask_overlay(image_p, segmented_mask, colors=None)\n",
    "    segmented_mask_filename = ground_truth_mask_filename.replace(\"_groundtruth_masks.png\", \"_segmented_masks.png\")\n",
    "    io.imsave(segmented_mask_filename, masks_o)\n",
    "    #Combine common and both unique pixel images, save as RGB\n",
    "    combined_filename = ground_truth_unique_mask_filename.replace(\"_groundtruth_unique_masks.png\", \"_combined.png\")\n",
    "    image_stack = np.dstack([segmented_unique_pixels, ground_truth_unique_pixels, common_pixels])\n",
    "    io.imsave(combined_filename, util.img_as_ubyte(image_stack))\n"
   ]
  }
 ],
 "metadata": {
  "kernelspec": {
   "display_name": "biapy",
   "language": "python",
   "name": "biapy"
  },
  "language_info": {
   "codemirror_mode": {
    "name": "ipython",
    "version": 3
   },
   "file_extension": ".py",
   "mimetype": "text/x-python",
   "name": "python",
   "nbconvert_exporter": "python",
   "pygments_lexer": "ipython3",
   "version": "3.7.10"
  }
 },
 "nbformat": 4,
 "nbformat_minor": 5
}
