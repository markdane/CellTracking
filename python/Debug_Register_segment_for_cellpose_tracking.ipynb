{
 "cells": [
  {
   "cell_type": "code",
   "execution_count": 1,
   "id": "d6a8e734-b8d6-4d70-a4f8-c8e5d1a31550",
   "metadata": {},
   "outputs": [
    {
     "name": "stdout",
     "output_type": "stream",
     "text": [
      "2022-01-04 13:50:30,297 [INFO] WRITING LOG OUTPUT TO /home/users/dane/.cellpose/run.log\n"
     ]
    }
   ],
   "source": [
    "#setup libraries\n",
    "import numpy as np\n",
    "import pandas as pd\n",
    "import os, re, glob, sys\n",
    "from skimage import io, filters, util, segmentation, morphology, measure\n",
    "import matplotlib.pyplot as plt\n",
    "import imageio\n",
    "from cellpose import models, plot\n",
    "from pystackreg import StackReg\n",
    "from scipy import stats\n",
    "import tifffile"
   ]
  },
  {
   "cell_type": "code",
   "execution_count": 2,
   "id": "e4a22418-0891-408d-bedb-1e5fb27427ac",
   "metadata": {},
   "outputs": [],
   "source": [
    "pipeline_name = \"PC\" #python and cellpose\n",
    "ch1_name = 'NR'\n",
    "ch2_name = 'CC'\n",
    "data_path = '/home/exacloud/gscratch/HeiserLab/images/'\n",
    "plateID = 'AU02001'\n",
    "#plateID = sys.argv[1]\n",
    "well = \"A1\"\n",
    "#well = sys.argv[2]\n",
    "\n",
    "output_path = os.path.join(data_path+plateID,\"Analysis\",pipeline_name,\"intermediate_files/\")\n",
    "transformation_path = os.path.join(output_path,\"transformations\")\n",
    "subdirectories = sorted(glob.glob(os.path.join(data_path+plateID,well,\"field_[1-9]\")))[0:1]"
   ]
  },
  {
   "cell_type": "markdown",
   "id": "56c9e723-6538-47f0-b7ff-b4390800aa14",
   "metadata": {},
   "source": [
    "Only create a job if there is not a registered red channel stack"
   ]
  },
  {
   "cell_type": "code",
   "execution_count": 3,
   "id": "ee281d51-5b59-49a1-9dcb-a4b98aa9b07e",
   "metadata": {},
   "outputs": [],
   "source": [
    "flourescent_scaler = 255/4095 #rescale from 12 to 8 bits\n",
    "\n",
    "for subdir in subdirectories:\n",
    "    well = re.findall(\"/[A-Z][1-9]\",subdir)[0]\n",
    "    well = re.findall(\"[A-Z][1-9]\", well)[0]\n",
    "    field = re.findall(\"field_[1-9]\",subdir)[0]\n",
    "    field_num = re.findall(\"[0-9]\", field)[0]\n",
    "    reg_filename = os.path.join(output_path,plateID+\"_R_\"+well+\"_\"+field_num+\"_reg_stack.tif\")\n",
    "    #metadata_filename = os.path.join(output_path,plateID+\"_RGP_\"+well+\"_\"+field_num+\"_filenames.txt\")\n",
    "    # Only process the field-level image files if there is no stack of RGP files\n",
    "    if not os.path.exists(reg_filename):\n",
    "        print(\"registering R stack in \"+subdir)\n",
    "        #load and prepare red, green and phase channels. Scale for 8 bits but these are uint16 data types\n",
    "        r_data_paths = glob.glob(os.path.join(subdir,\"*_R_*m.tif\"))\n",
    "        r_time_slices = set()\n",
    "        for data_paths in r_data_paths:\n",
    "            r_time_slices.add(re.findall(\"..d..h..m\", data_paths)[0])\n",
    "        g_data_paths = glob.glob(os.path.join(subdir,\"*_G_*m.tif\"))\n",
    "        g_time_slices = set()\n",
    "        for data_paths in g_data_paths:\n",
    "            g_time_slices.add(re.findall(\"..d..h..m\", data_paths)[0])\n",
    "        p_data_paths = glob.glob(os.path.join(subdir,\"*_P_*m.tif\"))\n",
    "        p_time_slices = set()\n",
    "        for data_paths in p_data_paths:\n",
    "            p_time_slices.add(re.findall(\"..d..h..m\", data_paths)[0])\n",
    "        complete_time_slices = r_time_slices & g_time_slices & p_time_slices\n",
    "        r_data_paths_c = []\n",
    "        g_data_paths_c = []\n",
    "        p_data_paths_c = []\n",
    "        for time_slice in complete_time_slices:\n",
    "            r_data_paths_c.append(os.path.join(data_path+plateID,well,field,plateID+\"_R_\"+well+\"_\"+field_num+\"_\"+time_slice+\".tif\"))\n",
    "            g_data_paths_c.append(os.path.join(data_path+plateID,well,field,plateID+\"_G_\"+well+\"_\"+field_num+\"_\"+time_slice+\".tif\"))\n",
    "            p_data_paths_c.append(os.path.join(data_path+plateID,well,field,plateID+\"_P_\"+well+\"_\"+field_num+\"_\"+time_slice+\".tif\"))\n",
    "        img_r_ic = io.imread_collection(r_data_paths_c) # 3 dimensions : frames x width x height\n",
    "        img_rs = np.stack(img_r_ic)*flourescent_scaler\n",
    "\n",
    "        img_g_ic = io.imread_collection(g_data_paths_c) # 3 dimensions : frames x width x height\n",
    "        img_gs = np.stack(img_g_ic)*flourescent_scaler\n",
    "\n",
    "        img_p_ic = io.imread_collection(p_data_paths_c) # 3 dimensions : frames x width x height\n",
    "        img_ps = np.stack(img_p_ic)\n",
    "        \n",
    "        #register the R stack using transformation\n",
    "        sr = StackReg(StackReg.TRANSLATION)\n",
    "        # register each frame to the previous (already registered) one\n",
    "        tmats = sr.register_stack(img_rs, reference='previous')\n",
    "        if not os.path.exists(transformation_path):\n",
    "            os.makedirs(transformation_path)\n",
    "        np.save(os.path.join(transformation_path,plateID+\"_\"+well+\"_\"+field+\"_transformation_matrices.npy\"), tmats)\n",
    "        \n",
    "        # transform stack using the tmats loaded from file\n",
    "        img_rs_reg = sr.transform_stack(img_rs, tmats = tmats)\n",
    "        img_gs_reg = sr.transform_stack(img_gs, tmats = tmats)\n",
    "        img_ps_reg = sr.transform_stack(img_ps, tmats = tmats)\n",
    "\n",
    "        img_c = np.stack([img_rs.astype('B'), img_gs.astype('B'), img_ps.astype('B')], axis = -1) \n",
    "    \n",
    "        if not os.path.exists(output_path):\n",
    "            os.makedirs(output_path)\n",
    "\n",
    "        io.imsave(reg_filename, img_rs_reg, plugin='tifffile')\n",
    "        io.imsave(reg_filename.replace(\"_R_\",\"_G_\"), img_gs_reg, plugin='tifffile')\n",
    "        io.imsave(reg_filename.replace(\"_R_\",\"_P_\"), img_ps_reg, plugin='tifffile')\n"
   ]
  },
  {
   "cell_type": "markdown",
   "id": "56165ee9-0033-4a66-9378-888133531030",
   "metadata": {},
   "source": [
    "segment each stack using cellpose\n"
   ]
  },
  {
   "cell_type": "code",
   "execution_count": 22,
   "id": "0969bc58-1cc0-49fb-9cf6-e0386575cf18",
   "metadata": {},
   "outputs": [
    {
     "name": "stdout",
     "output_type": "stream",
     "text": [
      "2022-01-04 15:00:04,888 [INFO] ** TORCH CUDA version installed and working. **\n",
      "2022-01-04 15:00:04,889 [INFO] >>>> using GPU\n",
      "processing /home/exacloud/gscratch/HeiserLab/images/AU02001/Analysis/PC/intermediate_files/AU02001_R_A1_1_reg_stack.tif index 0\n",
      "2022-01-04 15:00:08,409 [INFO] ~~~ FINDING MASKS ~~~\n",
      "2022-01-04 15:00:18,442 [INFO] >>>> TOTAL TIME 10.03 sec\n",
      "processing /home/exacloud/gscratch/HeiserLab/images/AU02001/Analysis/PC/intermediate_files/AU02001_R_A1_1_reg_stack.tif index 1\n",
      "2022-01-04 15:00:18,785 [INFO] ~~~ FINDING MASKS ~~~\n",
      "2022-01-04 15:00:27,399 [INFO] >>>> TOTAL TIME 8.61 sec\n",
      "processing /home/exacloud/gscratch/HeiserLab/images/AU02001/Analysis/PC/intermediate_files/AU02001_R_A1_1_reg_stack.tif index 2\n",
      "2022-01-04 15:00:27,767 [INFO] ~~~ FINDING MASKS ~~~\n",
      "2022-01-04 15:00:36,575 [INFO] >>>> TOTAL TIME 8.81 sec\n",
      "processing /home/exacloud/gscratch/HeiserLab/images/AU02001/Analysis/PC/intermediate_files/AU02001_R_A1_1_reg_stack.tif index 3\n",
      "2022-01-04 15:00:36,907 [INFO] ~~~ FINDING MASKS ~~~\n",
      "2022-01-04 15:00:45,341 [INFO] >>>> TOTAL TIME 8.43 sec\n",
      "processing /home/exacloud/gscratch/HeiserLab/images/AU02001/Analysis/PC/intermediate_files/AU02001_R_A1_1_reg_stack.tif index 4\n",
      "2022-01-04 15:00:45,676 [INFO] ~~~ FINDING MASKS ~~~\n",
      "2022-01-04 15:00:54,245 [INFO] >>>> TOTAL TIME 8.57 sec\n"
     ]
    }
   ],
   "source": [
    "diameter = 16.5\n",
    "flow_threshold = .4\n",
    "mask_threshold=0\n",
    "min_size=5\n",
    "resample = False\n",
    "cyto_expansion = 5\n",
    "minutes_between_images = 30\n",
    "\n",
    "#call cellpose on each image to segment the nuclei\n",
    "# DEFINE CELLPOSE MODEL\n",
    "# model_type='cyto' or model_type='nuclei'\n",
    "model = models.Cellpose(gpu=True, model_type='cyto2')\n",
    "\n",
    "# define CHANNELS to run segementation on\n",
    "# grayscale=0, R=1, G=2, B=3\n",
    "# channels = [cytoplasm, nucleus]\n",
    "# if NUCLEUS channel does not exist, set the second channel to 0\n",
    "# will use channel R = 1 as nuclear channel only\n",
    "channels = [0,1]\n",
    "\n",
    "results = [] #collect results for all fields in the well\n",
    "for subdir in subdirectories:\n",
    "    well = re.findall(\"/[A-Z][1-9]\",subdir)[0]\n",
    "    well = re.findall(\"[A-Z][1-9]\", well)[0]\n",
    "    field = re.findall(\"field_[1-9]\",subdir)[0]\n",
    "    field_num = re.findall(\"[0-9]\", field)[0]\n",
    "    reg_filename = os.path.join(output_path,plateID+\"_R_\"+well+\"_\"+field_num+\"_reg_stack.tif\")\n",
    "    l0_filename = os.path.join(data_path,plateID,'Analysis',pipeline_name,\"intermediate_files\",plateID+\"_R_\"+well+\"_\"+field+\"_reg_stack.tif\")\n",
    "    img_rs_reg = io.imread(reg_filename)\n",
    "\n",
    "    mask_images = []\n",
    "    for i, image in enumerate(img_rs_reg):\n",
    "        print(\"processing \"+reg_filename+\" index \"+str(i))\n",
    "        #Segment using the nuclear signal in the red channel\n",
    "        image_rf = filters.median(image, footprint=morphology.disk(2))\n",
    "        image_rf = image\n",
    "        #io.imsave(reg_filename.replace(\"_R_\",\"_R_\"+str(i)+\"_\"), image_rf, plugin='tifffile')\n",
    "\n",
    "        # create masks with cellpose \n",
    "        masks, flows, styles, diams = model.eval(image_rf,\n",
    "                                          diameter=diameter,\n",
    "                                         flow_threshold=flow_threshold,\n",
    "                                        mask_threshold=mask_threshold,\n",
    "                                         channels=channels,\n",
    "                                                 min_size=min_size,\n",
    "                                            resample = resample)\n",
    "           \n",
    "        #Save mask image\n",
    "        mask_images.append(masks)\n",
    "            "
   ]
  },
  {
   "cell_type": "code",
   "execution_count": 23,
   "id": "f0a3b994-1d5c-437d-a8ed-9f6f98c4596d",
   "metadata": {},
   "outputs": [],
   "source": [
    "#concatenate all of the results and write to disk\n",
    "#all_results = pd.concat(results)\n",
    "#all_results.to_csv(output_path+plateID+'_'+well+'_level_0_test.csv')"
   ]
  },
  {
   "cell_type": "code",
   "execution_count": 24,
   "id": "cdbd6349-f79c-4d0a-9762-302b64407045",
   "metadata": {},
   "outputs": [],
   "source": [
    "#store the stack of masks\n",
    "mask_filename = reg_filename.replace(\"_reg_stack.tif\", \"_masks_stack.png\")\n",
    "tifffile.imwrite(mask_filename, np.array(mask_images), imagej=True)"
   ]
  },
  {
   "cell_type": "code",
   "execution_count": 70,
   "id": "a176e417-0e31-479b-990e-307ae9def058",
   "metadata": {},
   "outputs": [
    {
     "data": {
      "text/plain": [
       "[array([[0, 0, 0, ..., 0, 0, 0],\n",
       "        [0, 0, 0, ..., 0, 0, 0],\n",
       "        [0, 0, 0, ..., 0, 0, 0],\n",
       "        ...,\n",
       "        [0, 0, 0, ..., 0, 0, 0],\n",
       "        [0, 0, 0, ..., 0, 0, 0],\n",
       "        [0, 0, 0, ..., 0, 0, 0]], dtype=uint16),\n",
       " array([[0, 0, 0, ..., 0, 0, 0],\n",
       "        [0, 0, 0, ..., 0, 0, 0],\n",
       "        [0, 0, 0, ..., 0, 0, 0],\n",
       "        ...,\n",
       "        [0, 0, 0, ..., 0, 0, 0],\n",
       "        [0, 0, 0, ..., 0, 0, 0],\n",
       "        [0, 0, 0, ..., 0, 0, 0]], dtype=uint16),\n",
       " array([[0, 0, 0, ..., 0, 0, 0],\n",
       "        [0, 0, 0, ..., 0, 0, 0],\n",
       "        [0, 0, 0, ..., 0, 0, 0],\n",
       "        ...,\n",
       "        [0, 0, 0, ..., 0, 0, 0],\n",
       "        [0, 0, 0, ..., 0, 0, 0],\n",
       "        [0, 0, 0, ..., 0, 0, 0]], dtype=uint16),\n",
       " array([[0, 0, 0, ..., 0, 0, 0],\n",
       "        [0, 0, 0, ..., 0, 0, 0],\n",
       "        [0, 0, 0, ..., 0, 0, 0],\n",
       "        ...,\n",
       "        [0, 0, 0, ..., 0, 0, 0],\n",
       "        [0, 0, 0, ..., 0, 0, 0],\n",
       "        [0, 0, 0, ..., 0, 0, 0]], dtype=uint16),\n",
       " array([[0, 0, 0, ..., 0, 0, 0],\n",
       "        [0, 0, 0, ..., 0, 0, 0],\n",
       "        [0, 0, 0, ..., 0, 0, 0],\n",
       "        ...,\n",
       "        [0, 0, 0, ..., 0, 0, 0],\n",
       "        [0, 0, 0, ..., 0, 0, 0],\n",
       "        [0, 0, 0, ..., 0, 0, 0]], dtype=uint16),\n",
       " array([[0, 0, 0, ..., 0, 0, 0],\n",
       "        [0, 0, 0, ..., 0, 0, 0],\n",
       "        [0, 0, 0, ..., 0, 0, 0],\n",
       "        ...,\n",
       "        [0, 0, 0, ..., 0, 0, 0],\n",
       "        [0, 0, 0, ..., 0, 0, 0],\n",
       "        [0, 0, 0, ..., 0, 0, 0]], dtype=uint16),\n",
       " array([[0, 0, 0, ..., 0, 0, 0],\n",
       "        [0, 0, 0, ..., 0, 0, 0],\n",
       "        [0, 0, 0, ..., 0, 0, 0],\n",
       "        ...,\n",
       "        [0, 0, 0, ..., 0, 0, 0],\n",
       "        [0, 0, 0, ..., 0, 0, 0],\n",
       "        [0, 0, 0, ..., 0, 0, 0]], dtype=uint16),\n",
       " array([[0, 0, 0, ..., 0, 0, 0],\n",
       "        [0, 0, 0, ..., 0, 0, 0],\n",
       "        [0, 0, 0, ..., 0, 0, 0],\n",
       "        ...,\n",
       "        [0, 0, 0, ..., 0, 0, 0],\n",
       "        [0, 0, 0, ..., 0, 0, 0],\n",
       "        [0, 0, 0, ..., 0, 0, 0]], dtype=uint16),\n",
       " array([[0, 0, 0, ..., 0, 0, 0],\n",
       "        [0, 0, 0, ..., 0, 0, 0],\n",
       "        [0, 0, 0, ..., 0, 0, 0],\n",
       "        ...,\n",
       "        [0, 0, 0, ..., 0, 0, 0],\n",
       "        [0, 0, 0, ..., 0, 0, 0],\n",
       "        [0, 0, 0, ..., 0, 0, 0]], dtype=uint16),\n",
       " array([[0, 0, 0, ..., 0, 0, 0],\n",
       "        [0, 0, 0, ..., 0, 0, 0],\n",
       "        [0, 0, 0, ..., 0, 0, 0],\n",
       "        ...,\n",
       "        [0, 0, 0, ..., 0, 0, 0],\n",
       "        [0, 0, 0, ..., 0, 0, 0],\n",
       "        [0, 0, 0, ..., 0, 0, 0]], dtype=uint16),\n",
       " array([[0, 0, 0, ..., 0, 0, 0],\n",
       "        [0, 0, 0, ..., 0, 0, 0],\n",
       "        [0, 0, 0, ..., 0, 0, 0],\n",
       "        ...,\n",
       "        [0, 0, 0, ..., 0, 0, 0],\n",
       "        [0, 0, 0, ..., 0, 0, 0],\n",
       "        [0, 0, 0, ..., 0, 0, 0]], dtype=uint16),\n",
       " array([[0, 0, 0, ..., 0, 0, 0],\n",
       "        [0, 0, 0, ..., 0, 0, 0],\n",
       "        [0, 0, 0, ..., 0, 0, 0],\n",
       "        ...,\n",
       "        [0, 0, 0, ..., 0, 0, 0],\n",
       "        [0, 0, 0, ..., 0, 0, 0],\n",
       "        [0, 0, 0, ..., 0, 0, 0]], dtype=uint16)]"
      ]
     },
     "execution_count": 70,
     "metadata": {},
     "output_type": "execute_result"
    }
   ],
   "source": []
  },
  {
   "cell_type": "code",
   "execution_count": 71,
   "id": "80656fbb-159b-450c-abe5-daf89769c3fd",
   "metadata": {},
   "outputs": [
    {
     "data": {
      "text/plain": [
       "array([[0, 0, 0, ..., 0, 0, 0],\n",
       "       [0, 0, 0, ..., 0, 0, 0],\n",
       "       [0, 0, 0, ..., 0, 0, 0],\n",
       "       ...,\n",
       "       [0, 0, 0, ..., 0, 0, 0],\n",
       "       [0, 0, 0, ..., 0, 0, 0],\n",
       "       [0, 0, 0, ..., 0, 0, 0]], dtype=uint16)"
      ]
     },
     "execution_count": 71,
     "metadata": {},
     "output_type": "execute_result"
    }
   ],
   "source": [
    "masks"
   ]
  },
  {
   "cell_type": "code",
   "execution_count": null,
   "id": "417f87cc-e001-4ea7-bc9c-c2f8e5b699d9",
   "metadata": {},
   "outputs": [],
   "source": []
  }
 ],
 "metadata": {
  "kernelspec": {
   "display_name": "Python 3 (ipykernel)",
   "language": "python",
   "name": "python3"
  },
  "language_info": {
   "codemirror_mode": {
    "name": "ipython",
    "version": 3
   },
   "file_extension": ".py",
   "mimetype": "text/x-python",
   "name": "python",
   "nbconvert_exporter": "python",
   "pygments_lexer": "ipython3",
   "version": "3.8.12"
  }
 },
 "nbformat": 4,
 "nbformat_minor": 5
}
