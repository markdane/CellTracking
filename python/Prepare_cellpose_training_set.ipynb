{
 "cells": [
  {
   "cell_type": "markdown",
   "id": "111a2376-b8a8-4e20-8987-05462c78f4ce",
   "metadata": {},
   "source": [
    "#### Prepare Cellpose training dataset  \n",
    "\n",
    "30 training images from the HCC1143 series of experiments. Early and late Untreated plus late high dose from each drug. For nuclear segmentation, apply the red channel as a mask to the phase, then combine them to get the red channel \"textured\" by the phase images. Use red and phase as separate channels for cytoplasmic segmentation.  Use registered intensity images and prefiltered masks. Masks must have the same name as the intensity images with a suffix added before the file type. "
   ]
  },
  {
   "cell_type": "code",
   "execution_count": null,
   "id": "1ba07163-7b92-4efe-8639-0fafbc01af06",
   "metadata": {},
   "outputs": [],
   "source": [
    "import numpy as np\n",
    "import numpy.ma as ma\n",
    "import os, glob, tifffile\n",
    "from skimage import io, filters, exposure"
   ]
  },
  {
   "cell_type": "code",
   "execution_count": null,
   "id": "2c4c6578-4bc7-4dba-a708-e7729c609c18",
   "metadata": {},
   "outputs": [],
   "source": [
    "def transfer_file(data_path, plateID, model_name, well, field_num, time_slice):\n",
    "    \n",
    "    #get the cropped rp image\n",
    "    filename = os.path.join(data_path, plateID,\"Analysis\",\"registered_stacks\",plateID+\"_RP_\"+well+\"_\"+str(field_num)+\"_reg_stack.tif\")\n",
    "    print(\"preparing \"+filename+\" for training set\")\n",
    "    image = io.imread(filename)[int(time_slice)]\n",
    "    \n",
    "    #add the cropped rp image to the training set of images\n",
    "    rp_out_filename = os.path.join(data_path,\"cellpose_training\",\"train\",plateID+\"_\"+well+\"_\"+str(field_num)+\"_\"+time_slice+\"_rp_img.tif\")\n",
    "    tifffile.imwrite(rp_out_filename, image)"
   ]
  },
  {
   "cell_type": "markdown",
   "id": "d2010ee5-dd92-4bbd-bb9e-645e848624d2",
   "metadata": {},
   "source": [
    "hist, bins_center = exposure.histogram(image)\n",
    "\n",
    "plt.figure(figsize=(18, 8))\n",
    "plt.subplot(131)\n",
    "plt.imshow(image, cmap='gray', interpolation='nearest')\n",
    "plt.axis('off')\n",
    "plt.subplot(132)\n",
    "plt.imshow(nuc_mask, cmap='gray', interpolation='nearest')\n",
    "plt.axis('off')\n",
    "plt.subplot(133)\n",
    "plt.imshow(phase_image_masked, cmap = 'gray', interpolation = 'nearest')\n",
    "plt.tight_layout()"
   ]
  },
  {
   "cell_type": "code",
   "execution_count": null,
   "id": "8cfa625f-824e-4453-babd-86a0fb4c2a22",
   "metadata": {},
   "outputs": [],
   "source": [
    "data_path = \"/home/exacloud/gscratch/HeiserLab/images/\"\n",
    "plateID_list = (\"HC00701\", \"HC00801\", \"HC00901\", \"HC01001\", \"HC01301\", \"HC01401\")\n",
    "#plateID_list = ([\"HC01401\"])\n",
    "model_name = \"Ctn\"\n",
    "well_list = (\"A1\", \"A1\",\"D2\", \"D4\", \"D6\")\n",
    "time_slice_list = (\"004\", \"188\", \"188\", \"188\", \"188\")\n",
    "#well_list = ([\"A1\"])\n",
    "field_num = 1\n"
   ]
  },
  {
   "cell_type": "code",
   "execution_count": null,
   "id": "c0e09939-b7ed-4b61-b7f3-1d13110cfdcb",
   "metadata": {},
   "outputs": [],
   "source": [
    "res = list(map(transfer_file, [data_path]*len(well_list)*len(plateID_list),\n",
    "               [element for element in plateID_list for i in range(len(well_list))],[model_name]*len(well_list)*len(plateID_list),\n",
    "               well_list*len(plateID_list),\n",
    "               [field_num]*len(well_list)*len(plateID_list),\n",
    "               time_slice_list*len(plateID_list)))\n"
   ]
  },
  {
   "cell_type": "code",
   "execution_count": null,
   "id": "c2a574d9-d5d1-47de-9302-8d6c0e76581d",
   "metadata": {},
   "outputs": [],
   "source": []
  }
 ],
 "metadata": {
  "kernelspec": {
   "display_name": "Python 3 (ipykernel)",
   "language": "python",
   "name": "python3"
  },
  "language_info": {
   "codemirror_mode": {
    "name": "ipython",
    "version": 3
   },
   "file_extension": ".py",
   "mimetype": "text/x-python",
   "name": "python",
   "nbconvert_exporter": "python",
   "pygments_lexer": "ipython3",
   "version": "3.8.12"
  }
 },
 "nbformat": 4,
 "nbformat_minor": 5
}
