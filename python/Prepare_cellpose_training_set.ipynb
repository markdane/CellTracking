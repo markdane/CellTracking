{
 "cells": [
  {
   "cell_type": "markdown",
   "id": "111a2376-b8a8-4e20-8987-05462c78f4ce",
   "metadata": {},
   "source": [
    "#### Prepare Cellpose training dataset  \n",
    "\n",
    "30 training images from the HCC1143 series of experiments. Early and late Untreated plus late high dose from each drug. For nuclear segmentation, apply the red channel as a mask to the phase, then combine them to get the red channel \"textured\" by the phase images. Use red and phase as separate channels for cytoplasmic segmentation.  Use registered intensity images and prefiltered masks. Masks must have the same name as the intensity images with a suffix added before the file type. "
   ]
  },
  {
   "cell_type": "code",
   "execution_count": 23,
   "id": "1ba07163-7b92-4efe-8639-0fafbc01af06",
   "metadata": {},
   "outputs": [],
   "source": [
    "import numpy as np\n",
    "import numpy.ma as ma\n",
    "import os, glob, tifffile\n",
    "from skimage import io, filters, exposure"
   ]
  },
  {
   "cell_type": "code",
   "execution_count": 24,
   "id": "2c4c6578-4bc7-4dba-a708-e7729c609c18",
   "metadata": {},
   "outputs": [],
   "source": [
    "def transfer_r_and_p_file(data_path, cellline, plateID, well, field_num, time_slice):\n",
    "    \n",
    "    #get the cropped r image\n",
    "    filename = os.path.join(data_path, plateID,\"Analysis\",\"registered_stacks\",plateID+\"_R_\"+well+\"_\"+str(field_num)+\"_reg_stack.tif\")\n",
    "    r_image = io.imread(filename)[int(time_slice)]\n",
    "    \n",
    "    #get the cropped p image\n",
    "    filename = os.path.join(data_path, plateID,\"Analysis\",\"registered_stacks\",plateID+\"_P_\"+well+\"_\"+str(field_num)+\"_reg_stack.tif\")\n",
    "    p_image = io.imread(filename)[int(time_slice)]\n",
    "    \n",
    "    r_and_p_image = np.stack((r_image, p_image))\n",
    "    #add the cropped r image to the training set of images\n",
    "    out_filename = os.path.join(data_path,\"cellpose_Ctc_\"+cellline, \"images\",plateID+\"_\"+well+\"_\"+str(field_num)+\"_\"+time_slice+\"_r_and_p_img.tif\")\n",
    "    print(\"adding \"+out_filename+\" to image set\")\n",
    "    tifffile.imwrite(out_filename, r_and_p_image)\n",
    "    print(\"adding \"+out_filename.replace(\"_r_and\",\"\")+\" to image set\")\n",
    "    tifffile.imwrite(out_filename.replace(\"_r_and\",\"\"), p_image)\n",
    "\n",
    "def transfer_p_file(input_data_path, output_data_path, cellline, plateID, well, field_num, time_slice):\n",
    "    \n",
    "    #get the cropped p image\n",
    "    filename = os.path.join(input_data_path, plateID,\"Analysis\",\"registered_stacks\",plateID+\"_P_\"+well+\"_\"+str(field_num)+\"_reg_stack.tif\")\n",
    "    p_image = io.imread(filename)[int(time_slice)]\n",
    "    \n",
    "    #add the cropped p image to the training set of images\n",
    "    out_filename = os.path.join(output_data_path,\"cellpose_Ccnt_\"+cellline, \"images\",plateID+\"_\"+well+\"_\"+str(field_num)+\"_\"+time_slice+\"_p_img.tif\")\n",
    "    print(\"adding \"+out_filename+\" to image set\")\n",
    "    tifffile.imwrite(out_filename, p_image)\n",
    "    \n",
    "def transfer_R_file(input_data_path, output_data_path, cellline, plateID, well, field_num, time_slice):\n",
    "    \n",
    "    #get the cropped R image\n",
    "    filename = os.path.join(input_data_path, plateID,\"Analysis\",\"registered_stacks\",plateID+\"_R_\"+well+\"_\"+str(field_num)+\"_reg_stack.tif\")\n",
    "    R_image = io.imread(filename)[int(time_slice)]\n",
    "    \n",
    "    #add the cropped R image to the training set of nuclei images\n",
    "    out_filename = os.path.join(output_data_path,\"cellpose_Ccnt_\"+cellline, \"images_Ctn\",plateID+\"_\"+well+\"_\"+str(field_num)+\"_\"+time_slice+\"_R_img.tif\")\n",
    "    print(\"adding \"+out_filename+\" to image set\")\n",
    "    tifffile.imwrite(out_filename, R_image)"
   ]
  },
  {
   "cell_type": "markdown",
   "id": "d2010ee5-dd92-4bbd-bb9e-645e848624d2",
   "metadata": {},
   "source": [
    "hist, bins_center = exposure.histogram(image)\n",
    "\n",
    "plt.figure(figsize=(18, 8))\n",
    "plt.subplot(131)\n",
    "plt.imshow(image, cmap='gray', interpolation='nearest')\n",
    "plt.axis('off')\n",
    "plt.subplot(132)\n",
    "plt.imshow(nuc_mask, cmap='gray', interpolation='nearest')\n",
    "plt.axis('off')\n",
    "plt.subplot(133)\n",
    "plt.imshow(phase_image_masked, cmap = 'gray', interpolation = 'nearest')\n",
    "plt.tight_layout()"
   ]
  },
  {
   "cell_type": "code",
   "execution_count": 27,
   "id": "8cfa625f-824e-4453-babd-86a0fb4c2a22",
   "metadata": {},
   "outputs": [],
   "source": [
    "input_data_path = \"/home/exacloud/gscratch/HeiserLab/images/\"\n",
    "output_data_path = \"/home/groups/heiserlab_genomics/home/dane/CellTracking/images/\"\n",
    "plateID_list = (\"MD00301\", \"MD00401\")\n",
    "#plateID_list = ([\"MD00301\"])\n",
    "plateID_list = (\"HC01601\", \"HC01801\", \"HC02001\")\n",
    "#plateID_list = ([\"HC01501\"])\n",
    "\n",
    "cellline = \"MDAMB157\"\n",
    "cellline = \"21MT1\"\n",
    "cellline = \"HCC1143nlc_20x\"\n",
    "#cellline = \"XX\"\n",
    "\n",
    "model_name = \"Ctc\"\n",
    "well_list = (\"A1\", \"A2\",\"A3\", \"A4\", \"A5\", \"A6\",\n",
    "            \"B1\", \"B2\",\"B3\", \"B4\", \"B5\", \"B6\",\n",
    "            \"C1\", \"C2\",\"C3\", \"C4\", \"C5\", \"C6\",\n",
    "            \"D1\", \"D2\",\"D3\", \"D4\", \"D5\", \"D6\")\n",
    "\n",
    "#well_list = ([\"A1\"])\n",
    "well_list = (\"B2\",\"C2\")\n",
    "time_slice_list = (\"004\", \"100\",\"189\")\n",
    "well_list = ([\"B2\", \"B2\", \"B2\"])\n",
    "field_num = 1\n"
   ]
  },
  {
   "cell_type": "code",
   "execution_count": 29,
   "id": "c0e09939-b7ed-4b61-b7f3-1d13110cfdcb",
   "metadata": {},
   "outputs": [
    {
     "name": "stdout",
     "output_type": "stream",
     "text": [
      "adding /home/groups/heiserlab_genomics/home/dane/CellTracking/images/cellpose_Ccnt_HCC1143nlc_20x/images/HC01601_B2_1_004_p_img.tif to image set\n",
      "adding /home/groups/heiserlab_genomics/home/dane/CellTracking/images/cellpose_Ccnt_HCC1143nlc_20x/images/HC01601_B2_1_100_p_img.tif to image set\n",
      "adding /home/groups/heiserlab_genomics/home/dane/CellTracking/images/cellpose_Ccnt_HCC1143nlc_20x/images/HC01601_B2_1_189_p_img.tif to image set\n",
      "adding /home/groups/heiserlab_genomics/home/dane/CellTracking/images/cellpose_Ccnt_HCC1143nlc_20x/images/HC01801_B2_1_004_p_img.tif to image set\n",
      "adding /home/groups/heiserlab_genomics/home/dane/CellTracking/images/cellpose_Ccnt_HCC1143nlc_20x/images/HC01801_B2_1_100_p_img.tif to image set\n",
      "adding /home/groups/heiserlab_genomics/home/dane/CellTracking/images/cellpose_Ccnt_HCC1143nlc_20x/images/HC01801_B2_1_189_p_img.tif to image set\n",
      "adding /home/groups/heiserlab_genomics/home/dane/CellTracking/images/cellpose_Ccnt_HCC1143nlc_20x/images/HC02001_B2_1_004_p_img.tif to image set\n",
      "adding /home/groups/heiserlab_genomics/home/dane/CellTracking/images/cellpose_Ccnt_HCC1143nlc_20x/images/HC02001_B2_1_100_p_img.tif to image set\n",
      "adding /home/groups/heiserlab_genomics/home/dane/CellTracking/images/cellpose_Ccnt_HCC1143nlc_20x/images/HC02001_B2_1_189_p_img.tif to image set\n",
      "adding /home/groups/heiserlab_genomics/home/dane/CellTracking/images/cellpose_Ccnt_HCC1143nlc_20x/images_Ctn/HC01601_B2_1_004_R_img.tif to image set\n"
     ]
    },
    {
     "ename": "FileNotFoundError",
     "evalue": "[Errno 2] No such file or directory: '/home/groups/heiserlab_genomics/home/dane/CellTracking/images/cellpose_Ccnt_HCC1143nlc_20x/images_Ctn/HC01601_B2_1_004_R_img.tif'",
     "output_type": "error",
     "traceback": [
      "\u001b[0;31m---------------------------------------------------------------------------\u001b[0m",
      "\u001b[0;31mFileNotFoundError\u001b[0m                         Traceback (most recent call last)",
      "Cell \u001b[0;32mIn [29], line 10\u001b[0m\n\u001b[1;32m      1\u001b[0m res \u001b[38;5;241m=\u001b[39m \u001b[38;5;28mlist\u001b[39m(\u001b[38;5;28mmap\u001b[39m(transfer_p_file,\n\u001b[1;32m      2\u001b[0m                [input_data_path]\u001b[38;5;241m*\u001b[39m\u001b[38;5;28mlen\u001b[39m(well_list)\u001b[38;5;241m*\u001b[39m\u001b[38;5;28mlen\u001b[39m(plateID_list),\n\u001b[1;32m      3\u001b[0m                [output_data_path]\u001b[38;5;241m*\u001b[39m\u001b[38;5;28mlen\u001b[39m(well_list)\u001b[38;5;241m*\u001b[39m\u001b[38;5;28mlen\u001b[39m(plateID_list),\n\u001b[0;32m   (...)\u001b[0m\n\u001b[1;32m      7\u001b[0m                [field_num]\u001b[38;5;241m*\u001b[39m\u001b[38;5;28mlen\u001b[39m(well_list)\u001b[38;5;241m*\u001b[39m\u001b[38;5;28mlen\u001b[39m(plateID_list),\n\u001b[1;32m      8\u001b[0m                time_slice_list\u001b[38;5;241m*\u001b[39m\u001b[38;5;28mlen\u001b[39m(plateID_list)))\n\u001b[0;32m---> 10\u001b[0m res \u001b[38;5;241m=\u001b[39m \u001b[38;5;28;43mlist\u001b[39;49m\u001b[43m(\u001b[49m\u001b[38;5;28;43mmap\u001b[39;49m\u001b[43m(\u001b[49m\u001b[43mtransfer_R_file\u001b[49m\u001b[43m,\u001b[49m\n\u001b[1;32m     11\u001b[0m \u001b[43m               \u001b[49m\u001b[43m[\u001b[49m\u001b[43minput_data_path\u001b[49m\u001b[43m]\u001b[49m\u001b[38;5;241;43m*\u001b[39;49m\u001b[38;5;28;43mlen\u001b[39;49m\u001b[43m(\u001b[49m\u001b[43mwell_list\u001b[49m\u001b[43m)\u001b[49m\u001b[38;5;241;43m*\u001b[39;49m\u001b[38;5;28;43mlen\u001b[39;49m\u001b[43m(\u001b[49m\u001b[43mplateID_list\u001b[49m\u001b[43m)\u001b[49m\u001b[43m,\u001b[49m\n\u001b[1;32m     12\u001b[0m \u001b[43m               \u001b[49m\u001b[43m[\u001b[49m\u001b[43moutput_data_path\u001b[49m\u001b[43m]\u001b[49m\u001b[38;5;241;43m*\u001b[39;49m\u001b[38;5;28;43mlen\u001b[39;49m\u001b[43m(\u001b[49m\u001b[43mwell_list\u001b[49m\u001b[43m)\u001b[49m\u001b[38;5;241;43m*\u001b[39;49m\u001b[38;5;28;43mlen\u001b[39;49m\u001b[43m(\u001b[49m\u001b[43mplateID_list\u001b[49m\u001b[43m)\u001b[49m\u001b[43m,\u001b[49m\n\u001b[1;32m     13\u001b[0m \u001b[43m              \u001b[49m\u001b[43m[\u001b[49m\u001b[43mcellline\u001b[49m\u001b[43m]\u001b[49m\u001b[38;5;241;43m*\u001b[39;49m\u001b[38;5;28;43mlen\u001b[39;49m\u001b[43m(\u001b[49m\u001b[43mwell_list\u001b[49m\u001b[43m)\u001b[49m\u001b[38;5;241;43m*\u001b[39;49m\u001b[38;5;28;43mlen\u001b[39;49m\u001b[43m(\u001b[49m\u001b[43mplateID_list\u001b[49m\u001b[43m)\u001b[49m\u001b[43m,\u001b[49m\n\u001b[1;32m     14\u001b[0m \u001b[43m               \u001b[49m\u001b[43m[\u001b[49m\u001b[43melement\u001b[49m\u001b[43m \u001b[49m\u001b[38;5;28;43;01mfor\u001b[39;49;00m\u001b[43m \u001b[49m\u001b[43melement\u001b[49m\u001b[43m \u001b[49m\u001b[38;5;129;43;01min\u001b[39;49;00m\u001b[43m \u001b[49m\u001b[43mplateID_list\u001b[49m\u001b[43m \u001b[49m\u001b[38;5;28;43;01mfor\u001b[39;49;00m\u001b[43m \u001b[49m\u001b[43mi\u001b[49m\u001b[43m \u001b[49m\u001b[38;5;129;43;01min\u001b[39;49;00m\u001b[43m \u001b[49m\u001b[38;5;28;43mrange\u001b[39;49m\u001b[43m(\u001b[49m\u001b[38;5;28;43mlen\u001b[39;49m\u001b[43m(\u001b[49m\u001b[43mwell_list\u001b[49m\u001b[43m)\u001b[49m\u001b[43m)\u001b[49m\u001b[43m]\u001b[49m\u001b[43m,\u001b[49m\n\u001b[1;32m     15\u001b[0m \u001b[43m               \u001b[49m\u001b[43mwell_list\u001b[49m\u001b[38;5;241;43m*\u001b[39;49m\u001b[38;5;28;43mlen\u001b[39;49m\u001b[43m(\u001b[49m\u001b[43mplateID_list\u001b[49m\u001b[43m)\u001b[49m\u001b[43m,\u001b[49m\n\u001b[1;32m     16\u001b[0m \u001b[43m               \u001b[49m\u001b[43m[\u001b[49m\u001b[43mfield_num\u001b[49m\u001b[43m]\u001b[49m\u001b[38;5;241;43m*\u001b[39;49m\u001b[38;5;28;43mlen\u001b[39;49m\u001b[43m(\u001b[49m\u001b[43mwell_list\u001b[49m\u001b[43m)\u001b[49m\u001b[38;5;241;43m*\u001b[39;49m\u001b[38;5;28;43mlen\u001b[39;49m\u001b[43m(\u001b[49m\u001b[43mplateID_list\u001b[49m\u001b[43m)\u001b[49m\u001b[43m,\u001b[49m\n\u001b[1;32m     17\u001b[0m \u001b[43m               \u001b[49m\u001b[43mtime_slice_list\u001b[49m\u001b[38;5;241;43m*\u001b[39;49m\u001b[38;5;28;43mlen\u001b[39;49m\u001b[43m(\u001b[49m\u001b[43mplateID_list\u001b[49m\u001b[43m)\u001b[49m\u001b[43m)\u001b[49m\u001b[43m)\u001b[49m\n",
      "Cell \u001b[0;32mIn [24], line 39\u001b[0m, in \u001b[0;36mtransfer_R_file\u001b[0;34m(input_data_path, output_data_path, cellline, plateID, well, field_num, time_slice)\u001b[0m\n\u001b[1;32m     37\u001b[0m out_filename \u001b[38;5;241m=\u001b[39m os\u001b[38;5;241m.\u001b[39mpath\u001b[38;5;241m.\u001b[39mjoin(output_data_path,\u001b[38;5;124m\"\u001b[39m\u001b[38;5;124mcellpose_Ccnt_\u001b[39m\u001b[38;5;124m\"\u001b[39m\u001b[38;5;241m+\u001b[39mcellline, \u001b[38;5;124m\"\u001b[39m\u001b[38;5;124mimages_Ctn\u001b[39m\u001b[38;5;124m\"\u001b[39m,plateID\u001b[38;5;241m+\u001b[39m\u001b[38;5;124m\"\u001b[39m\u001b[38;5;124m_\u001b[39m\u001b[38;5;124m\"\u001b[39m\u001b[38;5;241m+\u001b[39mwell\u001b[38;5;241m+\u001b[39m\u001b[38;5;124m\"\u001b[39m\u001b[38;5;124m_\u001b[39m\u001b[38;5;124m\"\u001b[39m\u001b[38;5;241m+\u001b[39m\u001b[38;5;28mstr\u001b[39m(field_num)\u001b[38;5;241m+\u001b[39m\u001b[38;5;124m\"\u001b[39m\u001b[38;5;124m_\u001b[39m\u001b[38;5;124m\"\u001b[39m\u001b[38;5;241m+\u001b[39mtime_slice\u001b[38;5;241m+\u001b[39m\u001b[38;5;124m\"\u001b[39m\u001b[38;5;124m_R_img.tif\u001b[39m\u001b[38;5;124m\"\u001b[39m)\n\u001b[1;32m     38\u001b[0m \u001b[38;5;28mprint\u001b[39m(\u001b[38;5;124m\"\u001b[39m\u001b[38;5;124madding \u001b[39m\u001b[38;5;124m\"\u001b[39m\u001b[38;5;241m+\u001b[39mout_filename\u001b[38;5;241m+\u001b[39m\u001b[38;5;124m\"\u001b[39m\u001b[38;5;124m to image set\u001b[39m\u001b[38;5;124m\"\u001b[39m)\n\u001b[0;32m---> 39\u001b[0m \u001b[43mtifffile\u001b[49m\u001b[38;5;241;43m.\u001b[39;49m\u001b[43mimwrite\u001b[49m\u001b[43m(\u001b[49m\u001b[43mout_filename\u001b[49m\u001b[43m,\u001b[49m\u001b[43m \u001b[49m\u001b[43mR_image\u001b[49m\u001b[43m)\u001b[49m\n",
      "File \u001b[0;32m/home/exacloud/gscratch/HeiserLab/software/miniconda3/envs/cellpose/lib/python3.8/site-packages/tifffile/tifffile.py:1220\u001b[0m, in \u001b[0;36mimwrite\u001b[0;34m(file, data, bigtiff, byteorder, imagej, ome, shaped, append, shape, dtype, photometric, planarconfig, extrasamples, volumetric, tile, rowsperstrip, bitspersample, compression, compressionargs, predictor, subsampling, jpegtables, colormap, description, datetime, resolution, resolutionunit, subfiletype, software, metadata, extratags, contiguous, truncate, align, maxworkers, returnoffset)\u001b[0m\n\u001b[1;32m   1212\u001b[0m \u001b[38;5;28;01mif\u001b[39;00m bigtiff \u001b[38;5;129;01mis\u001b[39;00m \u001b[38;5;28;01mNone\u001b[39;00m:\n\u001b[1;32m   1213\u001b[0m     bigtiff \u001b[38;5;241m=\u001b[39m (\n\u001b[1;32m   1214\u001b[0m         datasize \u001b[38;5;241m>\u001b[39m \u001b[38;5;241m2\u001b[39m\u001b[38;5;241m*\u001b[39m\u001b[38;5;241m*\u001b[39m\u001b[38;5;241m32\u001b[39m \u001b[38;5;241m-\u001b[39m \u001b[38;5;241m2\u001b[39m\u001b[38;5;241m*\u001b[39m\u001b[38;5;241m*\u001b[39m\u001b[38;5;241m25\u001b[39m\n\u001b[1;32m   1215\u001b[0m         \u001b[38;5;129;01mand\u001b[39;00m \u001b[38;5;129;01mnot\u001b[39;00m imagej\n\u001b[1;32m   1216\u001b[0m         \u001b[38;5;129;01mand\u001b[39;00m \u001b[38;5;129;01mnot\u001b[39;00m truncate\n\u001b[1;32m   1217\u001b[0m         \u001b[38;5;129;01mand\u001b[39;00m compression \u001b[38;5;129;01min\u001b[39;00m (\u001b[38;5;28;01mNone\u001b[39;00m, \u001b[38;5;241m0\u001b[39m, \u001b[38;5;241m1\u001b[39m, \u001b[38;5;124m'\u001b[39m\u001b[38;5;124mNONE\u001b[39m\u001b[38;5;124m'\u001b[39m, \u001b[38;5;124m'\u001b[39m\u001b[38;5;124mnone\u001b[39m\u001b[38;5;124m'\u001b[39m)\n\u001b[1;32m   1218\u001b[0m     )\n\u001b[0;32m-> 1220\u001b[0m \u001b[38;5;28;01mwith\u001b[39;00m \u001b[43mTiffWriter\u001b[49m\u001b[43m(\u001b[49m\n\u001b[1;32m   1221\u001b[0m \u001b[43m    \u001b[49m\u001b[43mfile\u001b[49m\u001b[43m,\u001b[49m\n\u001b[1;32m   1222\u001b[0m \u001b[43m    \u001b[49m\u001b[43mbigtiff\u001b[49m\u001b[38;5;241;43m=\u001b[39;49m\u001b[43mbigtiff\u001b[49m\u001b[43m,\u001b[49m\n\u001b[1;32m   1223\u001b[0m \u001b[43m    \u001b[49m\u001b[43mbyteorder\u001b[49m\u001b[38;5;241;43m=\u001b[39;49m\u001b[43mbyteorder\u001b[49m\u001b[43m,\u001b[49m\n\u001b[1;32m   1224\u001b[0m \u001b[43m    \u001b[49m\u001b[43mappend\u001b[49m\u001b[38;5;241;43m=\u001b[39;49m\u001b[43mappend\u001b[49m\u001b[43m,\u001b[49m\n\u001b[1;32m   1225\u001b[0m \u001b[43m    \u001b[49m\u001b[43mimagej\u001b[49m\u001b[38;5;241;43m=\u001b[39;49m\u001b[43mimagej\u001b[49m\u001b[43m,\u001b[49m\n\u001b[1;32m   1226\u001b[0m \u001b[43m    \u001b[49m\u001b[43mome\u001b[49m\u001b[38;5;241;43m=\u001b[39;49m\u001b[43mome\u001b[49m\u001b[43m,\u001b[49m\n\u001b[1;32m   1227\u001b[0m \u001b[43m    \u001b[49m\u001b[43mshaped\u001b[49m\u001b[38;5;241;43m=\u001b[39;49m\u001b[43mshaped\u001b[49m\u001b[43m,\u001b[49m\n\u001b[1;32m   1228\u001b[0m \u001b[43m\u001b[49m\u001b[43m)\u001b[49m \u001b[38;5;28;01mas\u001b[39;00m tif:\n\u001b[1;32m   1229\u001b[0m     result \u001b[38;5;241m=\u001b[39m tif\u001b[38;5;241m.\u001b[39mwrite(\n\u001b[1;32m   1230\u001b[0m         data,\n\u001b[1;32m   1231\u001b[0m         shape\u001b[38;5;241m=\u001b[39mshape,\n\u001b[0;32m   (...)\u001b[0m\n\u001b[1;32m   1258\u001b[0m         returnoffset\u001b[38;5;241m=\u001b[39mreturnoffset,\n\u001b[1;32m   1259\u001b[0m     )\n\u001b[1;32m   1260\u001b[0m \u001b[38;5;28;01mreturn\u001b[39;00m result\n",
      "File \u001b[0;32m/home/exacloud/gscratch/HeiserLab/software/miniconda3/envs/cellpose/lib/python3.8/site-packages/tifffile/tifffile.py:1527\u001b[0m, in \u001b[0;36mTiffWriter.__init__\u001b[0;34m(self, file, bigtiff, byteorder, append, imagej, ome, shaped)\u001b[0m\n\u001b[1;32m   1525\u001b[0m     \u001b[38;5;28mself\u001b[39m\u001b[38;5;241m.\u001b[39m_fh\u001b[38;5;241m.\u001b[39mseek(\u001b[38;5;241m0\u001b[39m, os\u001b[38;5;241m.\u001b[39mSEEK_END)\n\u001b[1;32m   1526\u001b[0m \u001b[38;5;28;01melse\u001b[39;00m:\n\u001b[0;32m-> 1527\u001b[0m     \u001b[38;5;28mself\u001b[39m\u001b[38;5;241m.\u001b[39m_fh \u001b[38;5;241m=\u001b[39m \u001b[43mFileHandle\u001b[49m\u001b[43m(\u001b[49m\u001b[43mfile\u001b[49m\u001b[43m,\u001b[49m\u001b[43m \u001b[49m\u001b[43mmode\u001b[49m\u001b[38;5;241;43m=\u001b[39;49m\u001b[38;5;124;43m'\u001b[39;49m\u001b[38;5;124;43mwb\u001b[39;49m\u001b[38;5;124;43m'\u001b[39;49m\u001b[43m,\u001b[49m\u001b[43m \u001b[49m\u001b[43msize\u001b[49m\u001b[38;5;241;43m=\u001b[39;49m\u001b[38;5;241;43m0\u001b[39;49m\u001b[43m)\u001b[49m\n\u001b[1;32m   1528\u001b[0m     \u001b[38;5;28mself\u001b[39m\u001b[38;5;241m.\u001b[39m_fh\u001b[38;5;241m.\u001b[39mwrite({\u001b[38;5;124m'\u001b[39m\u001b[38;5;124m<\u001b[39m\u001b[38;5;124m'\u001b[39m: \u001b[38;5;124mb\u001b[39m\u001b[38;5;124m'\u001b[39m\u001b[38;5;124mII\u001b[39m\u001b[38;5;124m'\u001b[39m, \u001b[38;5;124m'\u001b[39m\u001b[38;5;124m>\u001b[39m\u001b[38;5;124m'\u001b[39m: \u001b[38;5;124mb\u001b[39m\u001b[38;5;124m'\u001b[39m\u001b[38;5;124mMM\u001b[39m\u001b[38;5;124m'\u001b[39m}[byteorder])\n\u001b[1;32m   1529\u001b[0m     \u001b[38;5;28;01mif\u001b[39;00m bigtiff:\n",
      "File \u001b[0;32m/home/exacloud/gscratch/HeiserLab/software/miniconda3/envs/cellpose/lib/python3.8/site-packages/tifffile/tifffile.py:13635\u001b[0m, in \u001b[0;36mFileHandle.__init__\u001b[0;34m(self, file, mode, name, offset, size)\u001b[0m\n\u001b[1;32m  13633\u001b[0m \u001b[38;5;28mself\u001b[39m\u001b[38;5;241m.\u001b[39m_close \u001b[38;5;241m=\u001b[39m \u001b[38;5;28;01mTrue\u001b[39;00m\n\u001b[1;32m  13634\u001b[0m \u001b[38;5;28mself\u001b[39m\u001b[38;5;241m.\u001b[39m_lock \u001b[38;5;241m=\u001b[39m NullContext()\n\u001b[0;32m> 13635\u001b[0m \u001b[38;5;28;43mself\u001b[39;49m\u001b[38;5;241;43m.\u001b[39;49m\u001b[43mopen\u001b[49m\u001b[43m(\u001b[49m\u001b[43m)\u001b[49m\n\u001b[1;32m  13636\u001b[0m \u001b[38;5;28;01massert\u001b[39;00m \u001b[38;5;28mself\u001b[39m\u001b[38;5;241m.\u001b[39m_fh \u001b[38;5;129;01mis\u001b[39;00m \u001b[38;5;129;01mnot\u001b[39;00m \u001b[38;5;28;01mNone\u001b[39;00m\n",
      "File \u001b[0;32m/home/exacloud/gscratch/HeiserLab/software/miniconda3/envs/cellpose/lib/python3.8/site-packages/tifffile/tifffile.py:13650\u001b[0m, in \u001b[0;36mFileHandle.open\u001b[0;34m(self)\u001b[0m\n\u001b[1;32m  13648\u001b[0m \u001b[38;5;28mself\u001b[39m\u001b[38;5;241m.\u001b[39m_file \u001b[38;5;241m=\u001b[39m os\u001b[38;5;241m.\u001b[39mpath\u001b[38;5;241m.\u001b[39mrealpath(\u001b[38;5;28mself\u001b[39m\u001b[38;5;241m.\u001b[39m_file)\n\u001b[1;32m  13649\u001b[0m \u001b[38;5;28mself\u001b[39m\u001b[38;5;241m.\u001b[39m_dir, \u001b[38;5;28mself\u001b[39m\u001b[38;5;241m.\u001b[39m_name \u001b[38;5;241m=\u001b[39m os\u001b[38;5;241m.\u001b[39mpath\u001b[38;5;241m.\u001b[39msplit(\u001b[38;5;28mself\u001b[39m\u001b[38;5;241m.\u001b[39m_file)\n\u001b[0;32m> 13650\u001b[0m \u001b[38;5;28mself\u001b[39m\u001b[38;5;241m.\u001b[39m_fh \u001b[38;5;241m=\u001b[39m \u001b[38;5;28;43mopen\u001b[39;49m\u001b[43m(\u001b[49m\u001b[38;5;28;43mself\u001b[39;49m\u001b[38;5;241;43m.\u001b[39;49m\u001b[43m_file\u001b[49m\u001b[43m,\u001b[49m\u001b[43m \u001b[49m\u001b[38;5;28;43mself\u001b[39;49m\u001b[38;5;241;43m.\u001b[39;49m\u001b[43m_mode\u001b[49m\u001b[43m)\u001b[49m  \u001b[38;5;66;03m# type: ignore\u001b[39;00m\n\u001b[1;32m  13651\u001b[0m \u001b[38;5;28mself\u001b[39m\u001b[38;5;241m.\u001b[39m_close \u001b[38;5;241m=\u001b[39m \u001b[38;5;28;01mTrue\u001b[39;00m\n\u001b[1;32m  13652\u001b[0m \u001b[38;5;28;01mif\u001b[39;00m \u001b[38;5;28mself\u001b[39m\u001b[38;5;241m.\u001b[39m_offset \u001b[38;5;241m<\u001b[39m \u001b[38;5;241m0\u001b[39m:\n",
      "\u001b[0;31mFileNotFoundError\u001b[0m: [Errno 2] No such file or directory: '/home/groups/heiserlab_genomics/home/dane/CellTracking/images/cellpose_Ccnt_HCC1143nlc_20x/images_Ctn/HC01601_B2_1_004_R_img.tif'"
     ]
    }
   ],
   "source": [
    "res = list(map(transfer_p_file,\n",
    "               [input_data_path]*len(well_list)*len(plateID_list),\n",
    "               [output_data_path]*len(well_list)*len(plateID_list),\n",
    "              [cellline]*len(well_list)*len(plateID_list),\n",
    "               [element for element in plateID_list for i in range(len(well_list))],\n",
    "               well_list*len(plateID_list),\n",
    "               [field_num]*len(well_list)*len(plateID_list),\n",
    "               time_slice_list*len(plateID_list)))\n",
    "\n",
    "res = list(map(transfer_R_file,\n",
    "               [input_data_path]*len(well_list)*len(plateID_list),\n",
    "               [output_data_path]*len(well_list)*len(plateID_list),\n",
    "              [cellline]*len(well_list)*len(plateID_list),\n",
    "               [element for element in plateID_list for i in range(len(well_list))],\n",
    "               well_list*len(plateID_list),\n",
    "               [field_num]*len(well_list)*len(plateID_list),\n",
    "               time_slice_list*len(plateID_list)))\n"
   ]
  },
  {
   "cell_type": "code",
   "execution_count": null,
   "id": "c2a574d9-d5d1-47de-9302-8d6c0e76581d",
   "metadata": {},
   "outputs": [],
   "source": []
  }
 ],
 "metadata": {
  "kernelspec": {
   "display_name": "Python 3 (ipykernel)",
   "language": "python",
   "name": "python3"
  },
  "language_info": {
   "codemirror_mode": {
    "name": "ipython",
    "version": 3
   },
   "file_extension": ".py",
   "mimetype": "text/x-python",
   "name": "python",
   "nbconvert_exporter": "python",
   "pygments_lexer": "ipython3",
   "version": "3.8.12"
  }
 },
 "nbformat": 4,
 "nbformat_minor": 5
}
