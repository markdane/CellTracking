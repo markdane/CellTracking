{
 "cells": [
  {
   "cell_type": "code",
   "execution_count": 35,
   "id": "bdd49336-2e19-40a8-ae27-8e81879fffca",
   "metadata": {},
   "outputs": [],
   "source": [
    "import os, re, glob, sys"
   ]
  },
  {
   "cell_type": "code",
   "execution_count": 36,
   "id": "996a4324-9499-499f-9317-a30e17afe9e7",
   "metadata": {},
   "outputs": [],
   "source": [
    "pipeline_name = 'PI' # python + ilastik\n",
    "data_path = '/home/exacloud/gscratch/HeiserLab/images/'\n",
    "plateID = 'AU00602' #sys.argv[1]\n",
    "input_files_path = os.path.join(data_path+plateID,\"Analysis\",pipeline_name,\"intermediate_files\")\n",
    "image_stack_paths = sorted(glob.glob(input_files_path+\"/*stack.tif\"))\n",
    "mask_paths = sorted(glob.glob(input_files_path+\"/*Segmentation.h5\"))\n",
    "mainpath = os.path.join(data_path,plateID,\"Analysis\",pipeline_name)"
   ]
  },
  {
   "cell_type": "markdown",
   "id": "97578d0e-59e3-4995-8013-1c4ab320b80a",
   "metadata": {},
   "source": [
    "Only create an  job if there is no output file."
   ]
  },
  {
   "cell_type": "code",
   "execution_count": 59,
   "id": "208c5876-4cdf-4e8c-b9e0-ccfabcdadbfe",
   "metadata": {},
   "outputs": [
    {
     "name": "stdout",
     "output_type": "stream",
     "text": [
      "launched job to create data for /home/exacloud/gscratch/HeiserLab/images/AU00601/Analysis/PI/AU00601_A2_level_1.csv\n",
      "launched job to create data for /home/exacloud/gscratch/HeiserLab/images/AU00601/Analysis/PI/AU00601_A3_level_1.csv\n",
      "launched job to create data for /home/exacloud/gscratch/HeiserLab/images/AU00601/Analysis/PI/AU00601_A4_level_1.csv\n",
      "launched job to create data for /home/exacloud/gscratch/HeiserLab/images/AU00601/Analysis/PI/AU00601_A5_level_1.csv\n",
      "launched job to create data for /home/exacloud/gscratch/HeiserLab/images/AU00601/Analysis/PI/AU00601_A6_level_1.csv\n",
      "launched job to create data for /home/exacloud/gscratch/HeiserLab/images/AU00601/Analysis/PI/AU00601_B1_level_1.csv\n",
      "launched job to create data for /home/exacloud/gscratch/HeiserLab/images/AU00601/Analysis/PI/AU00601_B2_level_1.csv\n",
      "launched job to create data for /home/exacloud/gscratch/HeiserLab/images/AU00601/Analysis/PI/AU00601_B3_level_1.csv\n",
      "launched job to create data for /home/exacloud/gscratch/HeiserLab/images/AU00601/Analysis/PI/AU00601_B4_level_1.csv\n",
      "launched job to create data for /home/exacloud/gscratch/HeiserLab/images/AU00601/Analysis/PI/AU00601_B5_level_1.csv\n",
      "launched job to create data for /home/exacloud/gscratch/HeiserLab/images/AU00601/Analysis/PI/AU00601_B6_level_1.csv\n",
      "launched job to create data for /home/exacloud/gscratch/HeiserLab/images/AU00601/Analysis/PI/AU00601_C1_level_1.csv\n",
      "launched job to create data for /home/exacloud/gscratch/HeiserLab/images/AU00601/Analysis/PI/AU00601_C2_level_1.csv\n",
      "launched job to create data for /home/exacloud/gscratch/HeiserLab/images/AU00601/Analysis/PI/AU00601_C3_level_1.csv\n",
      "launched job to create data for /home/exacloud/gscratch/HeiserLab/images/AU00601/Analysis/PI/AU00601_C4_level_1.csv\n",
      "launched job to create data for /home/exacloud/gscratch/HeiserLab/images/AU00601/Analysis/PI/AU00601_C5_level_1.csv\n",
      "launched job to create data for /home/exacloud/gscratch/HeiserLab/images/AU00601/Analysis/PI/AU00601_C6_level_1.csv\n",
      "launched job to create data for /home/exacloud/gscratch/HeiserLab/images/AU00601/Analysis/PI/AU00601_D1_level_1.csv\n",
      "launched job to create data for /home/exacloud/gscratch/HeiserLab/images/AU00601/Analysis/PI/AU00601_D2_level_1.csv\n",
      "launched job to create data for /home/exacloud/gscratch/HeiserLab/images/AU00601/Analysis/PI/AU00601_D3_level_1.csv\n",
      "launched job to create data for /home/exacloud/gscratch/HeiserLab/images/AU00601/Analysis/PI/AU00601_D4_level_1.csv\n",
      "launched job to create data for /home/exacloud/gscratch/HeiserLab/images/AU00601/Analysis/PI/AU00601_D5_level_1.csv\n",
      "launched job to create data for /home/exacloud/gscratch/HeiserLab/images/AU00601/Analysis/PI/AU00601_D6_level_1.csv\n"
     ]
    }
   ],
   "source": [
    "wells = sorted(set(re.findall(r\"_[A-Z][1-9]_\", ''.join(mask_paths)))) #get a unique set of the wells with images that have been segmented\n",
    "\n",
    "for well in wells:\n",
    "    #initate a job if the csv file for the current well does not exists\n",
    "    l1_file_path = data_path+plateID+\"/Analysis/\"+pipeline_name+\"/\"+plateID+well+\"level_1.csv\"\n",
    "    well = re.sub(\"_\",\"\",well)\n",
    "    if not os.path.exists(l1_file_path):\n",
    "        cmd = 'srun -c 8 -J M'+plateID[3:8]+well[1:3]+' -o M'+plateID[3:8]+well[1:3]+'_out.txt -t 23:00:00 python Apply_ilastik_masks.py '+plateID+' '+well+' &'\n",
    "        returned_value = os.system(cmd)  # returns the exit code in unix\n",
    "        if returned_value == 0:\n",
    "            print(\"launched job to create data for \"+l1_file_path)\n",
    "        else:\n",
    "            print(\"failed to launch job to create data for \"+l1_file_path)\n"
   ]
  },
  {
   "cell_type": "code",
   "execution_count": null,
   "id": "1c65b9a0-311e-4d4b-bbeb-48e3c1b70b3a",
   "metadata": {},
   "outputs": [],
   "source": []
  }
 ],
 "metadata": {
  "kernelspec": {
   "display_name": "biapy",
   "language": "python",
   "name": "biapy"
  },
  "language_info": {
   "codemirror_mode": {
    "name": "ipython",
    "version": 3
   },
   "file_extension": ".py",
   "mimetype": "text/x-python",
   "name": "python",
   "nbconvert_exporter": "python",
   "pygments_lexer": "ipython3",
   "version": "3.7.10"
  }
 },
 "nbformat": 4,
 "nbformat_minor": 5
}
