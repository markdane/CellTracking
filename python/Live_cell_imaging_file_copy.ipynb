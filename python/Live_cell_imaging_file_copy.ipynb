{
 "cells": [
  {
   "cell_type": "markdown",
   "id": "b7b3e3bb-a373-4fad-80db-a7eba594fbc8",
   "metadata": {},
   "source": [
    "### Live Cell Imaging File Copy\n",
    "\n",
    "This notebook intiates processing AU565 image files by first copying them to the exacloud gscratch storage."
   ]
  },
  {
   "cell_type": "code",
   "execution_count": 11,
   "id": "d50f7b49-374f-4dc1-a9a7-0e2f0af71360",
   "metadata": {},
   "outputs": [],
   "source": [
    "#setup libraries\n",
    "import pandas as pd\n",
    "import numpy as np\n",
    "import os, re, glob, shutil, sys"
   ]
  },
  {
   "cell_type": "code",
   "execution_count": 31,
   "id": "cd1c6c83-0f93-459f-8c54-a5e965381033",
   "metadata": {},
   "outputs": [
    {
     "name": "stdout",
     "output_type": "stream",
     "text": [
      "starting file copy for AU01501\n",
      "getting files for AU01501\n",
      "making directories in /home/exacloud/gscratch/HeiserLab/images/\n",
      "copying files to /home/exacloud/gscratch/HeiserLab/images//AU01501\n",
      "done copying files for AU01501\n",
      "\n"
     ]
    }
   ],
   "source": [
    "directory_name = \"AU_I_L_008_01_1\"\n",
    "plate_name = \"AU008001\"\n",
    "#plate_names = sys.argv[1:]\n",
    "\n",
    "def get_file_df(plate_name):\n",
    "    print(\"getting files for \"+plate_name)\n",
    "    #data_path =  '/home/groups/graylab_share/OMERO.rdsStore/liby/AU565 Drug Screen Project/'+directory_name+'/'+plate_name+'_IMAGES'\n",
    "    data_path =  '/home/groups/heiserlab_genomics/home/grossse/AU565 Project/AU565 Image Files/'+directory_name+'/'+directory_name+'_IMAGES'\n",
    "    data_paths = glob.glob(os.path.join(data_path,\"*.tif\"),recursive=False)\n",
    "    df = pd.DataFrame(data_paths, columns =['path'])\n",
    "    df['filename'] = df['path'].str.extract('(\\w*.tif)')\n",
    "    df['plateID'] = df['filename'].str.extract('(^[a-zA-Z0-9]*)')\n",
    "    df['channel'] = df['filename'].str.extract('(_[PRG]_)')\n",
    "    df['channel'] = df['channel'].str.extract('([PRG])')\n",
    "    df['well'] = df['filename'].str.extract('(_[A-Z][0-9]+_)')\n",
    "    df['well'] = df['well'].str.extract('([A-Z][0-9]+)')\n",
    "    df['field'] = df['filename'].str.extract('(_[0-9]+_)')\n",
    "    df['field'] = df['field'].str.extract('([0-9]+)')\n",
    "    df['time'] = df['filename'].str.extract('(_[a-z0-9]*.tif)')\n",
    "    df['time'] = df['time'].str.replace('[_(.tif)]','',regex = True)\n",
    "    return df\n",
    "\n",
    "def make_directories(df, dest_path):\n",
    "    print(\"making directories in \"+dest_path)\n",
    "    df_directories = df[['plateID', 'well', 'field']].drop_duplicates()\n",
    "    df_directories['dest_path'] = df_directories['plateID']+'/'+df_directories['well']+'/'+'field_'+df_directories['field']\n",
    "    \n",
    "    for dest in df_directories['dest_path'].tolist():\n",
    "        full_path = os.path.join(dest_path, dest)\n",
    "        if not os.path.exists(full_path):\n",
    "            os.makedirs(full_path)\n",
    "    return df_directories \n",
    "        \n",
    "dest_path = '/home/exacloud/gscratch/HeiserLab/images/'\n",
    "\n",
    "print(\"starting file copy for \"+plate_name)\n",
    "df = get_file_df(plate_name)\n",
    "df_directories = make_directories(df, dest_path)\n",
    "    \n",
    "df = df.join(df_directories.set_index(['plateID','well','field']),on = ['plateID','well','field'])\n",
    "print(\"copying files to \"+dest_path+'/'+plate_name)\n",
    "for count, src_path in enumerate(df['path'].tolist()):\n",
    "    full_dest_path = os.path.join(dest_path, df['dest_path'][count])\n",
    "    shutil.copy2(src_path, full_dest_path)\n",
    "print(\"done copying files for \"+plate_name+\"\\n\")"
   ]
  },
  {
   "cell_type": "code",
   "execution_count": 6,
   "id": "6cc032e5-51a5-41c8-b7ed-a4ec76691485",
   "metadata": {
    "scrolled": true,
    "tags": []
   },
   "outputs": [
    {
     "data": {
      "text/plain": [
       "0    /home/groups/heiserlab_genomics/home/grossse/A...\n",
       "1    /home/groups/heiserlab_genomics/home/grossse/A...\n",
       "2    /home/groups/heiserlab_genomics/home/grossse/A...\n",
       "3    /home/groups/heiserlab_genomics/home/grossse/A...\n",
       "4    /home/groups/heiserlab_genomics/home/grossse/A...\n",
       "5    /home/groups/heiserlab_genomics/home/grossse/A...\n",
       "6    /home/groups/heiserlab_genomics/home/grossse/A...\n",
       "7    /home/groups/heiserlab_genomics/home/grossse/A...\n",
       "8    /home/groups/heiserlab_genomics/home/grossse/A...\n",
       "9    /home/groups/heiserlab_genomics/home/grossse/A...\n",
       "Name: path, dtype: object"
      ]
     },
     "execution_count": 6,
     "metadata": {},
     "output_type": "execute_result"
    }
   ],
   "source": [
    "#df['path'][0:10]"
   ]
  },
  {
   "cell_type": "markdown",
   "id": "3afa3d49-fc6d-4e6d-9aed-cc67b23c76e2",
   "metadata": {},
   "source": [
    "Move the files to gscratch and organize them by well and field.\n",
    "\n",
    "directory tree on gscratch will be /home/exacloud/gscratch/HeiserLab/images/LI204601/<well>/<field>\n",
    "first create the directories if they don't exist"
   ]
  },
  {
   "cell_type": "markdown",
   "id": "4bc83213-039b-44e6-b1c5-54acb9ab0412",
   "metadata": {},
   "source": [
    "Now copy the files from the source on graylab to gscratch\n",
    "\n",
    "for count, value in enumerate(values)\n",
    "\n",
    "shutil.copy2(src, dst, *, follow_symlinks=True)\n"
   ]
  },
  {
   "cell_type": "code",
   "execution_count": 4,
   "id": "decf1295-8da6-4d5b-a4c8-6db865058161",
   "metadata": {},
   "outputs": [
    {
     "data": {
      "text/plain": [
       "['AU_I_L_008_01_1', 'AU_I_L_008_02_1']"
      ]
     },
     "execution_count": 4,
     "metadata": {},
     "output_type": "execute_result"
    }
   ],
   "source": [
    "plate_names"
   ]
  },
  {
   "cell_type": "code",
   "execution_count": 5,
   "id": "8f7aa964-874b-43bf-999c-8f12a2ac60d9",
   "metadata": {},
   "outputs": [
    {
     "data": {
      "text/plain": [
       "['AU_I_L_008_02_1']"
      ]
     },
     "execution_count": 5,
     "metadata": {},
     "output_type": "execute_result"
    }
   ],
   "source": [
    "plate_names[1:]"
   ]
  },
  {
   "cell_type": "code",
   "execution_count": null,
   "id": "047d9fc2-c376-4106-aa87-e35eff2f188c",
   "metadata": {},
   "outputs": [],
   "source": []
  }
 ],
 "metadata": {
  "kernelspec": {
   "display_name": "biapy",
   "language": "python",
   "name": "biapy"
  },
  "language_info": {
   "codemirror_mode": {
    "name": "ipython",
    "version": 3
   },
   "file_extension": ".py",
   "mimetype": "text/x-python",
   "name": "python",
   "nbconvert_exporter": "python",
   "pygments_lexer": "ipython3",
   "version": "3.7.10"
  }
 },
 "nbformat": 4,
 "nbformat_minor": 5
}
