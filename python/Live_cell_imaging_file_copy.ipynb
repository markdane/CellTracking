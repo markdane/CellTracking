{
 "cells": [
  {
   "cell_type": "markdown",
   "id": "b7b3e3bb-a373-4fad-80db-a7eba594fbc8",
   "metadata": {},
   "source": [
    "### Live Cell Imaging File Copy\n",
    "\n",
    "This notebook intiates processing  image files by first copying them to the exacloud gscratch storage."
   ]
  },
  {
   "cell_type": "code",
   "execution_count": 1,
   "id": "d50f7b49-374f-4dc1-a9a7-0e2f0af71360",
   "metadata": {},
   "outputs": [],
   "source": [
    "#setup libraries\n",
    "import numpy as np\n",
    "import pandas as pd\n",
    "import os, re, glob, shutil, sys"
   ]
  },
  {
   "cell_type": "code",
   "execution_count": 9,
   "id": "cd1c6c83-0f93-459f-8c54-a5e965381033",
   "metadata": {},
   "outputs": [
    {
     "name": "stdout",
     "output_type": "stream",
     "text": [
      "starting file copy for HC01401\n",
      "getting files for HC01401\n",
      "making directories in /home/exacloud/gscratch/HeiserLab/images/\n",
      "copying files to /home/exacloud/gscratch/HeiserLab/images//HC01401\n",
      "done copying files for HC01401\n",
      "\n"
     ]
    }
   ],
   "source": [
    "directory_name = \"AU565_drug_screen\"\n",
    "directory_name = \"HCC1143_drug_screen\"\n",
    "directory_name = \"21MT1_drug_screen\"\n",
    "#directory_name = \"AU_I_L_006_01_1\"\n",
    "\n",
    "#directory_name = \"AU565_Drug_Screen_Project\" #used for files stored on graylab_share\n",
    "plate_name = \"AU00601\"\n",
    "plate_name = \"HC01401\"\n",
    "plate_name = \"2100701\"\n",
    "\n",
    "def get_file_df(plate_name):\n",
    "    print(\"getting files for \"+plate_name)\n",
    "    #data_path =  '/home/groups/graylab_share/OMERO.rdsStore/liby/'+directory_name+'/'+plate_name+\"/\"+plate_name+'_IMAGES'\n",
    "    data_path =  '/home/groups/heiserlab_genomics/home/liby/'+directory_name+'/'+plate_name+\"/\"+plate_name+'_IMAGES'\n",
    "    #data_path =  '/home/groups/heiserlab_genomics/home/liby/'+directory_name+'/'+plate_name+'_IMAGES'\n",
    "    #data_path = \"/home/groups/heiserlab_genomics/home/grossse/AU565 Project/AU565 Image Files/AU_I_L_006_01_1/AU_I_L_006_01_1_IMAGES\"\n",
    "    data_paths = glob.glob(os.path.join(data_path,\"*.tif\"),recursive=False)\n",
    "    df = pd.DataFrame(data_paths, columns =['path'])\n",
    "    df['filename'] = df['path'].str.extract('(\\w*.tif)')\n",
    "    df['plateID'] = df['filename'].str.extract('(^[a-zA-Z0-9]*)')\n",
    "    df['channel'] = df['filename'].str.extract('(_[PRG]_)')\n",
    "    df['channel'] = df['channel'].str.extract('([PRG])')\n",
    "    df['well'] = df['filename'].str.extract('(_[A-Z][0-9]+_)')\n",
    "    df['well'] = df['well'].str.extract('([A-Z][0-9]+)')\n",
    "    df['field'] = df['filename'].str.extract('(_[0-9]+_)')\n",
    "    df['field'] = df['field'].str.extract('([0-9]+)')\n",
    "    df['time'] = df['filename'].str.extract('(_[a-z0-9]*.tif)')\n",
    "    df['time'] = df['time'].str.replace('[_(.tif)]','',regex = True)\n",
    "    return df\n",
    "\n",
    "def make_directories(df, dest_path):\n",
    "    print(\"making directories in \"+dest_path)\n",
    "    df_directories = df[['plateID', 'well', 'field']].drop_duplicates()\n",
    "    df_directories['dest_path'] = df_directories['plateID']+'/'+df_directories['well']+'/'+'field_'+df_directories['field']\n",
    "    \n",
    "    for dest in df_directories['dest_path'].tolist():\n",
    "        full_path = os.path.join(dest_path, dest)\n",
    "        if not os.path.exists(full_path):\n",
    "            os.makedirs(full_path)\n",
    "    return df_directories \n",
    "        \n",
    "dest_path = '/home/exacloud/gscratch/HeiserLab/images/'\n",
    "\n",
    "print(\"starting file copy for \"+plate_name)\n",
    "df_all = get_file_df(plate_name)\n",
    "#poor_quality_wells = (\"A5\", \"A6\", \"B5\", \"B6\",\"C5\", \"C6\",\"D5\", \"D6\")\n",
    "#poor_quality_wells = (\"A1\", \"A2\", \"A3\", \"A4\", \"A5\",\"A6\",\n",
    "#                      \"B1\", \"B2\", \"B3\", \"B4\", \"B5\", \"B6\", \n",
    "#                      \"C1\", \"C2\",       \"C4\", \"C5\", \"C5\",\n",
    "#                      \"D1\", \"D2\", \"D3\", \"D4\", \"D5\", \"D6\")\n",
    "\n",
    "poor_quality_wells = ()\n",
    "\n",
    "df = df_all[~df_all.well.isin(poor_quality_wells)].reset_index()\n",
    "df_directories = make_directories(df, dest_path)\n",
    "    \n",
    "df = df.join(df_directories.set_index(['plateID','well','field']),on = ['plateID','well','field'])\n",
    "print(\"copying files to \"+dest_path+'/'+plate_name)\n",
    "for count, src_path in enumerate(df['path'].tolist()):\n",
    "    full_dest_path = os.path.join(dest_path, df.at[count,'dest_path'])\n",
    "    shutil.copy2(src_path, full_dest_path)\n",
    "print(\"done copying files for \"+plate_name+\"\\n\")"
   ]
  },
  {
   "cell_type": "code",
   "execution_count": 15,
   "id": "54284a86-1664-416c-a86b-b61712a66b66",
   "metadata": {},
   "outputs": [
    {
     "data": {
      "text/plain": [
       "'/home/exacloud/gscratch/HeiserLab/images/HC01301/C5/field_1'"
      ]
     },
     "execution_count": 15,
     "metadata": {},
     "output_type": "execute_result"
    }
   ],
   "source": [
    "os.path.join(dest_path, df.at[count,'dest_path'])"
   ]
  },
  {
   "cell_type": "code",
   "execution_count": 13,
   "id": "70b232c6-0c94-4d2d-8328-0fec189a34d7",
   "metadata": {},
   "outputs": [],
   "source": [
    "count = 0"
   ]
  },
  {
   "cell_type": "code",
   "execution_count": null,
   "id": "2652fcdb-8835-4dee-a672-8fd0a1332411",
   "metadata": {},
   "outputs": [],
   "source": []
  }
 ],
 "metadata": {
  "kernelspec": {
   "display_name": "Python 3 (ipykernel)",
   "language": "python",
   "name": "python3"
  },
  "language_info": {
   "codemirror_mode": {
    "name": "ipython",
    "version": 3
   },
   "file_extension": ".py",
   "mimetype": "text/x-python",
   "name": "python",
   "nbconvert_exporter": "python",
   "pygments_lexer": "ipython3",
   "version": "3.8.12"
  }
 },
 "nbformat": 4,
 "nbformat_minor": 5
}
