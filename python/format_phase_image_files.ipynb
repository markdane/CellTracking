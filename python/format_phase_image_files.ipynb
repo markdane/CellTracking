{
 "cells": [
  {
   "cell_type": "code",
   "execution_count": 1,
   "id": "d2c0df35-6d37-47fc-9cd3-58d982b10d9b",
   "metadata": {},
   "outputs": [],
   "source": [
    "#setup libraries\n",
    "import pandas as pd\n",
    "import numpy as np\n",
    "import os, re, glob, shutil\n",
    "from skimage import io, util\n",
    "import numpy as np"
   ]
  },
  {
   "cell_type": "code",
   "execution_count": 11,
   "id": "1e77f56a-75fd-4e01-bda8-2df165c63a19",
   "metadata": {},
   "outputs": [
    {
     "name": "stdout",
     "output_type": "stream",
     "text": [
      "reformatting phase files in AU01102\n",
      "starting with ../../../images/AU01102/B2/field_4/AU01102_P_B2_4_00d23h00m.tif\n",
      "reformatting phase files in 0\n"
     ]
    },
    {
     "ename": "IndexError",
     "evalue": "list index out of range",
     "output_type": "error",
     "traceback": [
      "\u001b[0;31m---------------------------------------------------------------------------\u001b[0m",
      "\u001b[0;31mIndexError\u001b[0m                                Traceback (most recent call last)",
      "\u001b[0;32m<ipython-input-11-c23a28875106>\u001b[0m in \u001b[0;36m<module>\u001b[0;34m\u001b[0m\n\u001b[1;32m      5\u001b[0m     \u001b[0mdata_paths\u001b[0m \u001b[0;34m=\u001b[0m \u001b[0mglob\u001b[0m\u001b[0;34m.\u001b[0m\u001b[0mglob\u001b[0m\u001b[0;34m(\u001b[0m\u001b[0mos\u001b[0m\u001b[0;34m.\u001b[0m\u001b[0mpath\u001b[0m\u001b[0;34m.\u001b[0m\u001b[0mjoin\u001b[0m\u001b[0;34m(\u001b[0m\u001b[0mdata_path\u001b[0m\u001b[0;34m,\u001b[0m\u001b[0mplate_name\u001b[0m\u001b[0;34m,\u001b[0m\u001b[0;34m\"*/*/*_P_*.tif\"\u001b[0m\u001b[0;34m)\u001b[0m\u001b[0;34m,\u001b[0m\u001b[0mrecursive\u001b[0m\u001b[0;34m=\u001b[0m\u001b[0;32mTrue\u001b[0m\u001b[0;34m)\u001b[0m\u001b[0;34m\u001b[0m\u001b[0;34m\u001b[0m\u001b[0m\n\u001b[1;32m      6\u001b[0m     \u001b[0mprint\u001b[0m\u001b[0;34m(\u001b[0m\u001b[0;34m\"reformatting phase files in \"\u001b[0m\u001b[0;34m+\u001b[0m\u001b[0mplate_name\u001b[0m\u001b[0;34m)\u001b[0m\u001b[0;34m\u001b[0m\u001b[0;34m\u001b[0m\u001b[0m\n\u001b[0;32m----> 7\u001b[0;31m     \u001b[0mprint\u001b[0m\u001b[0;34m(\u001b[0m\u001b[0;34m\"starting with \"\u001b[0m\u001b[0;34m+\u001b[0m\u001b[0mdata_paths\u001b[0m\u001b[0;34m[\u001b[0m\u001b[0;36m0\u001b[0m\u001b[0;34m]\u001b[0m\u001b[0;34m)\u001b[0m\u001b[0;34m\u001b[0m\u001b[0;34m\u001b[0m\u001b[0m\n\u001b[0m\u001b[1;32m      8\u001b[0m     \u001b[0;32mfor\u001b[0m \u001b[0mdata_path\u001b[0m \u001b[0;32min\u001b[0m \u001b[0mdata_paths\u001b[0m\u001b[0;34m:\u001b[0m\u001b[0;34m\u001b[0m\u001b[0;34m\u001b[0m\u001b[0m\n\u001b[1;32m      9\u001b[0m         \u001b[0mimage_8\u001b[0m \u001b[0;34m=\u001b[0m \u001b[0mio\u001b[0m\u001b[0;34m.\u001b[0m\u001b[0mimread\u001b[0m\u001b[0;34m(\u001b[0m\u001b[0mdata_path\u001b[0m\u001b[0;34m)\u001b[0m\u001b[0;34m\u001b[0m\u001b[0;34m\u001b[0m\u001b[0m\n",
      "\u001b[0;31mIndexError\u001b[0m: list index out of range"
     ]
    }
   ],
   "source": [
    "#read in phase images and write back out as 16uint files\n",
    "data_path = \"../../../images/\"\n",
    "\n",
    "for plate_name in [ \"AU01102\", \"0\"]:\n",
    "    data_paths = glob.glob(os.path.join(data_path,plate_name,\"*/*/*_P_*.tif\"),recursive=True)\n",
    "    print(\"reformatting phase files in \"+plate_name)\n",
    "    print(\"starting with \"+data_paths[0])\n",
    "    for data_path in data_paths:\n",
    "        image_8 = io.imread(data_path)\n",
    "        image_16 = np.uint16(image_8)\n",
    "        io.imsave(data_path, image_16, check_contrast=False)"
   ]
  },
  {
   "cell_type": "code",
   "execution_count": 3,
   "id": "3d7019bd-5fed-4f38-b7b0-7049c6074513",
   "metadata": {},
   "outputs": [
    {
     "data": {
      "text/plain": [
       "'../../../images/AU00701/A3/field_1/AU00701_P_A3_1_01d11h30m.tif'"
      ]
     },
     "execution_count": 3,
     "metadata": {},
     "output_type": "execute_result"
    }
   ],
   "source": []
  },
  {
   "cell_type": "code",
   "execution_count": null,
   "id": "31f93eca-8edc-4615-b825-0e12bdf2a487",
   "metadata": {},
   "outputs": [],
   "source": []
  },
  {
   "cell_type": "code",
   "execution_count": null,
   "id": "b6d670cb-5725-41c2-892f-8d7c0bcaafe2",
   "metadata": {},
   "outputs": [],
   "source": []
  }
 ],
 "metadata": {
  "kernelspec": {
   "display_name": "biapy",
   "language": "python",
   "name": "biapy"
  },
  "language_info": {
   "codemirror_mode": {
    "name": "ipython",
    "version": 3
   },
   "file_extension": ".py",
   "mimetype": "text/x-python",
   "name": "python",
   "nbconvert_exporter": "python",
   "pygments_lexer": "ipython3",
   "version": "3.7.10"
  }
 },
 "nbformat": 4,
 "nbformat_minor": 5
}
