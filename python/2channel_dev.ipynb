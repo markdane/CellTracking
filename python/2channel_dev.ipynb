{
 "cells": [
  {
   "cell_type": "code",
   "execution_count": 3,
   "id": "6b587266-be6f-4712-8bff-ad7d9e7287d8",
   "metadata": {},
   "outputs": [],
   "source": [
    "import os, glob\n",
    "import numpy as np\n",
    "from skimage import io, exposure, img_as_ubyte, segmentation\n",
    "import xtiff\n",
    "\n",
    "def merge_masks_phase(data_path, output_path, pipeline_name, plateID, well, field_num):\n",
    "    p_src = os.path.join(data_path, plateID,\"Analysis/registered_stacks/\",plateID+\"_P_\"+well+\"_\"+str(field_num)+\"_reg_stack.tif\")\n",
    "    sys.stdout.write(\"Processing 2 channel video for \"+p_src+\"\\n\")\n",
    "    p_raw = io.imread(p_src)\n",
    "    p_stack = img_as_ubyte(exposure.rescale_intensity(p_raw))\n",
    "\n",
    "    cyto_mask_src = os.path.join(output_path, plateID,\"Analysis\",pipeline_name,\"intermediate_files/tracking\",well,\"field_\"+str(field_num),\"cyto_filtered_masks\")\n",
    "    cyto_mask_filenames = sorted(glob.glob(cyto_mask_src+\"/mask*\"))\n",
    "\n",
    "    cyto_mask_list = []\n",
    "    for fn in cyto_mask_filenames:\n",
    "        #read in the mask image\n",
    "        masks = io.imread(fn)%256 #relabel to fit in 8 bits\n",
    "        cyto_mask_list.append(masks)\n",
    "    cyto_mask_stack  = np.stack(cyto_mask_list).astype(\"uint8\")\n",
    "\n",
    "    pm_stack = np.stack((cyto_mask_stack, p_stack), axis = 1) #TCCYX\n",
    "\n",
    "    output_subdir = os.path.join(output_path, plateID, \"Analysis\", pipeline_name, \"QA\")\n",
    "    os.makedirs(output_subdir, exist_ok=True)\n",
    "    filename = os.path.join(output_subdir,plateID+\"_2CH_\"+well+\"_\"+str(field_num)+\"_reg_stack.ome.tiff\")\n",
    "    #save a copy of the phase stack to RDS as a debug tool\n",
    "    res = xtiff.to_tiff(pm_stack, filename)\n",
    "    sys.stdout.write(\"Saved 2 channel video at \"+filename+\"\\n\")\n",
    "\n",
    "    \n",
    "data_path = \"/home/exacloud/gscratch/HeiserLab/images/\"\n",
    "output_path = \"/home/groups/heiserlab_genomics/home/dane/CellTracking/images/\"\n",
    "#plateID = \"HC01601\"\n",
    "pipeline_name = \"CcntB\"\n",
    "well = \"B2\"\n",
    "field_num = 1\n",
    "\n",
    "plateIDs = [\"HC01701\", \"HC01801\", \"HC01901\", \"HC02001\"]\n",
    "for plateID in plateIDs:\n",
    "    res = merge_masks_phase(data_path, output_path, pipeline_name, plateID, well, field_num)\n",
    "    "
   ]
  },
  {
   "cell_type": "code",
   "execution_count": null,
   "id": "425c926d-a085-4c7d-af09-8d278adc86b1",
   "metadata": {},
   "outputs": [],
   "source": []
  }
 ],
 "metadata": {
  "kernelspec": {
   "display_name": "Python 3 (ipykernel)",
   "language": "python",
   "name": "python3"
  },
  "language_info": {
   "codemirror_mode": {
    "name": "ipython",
    "version": 3
   },
   "file_extension": ".py",
   "mimetype": "text/x-python",
   "name": "python",
   "nbconvert_exporter": "python",
   "pygments_lexer": "ipython3",
   "version": "3.8.12"
  }
 },
 "nbformat": 4,
 "nbformat_minor": 5
}
