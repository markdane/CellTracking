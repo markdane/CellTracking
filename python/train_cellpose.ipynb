{
 "cells": [
  {
   "cell_type": "markdown",
   "metadata": {
    "id": "Q7c7V4yEqDc_",
    "jp-MarkdownHeadingCollapsed": true,
    "tags": []
   },
   "source": [
    "# Running cellpose 2.0 on exacloud with a GPU\n",
    "\n",
    "This notebook allows you to load this **custom model** and run the model on your images with a GPU. \n",
    "\n",
    "In this notebook, you can also **train** a custom model using your labels (`_seg.npy`) files, or other labels as `_masks.tif` files. If you already have a trained model, skip this part of the notebook.\n",
    "\n",
    "For more details on cellpose 2.0 check out the [paper](https://www.biorxiv.org/content/10.1101/2022.04.01.486764v1) or the [talk](https://www.youtube.com/watch?v=3ydtAhfq6H0).\n"
   ]
  },
  {
   "cell_type": "markdown",
   "metadata": {
    "id": "IvyuR08OZfw4"
   },
   "source": [
    "# Setup\n",
    "\n",
    "We will first check the GPU is working, and mount google drive to get your models and images."
   ]
  },
  {
   "cell_type": "markdown",
   "metadata": {
    "id": "e2cBEO1PLuO7"
   },
   "source": [
    "Check CUDA version and that GPU is working in cellpose and import other libraries."
   ]
  },
  {
   "cell_type": "code",
   "execution_count": 28,
   "metadata": {
    "colab": {
     "base_uri": "https://localhost:8080/"
    },
    "id": "Tt8hgC7rniP8",
    "outputId": "677fa3d0-952f-4490-f5bb-4ef1ad0b0469"
   },
   "outputs": [
    {
     "name": "stdout",
     "output_type": "stream",
     "text": [
      "2023-05-02 14:07:35,565 [INFO] ** TORCH CUDA version installed and working. **\n",
      ">>> GPU activated? YES\n"
     ]
    }
   ],
   "source": [
    "#!nvcc --version\n",
    "#!nvidia-smi\n",
    "\n",
    "import os, shutil\n",
    "import numpy as np\n",
    "import matplotlib.pyplot as plt\n",
    "from cellpose import core, utils, io, models, metrics, transforms\n",
    "from glob import glob\n",
    "from natsort import natsorted\n",
    "\n",
    "\n",
    "use_GPU = core.use_gpu()\n",
    "yn = ['NO', 'YES']\n",
    "print(f'>>> GPU activated? {yn[use_GPU]}')"
   ]
  },
  {
   "cell_type": "markdown",
   "metadata": {
    "id": "VfE75htF0l84"
   },
   "source": [
    "# Train model on manual annotations\n",
    "\n",
    "Fill out the form below with the paths to your data and the parameters to start training."
   ]
  },
  {
   "cell_type": "markdown",
   "metadata": {
    "id": "lLdKNWQ4jxy5"
   },
   "source": [
    "## Training parameters\n",
    "\n",
    "<font size = 4> **Paths for training, predictions and results**\n",
    "\n",
    "\n",
    "<font size = 4>**`train_dir:`, `test_dir`:** These are the paths to your folders train_dir (with images and masks of training images) and test_dir (with images and masks of test images). You can leave the test_dir blank, but it's recommended to have some test images to check the model's performance. To find the paths of the folders containing the respective datasets, go to your Files on the left of the notebook, navigate to the folder containing your files and copy the path by right-clicking on the folder, **Copy path** and pasting it into the right box below.\n",
    "\n",
    "<font size = 4>**`initial_model`:** Choose a model from the cellpose [model zoo](https://cellpose.readthedocs.io/en/latest/models.html#model-zoo) to start from.\n",
    "\n",
    "<font size = 4>**`model_name`**: Enter the path where your model will be saved once trained (for instance your result folder).\n",
    "\n",
    "<font size = 4>**Training parameters**\n",
    "\n",
    "<font size = 4>**`number_of_epochs`:** Input how many epochs (rounds) the network will be trained. At least 100 epochs are recommended, but sometimes 250 epochs are necessary, particularly from scratch. **Default value: 100**\n",
    "\n"
   ]
  },
  {
   "cell_type": "code",
   "execution_count": 29,
   "metadata": {
    "cellView": "form",
    "colab": {
     "base_uri": "https://localhost:8080/"
    },
    "id": "XQI4aUxCjz3n",
    "outputId": "804d0459-b120-4298-9b4c-87a9ca26401c"
   },
   "outputs": [
    {
     "name": "stdout",
     "output_type": "stream",
     "text": [
      "Default advanced parameters enabled\n",
      "!! WARNING: Ctn already exists and will be deleted in the following cell !!\n"
     ]
    }
   ],
   "source": [
    "\n",
    "#@markdown ###Path to images and masks:\n",
    "#data_path = \"/home/exacloud/gscratch/HeiserLab/images/cellpose_Ctc_HCC1143\"\n",
    "#data_path = \"/home/exacloud/gscratch/HeiserLab/images/cellpose_Ctc_AU565\"\n",
    "#data_path = \"/home/exacloud/gscratch/HeiserLab/images/cellpose_Ctc_21MT1\"\n",
    "#data_path = \"/home/groups/heiserlab_genomics/home/dane/CellTracking/images/cellpose_Ctc_HCC1143nlc\"\n",
    "data_path = \"/home/groups/heiserlab_genomics/home/dane/CellTracking/images/cellpose_Ccnt_HCC1143nlc_10x\"\n",
    "#data_path = \"/home/groups/heiserlab_genomics/home/dane/CellTracking/images/cellpose_Ccnt_HCC1143nlc_20x\"\n",
    "\n",
    "\n",
    "train_dir = os.path.join(data_path, \"train\") #@param {type:\"string\"}\n",
    "train_dir = os.path.join(data_path, \"train_Ctn\") #@param {type:\"string\"}\n",
    "test_dir = os.path.join(data_path, \"test\") #@param {type:\"string\"}\n",
    "#Define where the patch file will be saved\n",
    "base = \"/content\"\n",
    "\n",
    "# model name and path\n",
    "#@markdown ###Name of the pretrained model to start from and new model name:\n",
    "from cellpose import models\n",
    "#initial_model_name = \"LC2\" #@param ['cyto','nuclei','tissuenet','livecell','cyto2','CP','CPx','TN1','TN2','TN3','LC1','LC2','LC3','LC4','scratch']\n",
    "initial_model_name = \"Ctc\" #@param ['cyto','nuclei','tissuenet','livecell','cyto2','CP','CPx','TN1','TN2','TN3','LC1','LC2','LC3','LC4','scratch']\n",
    "initial_model_name = \"Ctn\" #@param ['cyto','nuclei','tissuenet','livecell','cyto2','CP','CPx','TN1','TN2','TN3','LC1','LC2','LC3','LC4','scratch']\n",
    "#model_name = \"Ccnt\"\n",
    "model_name = \"Ctc\"\n",
    "model_name = \"Ctn\"\n",
    "# other parameters for training.\n",
    "#@markdown ###Training Parameters:\n",
    "#@markdown Number of epochs:\n",
    "n_epochs =  500#@param {type:\"number\"}\n",
    "\n",
    "Channel_to_use_for_training = \"Grayscale\" #@param [\"Grayscale\", \"Blue\", \"Green\", \"Red\"]\n",
    "\n",
    "# @markdown ###If you have a secondary channel that can be used for training, for instance nuclei, choose it here:\n",
    "\n",
    "Second_training_channel= \"None\" #@param [\"Grayscale\", \"Blue\", \"Green\", \"Red\"]\n",
    "\n",
    "\n",
    "#@markdown ###Advanced Parameters\n",
    "\n",
    "Use_Default_Advanced_Parameters = True #@param {type:\"boolean\"}\n",
    "#@markdown ###If not, please input:\n",
    "learning_rate = 0.1 #@param {type:\"number\"}\n",
    "weight_decay = 0.0001 #@param {type:\"number\"}\n",
    "\n",
    "if (Use_Default_Advanced_Parameters): \n",
    "  print(\"Default advanced parameters enabled\")\n",
    "  learning_rate = 0.1 \n",
    "  weight_decay = 0.0001\n",
    "  \n",
    "#here we check that no model with the same name already exist, if so delete\n",
    "model_path = os.path.join(train_dir,'models')\n",
    "if os.path.exists(model_path+'/'+model_name):\n",
    "  print(\"!! WARNING: \"+model_name+\" already exists and will be deleted in the following cell !!\")\n",
    "  \n",
    "if len(test_dir) == 0:\n",
    "  test_dir = None\n",
    "\n",
    "# Here we match the channel to number\n",
    "if Channel_to_use_for_training == \"Grayscale\":\n",
    "  chan = 0\n",
    "elif Channel_to_use_for_training == \"Blue\":\n",
    "  chan = 3\n",
    "elif Channel_to_use_for_training == \"Green\":\n",
    "  chan = 2\n",
    "elif Channel_to_use_for_training == \"Red\":\n",
    "  chan = 1\n",
    "\n",
    "\n",
    "if Second_training_channel == \"Blue\":\n",
    "  chan2 = 3\n",
    "elif Second_training_channel == \"Green\":\n",
    "  chan2 = 2\n",
    "elif Second_training_channel == \"Red\":\n",
    "  chan2 = 1\n",
    "elif Second_training_channel == \"None\":\n",
    "  chan2 = 0\n",
    "\n",
    "if initial_model_name=='scratch':\n",
    "  initial_model = 'None'"
   ]
  },
  {
   "cell_type": "markdown",
   "metadata": {
    "id": "_8SDv9XztBgb"
   },
   "source": [
    "Here's what the command to train would be on the command line -- make sure if you run this locally to correct the paths for your local computer."
   ]
  },
  {
   "cell_type": "markdown",
   "metadata": {
    "id": "3JRxBPmatrK7"
   },
   "source": [
    "## Train new model\n",
    "\n",
    "Using settings from form above, train the model on images and labels in \"train\"."
   ]
  },
  {
   "cell_type": "code",
   "execution_count": 30,
   "metadata": {
    "colab": {
     "base_uri": "https://localhost:8080/"
    },
    "id": "XcYskYudMajM",
    "outputId": "ed4dce67-190e-4d52-9a70-bcbc76be4b65"
   },
   "outputs": [
    {
     "name": "stdout",
     "output_type": "stream",
     "text": [
      "2023-05-02 14:07:36,023 [INFO] WRITING LOG OUTPUT TO /home/users/dane/.cellpose/run.log\n",
      "2023-05-02 14:07:36,117 [INFO] >>>> loading model /home/groups/heiserlab_genomics/home/dane/CellTracking/images/cellpose_Ccnt_HCC1143nlc_10x/train/models/Ctn\n",
      "2023-05-02 14:07:36,119 [INFO] ** TORCH CUDA version installed and working. **\n",
      "2023-05-02 14:07:36,120 [INFO] >>>> using GPU\n",
      "2023-05-02 14:07:37,321 [INFO] >>>> model diam_mean =  30.000 (ROIs rescaled to this size during training)\n",
      "2023-05-02 14:07:37,322 [INFO] >>>> model diam_labels =  13.046 (mean diameter of training ROIs)\n",
      "2023-05-02 14:07:37,627 [INFO] not all flows are present, running flow generation for all images\n",
      "2023-05-02 14:07:40,273 [INFO] 3 / 3 images in /home/groups/heiserlab_genomics/home/dane/CellTracking/images/cellpose_Ccnt_HCC1143nlc_10x/train_Ctn folder have labels\n",
      "2023-05-02 14:07:40,441 [INFO] computing flows for labels\n"
     ]
    },
    {
     "name": "stderr",
     "output_type": "stream",
     "text": [
      "100%|██████████| 3/3 [00:00<00:00, 12.01it/s]\n"
     ]
    },
    {
     "name": "stdout",
     "output_type": "stream",
     "text": [
      "2023-05-02 14:07:40,884 [INFO] >>>> median diameter set to = 30\n",
      "2023-05-02 14:07:40,886 [INFO] >>>> mean of training label mask diameters (saved to model) 13.485\n",
      "2023-05-02 14:07:40,887 [INFO] >>>> training network with 2 channel input <<<<\n",
      "2023-05-02 14:07:40,887 [INFO] >>>> LR: 0.10000, batch_size: 8, weight_decay: 0.00010\n",
      "2023-05-02 14:07:40,888 [INFO] >>>> ntrain = 3\n",
      "2023-05-02 14:07:40,889 [INFO] >>>> nimg_per_epoch = 8\n",
      "2023-05-02 14:07:41,154 [INFO] Epoch 0, Time  0.3s, Loss 0.1205, LR 0.0000\n",
      "2023-05-02 14:07:41,362 [INFO] saving network parameters to /home/groups/heiserlab_genomics/home/dane/CellTracking/images/cellpose_Ccnt_HCC1143nlc_10x/train_Ctn/models/Ctn\n",
      "2023-05-02 14:07:42,966 [INFO] Epoch 5, Time  2.1s, Loss 0.1373, LR 0.0556\n",
      "2023-05-02 14:07:44,054 [INFO] Epoch 10, Time  3.2s, Loss 0.0702, LR 0.1000\n",
      "2023-05-02 14:07:46,208 [INFO] Epoch 20, Time  5.3s, Loss 0.0971, LR 0.1000\n",
      "2023-05-02 14:07:48,357 [INFO] Epoch 30, Time  7.5s, Loss 0.0786, LR 0.1000\n",
      "2023-05-02 14:07:50,511 [INFO] Epoch 40, Time  9.6s, Loss 0.0893, LR 0.1000\n",
      "2023-05-02 14:07:52,686 [INFO] Epoch 50, Time 11.8s, Loss 0.0686, LR 0.1000\n",
      "2023-05-02 14:07:54,852 [INFO] Epoch 60, Time 14.0s, Loss 0.0619, LR 0.1000\n",
      "2023-05-02 14:07:56,946 [INFO] Epoch 70, Time 16.1s, Loss 0.0744, LR 0.1000\n",
      "2023-05-02 14:07:59,113 [INFO] Epoch 80, Time 18.2s, Loss 0.0865, LR 0.1000\n",
      "2023-05-02 14:08:01,261 [INFO] Epoch 90, Time 20.4s, Loss 0.0867, LR 0.1000\n",
      "2023-05-02 14:08:03,437 [INFO] Epoch 100, Time 22.5s, Loss 0.0877, LR 0.1000\n",
      "2023-05-02 14:08:03,668 [INFO] saving network parameters to /home/groups/heiserlab_genomics/home/dane/CellTracking/images/cellpose_Ccnt_HCC1143nlc_10x/train_Ctn/models/Ctn\n",
      "2023-05-02 14:08:06,208 [INFO] Epoch 110, Time 25.3s, Loss 0.0783, LR 0.1000\n",
      "2023-05-02 14:08:08,358 [INFO] Epoch 120, Time 27.5s, Loss 0.0809, LR 0.1000\n",
      "2023-05-02 14:08:10,497 [INFO] Epoch 130, Time 29.6s, Loss 0.0887, LR 0.1000\n",
      "2023-05-02 14:08:12,645 [INFO] Epoch 140, Time 31.8s, Loss 0.0951, LR 0.1000\n",
      "2023-05-02 14:08:14,843 [INFO] Epoch 150, Time 34.0s, Loss 0.0721, LR 0.1000\n",
      "2023-05-02 14:08:17,069 [INFO] Epoch 160, Time 36.2s, Loss 0.0573, LR 0.1000\n",
      "2023-05-02 14:08:19,296 [INFO] Epoch 170, Time 38.4s, Loss 0.0630, LR 0.1000\n",
      "2023-05-02 14:08:21,463 [INFO] Epoch 180, Time 40.6s, Loss 0.0663, LR 0.1000\n",
      "2023-05-02 14:08:23,665 [INFO] Epoch 190, Time 42.8s, Loss 0.0759, LR 0.1000\n",
      "2023-05-02 14:08:25,834 [INFO] Epoch 200, Time 44.9s, Loss 0.0631, LR 0.1000\n",
      "2023-05-02 14:08:26,043 [INFO] saving network parameters to /home/groups/heiserlab_genomics/home/dane/CellTracking/images/cellpose_Ccnt_HCC1143nlc_10x/train_Ctn/models/Ctn\n",
      "2023-05-02 14:08:28,553 [INFO] Epoch 210, Time 47.7s, Loss 0.0719, LR 0.1000\n",
      "2023-05-02 14:08:30,688 [INFO] Epoch 220, Time 49.8s, Loss 0.0866, LR 0.1000\n",
      "2023-05-02 14:08:32,849 [INFO] Epoch 230, Time 52.0s, Loss 0.0697, LR 0.1000\n",
      "2023-05-02 14:08:35,029 [INFO] Epoch 240, Time 54.1s, Loss 0.0707, LR 0.1000\n",
      "2023-05-02 14:08:37,215 [INFO] Epoch 250, Time 56.3s, Loss 0.0692, LR 0.1000\n",
      "2023-05-02 14:08:39,360 [INFO] Epoch 260, Time 58.5s, Loss 0.0784, LR 0.1000\n",
      "2023-05-02 14:08:41,547 [INFO] Epoch 270, Time 60.7s, Loss 0.0737, LR 0.1000\n",
      "2023-05-02 14:08:43,707 [INFO] Epoch 280, Time 62.8s, Loss 0.0665, LR 0.1000\n",
      "2023-05-02 14:08:45,880 [INFO] Epoch 290, Time 65.0s, Loss 0.0700, LR 0.1000\n",
      "2023-05-02 14:08:48,093 [INFO] Epoch 300, Time 67.2s, Loss 0.0655, LR 0.1000\n",
      "2023-05-02 14:08:48,295 [INFO] saving network parameters to /home/groups/heiserlab_genomics/home/dane/CellTracking/images/cellpose_Ccnt_HCC1143nlc_10x/train_Ctn/models/Ctn\n",
      "2023-05-02 14:08:51,052 [INFO] Epoch 310, Time 70.2s, Loss 0.0645, LR 0.1000\n",
      "2023-05-02 14:08:53,242 [INFO] Epoch 320, Time 72.4s, Loss 0.0680, LR 0.1000\n",
      "2023-05-02 14:08:55,455 [INFO] Epoch 330, Time 74.6s, Loss 0.0584, LR 0.1000\n",
      "2023-05-02 14:08:57,600 [INFO] Epoch 340, Time 76.7s, Loss 0.0746, LR 0.1000\n",
      "2023-05-02 14:08:59,742 [INFO] Epoch 350, Time 78.9s, Loss 0.0757, LR 0.1000\n",
      "2023-05-02 14:09:01,880 [INFO] Epoch 360, Time 81.0s, Loss 0.0642, LR 0.1000\n",
      "2023-05-02 14:09:04,084 [INFO] Epoch 370, Time 83.2s, Loss 0.0829, LR 0.1000\n",
      "2023-05-02 14:09:06,278 [INFO] Epoch 380, Time 85.4s, Loss 0.0813, LR 0.1000\n",
      "2023-05-02 14:09:08,426 [INFO] Epoch 390, Time 87.5s, Loss 0.0585, LR 0.1000\n",
      "2023-05-02 14:09:10,597 [INFO] Epoch 400, Time 89.7s, Loss 0.0693, LR 0.1000\n",
      "2023-05-02 14:09:10,793 [INFO] saving network parameters to /home/groups/heiserlab_genomics/home/dane/CellTracking/images/cellpose_Ccnt_HCC1143nlc_10x/train_Ctn/models/Ctn\n",
      "2023-05-02 14:09:13,639 [INFO] Epoch 410, Time 92.7s, Loss 0.0662, LR 0.0500\n",
      "2023-05-02 14:09:15,749 [INFO] Epoch 420, Time 94.9s, Loss 0.0664, LR 0.0250\n",
      "2023-05-02 14:09:17,859 [INFO] Epoch 430, Time 97.0s, Loss 0.0820, LR 0.0125\n",
      "2023-05-02 14:09:20,049 [INFO] Epoch 440, Time 99.2s, Loss 0.0541, LR 0.0063\n",
      "2023-05-02 14:09:22,263 [INFO] Epoch 450, Time 101.4s, Loss 0.0629, LR 0.0031\n",
      "2023-05-02 14:09:24,409 [INFO] Epoch 460, Time 103.5s, Loss 0.0775, LR 0.0016\n",
      "2023-05-02 14:09:26,578 [INFO] Epoch 470, Time 105.7s, Loss 0.0598, LR 0.0008\n",
      "2023-05-02 14:09:28,745 [INFO] Epoch 480, Time 107.9s, Loss 0.0598, LR 0.0004\n",
      "2023-05-02 14:09:30,926 [INFO] Epoch 490, Time 110.0s, Loss 0.0668, LR 0.0002\n",
      "2023-05-02 14:09:32,857 [INFO] saving network parameters to /home/groups/heiserlab_genomics/home/dane/CellTracking/images/cellpose_Ccnt_HCC1143nlc_10x/train_Ctn/models/Ctn\n"
     ]
    }
   ],
   "source": [
    "#when updating a trained model, use it as both the initial model and the new model\n",
    "#comment out this line when the initial model is from the cellpose zoo\n",
    "initial_model_path = os.path.join(data_path, \"train\",\"models\",initial_model_name) #@param {type:\"string\"}\n",
    "\n",
    "# start logger (to see training across epochs)\n",
    "logger = io.logger_setup()\n",
    "\n",
    "diam_mean = 37 #21MT1\n",
    "diam_mean = 35 #HCC1143\n",
    "diam_mean = 39 #HCC1143nlc_20x\n",
    "diam_mean = 15 #XX cellline (HCCqq43 @10x\n",
    "\n",
    "# C:\\Users\\dane\\.cellpose\\models\n",
    "model = models.CellposeModel(gpu=True, \n",
    "                             pretrained_model=initial_model_path,\n",
    "                            net_avg = True,\n",
    "                            diam_mean = diam_mean)\n",
    "# set channels\n",
    "channels = [chan, chan2]\n",
    "\n",
    "# get files\n",
    "output = io.load_train_test_data(train_dir, mask_filter='_seg.npy')\n",
    "train_data, train_labels, _, test_data, test_labels, _ = output\n",
    "#try inverting images before training\n",
    "#foo = transforms.reshape_and_normalize_data(train_data)\n",
    "\n",
    "\n",
    "new_model_path = model.train(train_data, train_labels, \n",
    "                              #test_data=test_data,\n",
    "                              #test_labels=test_labels,\n",
    "                             #diam_mean = diam_mean,\n",
    "                             channels=channels,\n",
    "                              save_path=train_dir, \n",
    "                              n_epochs=n_epochs,\n",
    "                              learning_rate=learning_rate, \n",
    "                              weight_decay=weight_decay, \n",
    "                              nimg_per_epoch=8,\n",
    "                              model_name=model_name)\n",
    "\n",
    "# diameter of labels in training images\n",
    "diam_labels = model.diam_labels.copy()"
   ]
  },
  {
   "cell_type": "markdown",
   "metadata": {
    "id": "KbVIZbNk5hgR"
   },
   "source": [
    "# Use custom model to segment images\n",
    "\n",
    "Take custom trained model from above to segment an image set\n",
    "\n",
    "## Parameters"
   ]
  },
  {
   "cell_type": "code",
   "execution_count": 31,
   "metadata": {
    "cellView": "form",
    "id": "vDu4Ixjo588O"
   },
   "outputs": [],
   "source": [
    "# model name and path\n",
    "\n",
    "#@markdown ###Custom model path (full path):\n",
    "model_path = os.path.join(data_path, \"train\",\"models\",model_name) #@param {type:\"string\"}\n",
    "model_path = os.path.join(data_path, \"train_Ctn\",\"models\",model_name) #@param {type:\"string\"}\n",
    "\n",
    "#@markdown ###Path to images:\n",
    "\n",
    "dir = os.path.join(data_path, \"images\") #@param {type:\"string\"}\n",
    "dir = os.path.join(data_path, \"images_Ctn\") #@param {type:\"string\"}\n",
    "\n",
    "\n",
    "#@markdown ###Channel Parameters:\n",
    "\n",
    "Channel_to_use_for_segmentation = \"Grayscale\" #@param [\"Grayscale\", \"Blue\", \"Green\", \"Red\"]\n",
    "\n",
    "# @markdown If you have a secondary channel that can be used, for instance nuclei, choose it here:\n",
    "\n",
    "Second_segmentation_channel= \"None\" #@param [\"None\", \"Blue\", \"Green\", \"Red\"]\n",
    "\n",
    "\n",
    "# Here we match the channel to number\n",
    "if Channel_to_use_for_segmentation == \"Grayscale\":\n",
    "  chan = 0\n",
    "elif Channel_to_use_for_segmentation == \"Blue\":\n",
    "  chan = 3\n",
    "elif Channel_to_use_for_segmentation == \"Green\":\n",
    "  chan = 2\n",
    "elif Channel_to_use_for_segmentation == \"Red\":\n",
    "  chan = 1\n",
    "\n",
    "\n",
    "if Second_segmentation_channel == \"Blue\":\n",
    "  chan2 = 3\n",
    "elif Second_segmentation_channel == \"Green\":\n",
    "  chan2 = 2\n",
    "elif Second_segmentation_channel == \"Red\":\n",
    "  chan2 = 1\n",
    "elif Second_segmentation_channel == \"None\":\n",
    "  chan2 = 0\n",
    "\n",
    "#@markdown ### Segmentation parameters:\n",
    "\n",
    "#@markdown diameter of cells (set to zero to use diameter from training set):\n",
    "diameter =  0#@param {type:\"number\"}\n",
    "#@markdown threshold on flow error to accept a mask (set higher to get more cells, e.g. in range from (0.1, 3.0), OR set to 0.0 to turn off so no cells discarded):\n",
    "flow_threshold = 0.4 #@param {type:\"slider\", min:0.0, max:3.0, step:0.1}\n",
    "#@markdown threshold on cellprob output to seed cell masks (set lower to include more pixels or higher to include fewer, e.g. in range from (-6, 6)):\n",
    "cellprob_threshold=0.5 #@param {type:\"slider\", min:-6, max:6, step:1}\n"
   ]
  },
  {
   "cell_type": "markdown",
   "metadata": {
    "id": "QN3rdsfMBc_8"
   },
   "source": [
    "## run a model on a subset of the images\n",
    "\n"
   ]
  },
  {
   "cell_type": "code",
   "execution_count": 32,
   "metadata": {
    "colab": {
     "base_uri": "https://localhost:8080/"
    },
    "id": "gCcbs722BYd0",
    "outputId": "b7de466b-4e7a-4585-b1d7-c282593b3fab"
   },
   "outputs": [
    {
     "name": "stdout",
     "output_type": "stream",
     "text": [
      "2023-05-02 14:09:33,692 [INFO] >>>> loading model /home/groups/heiserlab_genomics/home/dane/CellTracking/images/cellpose_Ccnt_HCC1143nlc_10x/train_Ctn/models/Ctn\n",
      "2023-05-02 14:09:33,694 [INFO] ** TORCH CUDA version installed and working. **\n",
      "2023-05-02 14:09:33,695 [INFO] >>>> using GPU\n",
      "2023-05-02 14:09:34,400 [INFO] >>>> model diam_mean =  30.000 (ROIs rescaled to this size during training)\n",
      "2023-05-02 14:09:34,401 [INFO] >>>> model diam_labels =  13.485 (mean diameter of training ROIs)\n",
      "2023-05-02 14:09:34,404 [INFO] 0%|          | 0/3 [00:00<?, ?it/s]\n",
      "2023-05-02 14:09:36,701 [INFO] 33%|###3      | 1/3 [00:02<00:04,  2.30s/it]\n",
      "2023-05-02 14:09:38,818 [INFO] 67%|######6   | 2/3 [00:04<00:02,  2.19s/it]\n",
      "2023-05-02 14:09:42,359 [INFO] 100%|##########| 3/3 [00:07<00:00,  2.81s/it]\n",
      "2023-05-02 14:09:42,360 [INFO] 100%|##########| 3/3 [00:07<00:00,  2.65s/it]\n"
     ]
    }
   ],
   "source": [
    "# gets image files in dir (ignoring image files ending in _masks)\n",
    "files = io.get_image_files(dir, '_masks', imf = \"_R_img\")\n",
    "#print(files)\n",
    "images = [io.imread(f) for f in files]\n",
    "\n",
    "# declare model\n",
    "model = models.CellposeModel(gpu=True, \n",
    "                             pretrained_model=model_path)\n",
    "\n",
    "# use model diameter\n",
    "diameter = model.diam_labels #use diameter in trained model\n",
    "\n",
    "# run model on test images\n",
    "masks, flows, styles = model.eval(images, \n",
    "                                  channels=[chan, chan2],\n",
    "                                  diameter=diameter,\n",
    "                                  flow_threshold=flow_threshold,\n",
    "                                  cellprob_threshold=cellprob_threshold\n",
    "                                  )"
   ]
  },
  {
   "cell_type": "markdown",
   "metadata": {
    "id": "qj5AIZ825o7P"
   },
   "source": [
    "## save output to *_seg.npy\n",
    "\n",
    "save images and mask labels combined in numpy arrays with \"_img_seg.npy\" suffixes"
   ]
  },
  {
   "cell_type": "code",
   "execution_count": 33,
   "metadata": {
    "id": "qc7EWe_f5oEH"
   },
   "outputs": [],
   "source": [
    "from cellpose import io\n",
    "\n",
    "io.masks_flows_to_seg(images, \n",
    "                      masks, \n",
    "                      flows, \n",
    "                      diameter*np.ones(len(masks)), \n",
    "                      files, \n",
    "                      channels)"
   ]
  },
  {
   "cell_type": "code",
   "execution_count": null,
   "metadata": {},
   "outputs": [],
   "source": []
  }
 ],
 "metadata": {
  "accelerator": "GPU",
  "colab": {
   "collapsed_sections": [],
   "name": "run_cellpose_2.0.ipynb",
   "provenance": []
  },
  "kernelspec": {
   "display_name": "Python 3 (ipykernel)",
   "language": "python",
   "name": "python3"
  },
  "language_info": {
   "codemirror_mode": {
    "name": "ipython",
    "version": 3
   },
   "file_extension": ".py",
   "mimetype": "text/x-python",
   "name": "python",
   "nbconvert_exporter": "python",
   "pygments_lexer": "ipython3",
   "version": "3.8.12"
  }
 },
 "nbformat": 4,
 "nbformat_minor": 4
}
