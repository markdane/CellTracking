{
 "cells": [
  {
   "cell_type": "code",
   "execution_count": 7,
   "id": "cb74b0d6-b54b-4d4d-a888-e46861091ace",
   "metadata": {},
   "outputs": [
    {
     "name": "stderr",
     "output_type": "stream",
     "text": [
      "<frozen importlib._bootstrap>:219: RuntimeWarning: scipy._lib.messagestream.MessageStream size changed, may indicate binary incompatibility. Expected 56 from C header, got 64 from PyObject\n"
     ]
    },
    {
     "name": "stdout",
     "output_type": "stream",
     "text": [
      "Warning: QApplication was created before pyqtgraph was imported; there may be problems (to avoid bugs, call QApplication.setGraphicsSystem(\"raster\") before the QApplication is created).\n"
     ]
    }
   ],
   "source": [
    "import napari\n",
    "import numpy as np\n",
    "\n",
    "\n",
    "def _circle(r, theta):\n",
    "    x = r * np.cos(theta)\n",
    "    y = r * np.sin(theta)\n",
    "    return x, y\n",
    "\n",
    "\n",
    "def tracks_3d_merge_split():\n",
    "    \"\"\"Create tracks with splitting and merging.\"\"\"\n",
    "\n",
    "    timestamps = np.arange(300)\n",
    "\n",
    "    def _trajectory(t, r, track_id):\n",
    "        theta = t * 0.1\n",
    "        x, y = _circle(r, theta)\n",
    "        z = np.zeros(x.shape)\n",
    "        tid = np.ones(x.shape) * track_id\n",
    "        return np.stack([tid, t, y, x], axis=1)\n",
    "\n",
    "    trackA = _trajectory(timestamps[:100], 30.0, 0)\n",
    "    trackB = _trajectory(timestamps[100:200], 10.0, 1)\n",
    "    trackC = _trajectory(timestamps[100:200], 50.0, 2)\n",
    "    trackD = _trajectory(timestamps[200:], 30.0, 3)\n",
    "\n",
    "    data = [trackA, trackB, trackC, trackD]\n",
    "    tracks = np.concatenate(data, axis=0)\n",
    "    tracks[:, 2:] += 50.0  # centre the track at (50, 50, 50)\n",
    "\n",
    "    graph = {1: 0, 2: [0], 3: [1, 2]}\n",
    "\n",
    "    properties = {'time': tracks[:, 1]}\n",
    "\n",
    "    return tracks, properties, graph\n",
    "\n",
    "\n",
    "tracks, properties, graph = tracks_3d_merge_split()\n",
    "vertices = tracks[:, 1:]\n",
    "\n",
    "viewer = napari.Viewer()\n",
    "viewer.add_points(vertices, size=1, name='points', opacity=0.3)\n",
    "viewer.add_tracks(tracks, properties=properties, graph=graph, name='tracks')\n",
    "\n",
    "napari.run()"
   ]
  },
  {
   "cell_type": "code",
   "execution_count": 8,
   "id": "b6679fe6-6f11-4099-a3b2-d7431302182d",
   "metadata": {},
   "outputs": [
    {
     "data": {
      "text/plain": [
       "array([[  0.        ,   0.        ,  50.        ,  80.        ],\n",
       "       [  0.        ,   1.        ,  52.9950025 ,  79.85012496],\n",
       "       [  0.        ,   2.        ,  55.96007992,  79.40199734],\n",
       "       ...,\n",
       "       [  3.        , 297.        ,  20.3153875 ,  45.66136187],\n",
       "       [  3.        , 298.        ,  20.03054585,  48.64655327],\n",
       "       [  3.        , 299.        ,  20.04514908,  51.64526787]])"
      ]
     },
     "execution_count": 8,
     "metadata": {},
     "output_type": "execute_result"
    }
   ],
   "source": [
    "tracks"
   ]
  },
  {
   "cell_type": "code",
   "execution_count": 9,
   "id": "be73f037-2b03-465d-9ee5-9c530d3175b2",
   "metadata": {},
   "outputs": [
    {
     "data": {
      "text/plain": [
       "{1: [0], 2: [0], 3: [1, 2]}"
      ]
     },
     "execution_count": 9,
     "metadata": {},
     "output_type": "execute_result"
    }
   ],
   "source": [
    "graph"
   ]
  },
  {
   "cell_type": "code",
   "execution_count": null,
   "id": "0405919a-3654-4ea3-a95e-aee9980ff922",
   "metadata": {},
   "outputs": [],
   "source": [
    "tracks.shape"
   ]
  },
  {
   "cell_type": "code",
   "execution_count": null,
   "id": "76e4732d-cf5a-41ed-b481-4b5dacc7a662",
   "metadata": {},
   "outputs": [],
   "source": [
    "tracks"
   ]
  },
  {
   "cell_type": "code",
   "execution_count": null,
   "id": "8c46939c-a8e6-4127-9dab-555a4a767478",
   "metadata": {},
   "outputs": [],
   "source": [
    "properties"
   ]
  },
  {
   "cell_type": "code",
   "execution_count": 21,
   "id": "1dbcd37c-e847-45f6-a736-34952891fdab",
   "metadata": {},
   "outputs": [
    {
     "data": {
      "text/plain": [
       "array([[  0.        ,  50.        ,  50.        ,  80.        ],\n",
       "       [  1.        ,  50.        ,  52.9950025 ,  79.85012496],\n",
       "       [  2.        ,  50.        ,  55.96007992,  79.40199734],\n",
       "       ...,\n",
       "       [297.        ,  50.        ,  20.3153875 ,  45.66136187],\n",
       "       [298.        ,  50.        ,  20.03054585,  48.64655327],\n",
       "       [299.        ,  50.        ,  20.04514908,  51.64526787]])"
      ]
     },
     "execution_count": 21,
     "metadata": {},
     "output_type": "execute_result"
    }
   ],
   "source": [
    "vertices"
   ]
  },
  {
   "cell_type": "code",
   "execution_count": null,
   "id": "8c319948-e9d6-4cc9-8f03-dc4f91b91601",
   "metadata": {},
   "outputs": [],
   "source": []
  }
 ],
 "metadata": {
  "kernelspec": {
   "display_name": "Python 3 (ipykernel)",
   "language": "python",
   "name": "python3"
  },
  "language_info": {
   "codemirror_mode": {
    "name": "ipython",
    "version": 3
   },
   "file_extension": ".py",
   "mimetype": "text/x-python",
   "name": "python",
   "nbconvert_exporter": "python",
   "pygments_lexer": "ipython3",
   "version": "3.8.12"
  }
 },
 "nbformat": 4,
 "nbformat_minor": 5
}
