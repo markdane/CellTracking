{
 "cells": [
  {
   "cell_type": "code",
   "execution_count": 1,
   "id": "0201c901-9aef-495b-9797-49f8222f0ff1",
   "metadata": {},
   "outputs": [],
   "source": [
    "#!/usr/bin/env python\n",
    "from ome_model.experimental import Plate, Image, create_companion\n",
    "import subprocess\n",
    "import re\n",
    "import pandas as pd"
   ]
  },
  {
   "cell_type": "code",
   "execution_count": 57,
   "id": "d25cc686-9346-47b5-b3c6-5674daba6cfb",
   "metadata": {},
   "outputs": [],
   "source": [
    "data_path = \"AU565_library.csv\"\n",
    "plate_name = \"AU01102\"\n",
    "file_metadata = pd.read_csv(data_path, dtype={'column': 'uint8'})\n",
    "file_metadata = file_metadata[file_metadata['plate_name']==plate_name]"
   ]
  },
  {
   "cell_type": "code",
   "execution_count": 58,
   "id": "0ac80edc-d84f-49c7-ae3b-b122fa33248c",
   "metadata": {},
   "outputs": [
    {
     "name": "stdout",
     "output_type": "stream",
     "text": [
      "Creating AU01102.companion.ome ...\n"
     ]
    }
   ],
   "source": [
    "columns = pd.unique(file_metadata['column'])\n",
    "rows = pd.unique(file_metadata['row'])\n",
    "fields = pd.unique(file_metadata['field'])\n",
    "timepoints = pd.unique(file_metadata['timepoint'])\n",
    "channels = pd.unique(file_metadata['channel_name'])\n",
    "\n",
    "channels = ['G', 'R', 'P']\n",
    "PATTERN = re.compile(r\"(\\d{2})d(\\d{2})h(\\d{2})m\")\n",
    "print(f\"Creating {plate_name}.companion.ome ...\")"
   ]
  },
  {
   "cell_type": "code",
   "execution_count": 59,
   "id": "408e417a-33e0-45ce-b610-b10be3672641",
   "metadata": {},
   "outputs": [],
   "source": [
    "plate = Plate(plate_name, len(rows), len(columns))\n",
    "for row_index, row in enumerate(rows):\n",
    "    for column_index, column in enumerate(columns):\n",
    "        well = plate.add_well(row_index, column_index)\n",
    "        for field_index, field in enumerate(fields):\n",
    "            # Create multi-channel timelapse image per field of view\n",
    "            image_name = f\"{plate_name}_{row}{column}_{field}\"\n",
    "            image = Image(\n",
    "                image_name, 1408, 1040, 1, len(channels), len(timepoints),\n",
    "                order=\"XYZTC\", type=\"uint16\")\n",
    "            # Create channels\n",
    "            image.add_channel(\n",
    "                name='G',\n",
    "                color = int.from_bytes([0, 255, 0, 255], 'big', signed=True),\n",
    "                samplesPerPixel=1)\n",
    "            image.add_channel(\n",
    "                name='R',\n",
    "                color = int.from_bytes([255, 0, 0, 255], 'big', signed=True),\n",
    "                samplesPerPixel=1)\n",
    "            image.add_channel(\n",
    "                name='P',\n",
    "                color = int.from_bytes([255, 255, 255, 255], 'big', signed=True),\n",
    "                samplesPerPixel=1)\n",
    "            tiff_folder = f\"{plate_name}/{row}{column}/field_{field}/\"\n",
    "            for t, timepoint in enumerate(timepoints):\n",
    "                # Parse timestamp from filename\n",
    "                m = PATTERN.match(timepoint)\n",
    "                t_min = (\n",
    "                    int(m.group(1)) * 60 * 24 +\n",
    "                    int(m.group(2)) * 60 +\n",
    "                    int(m.group(3)))\n",
    "                for c, channel in enumerate(channels):\n",
    "                    # Define TIFF files for each plane\n",
    "                    tiff_filename = (f\"{plate_name}_{channel}_{row}{column}\"\n",
    "                                     f\"_{field}_{timepoint}.tif\")\n",
    "                    image.add_tiff(tiff_folder + tiff_filename, c=c, z=0, t=t)\n",
    "                    # Populate pixel size (in microns)\n",
    "                    image.data['Pixels']['PhysicalSizeX'] = '1.24'\n",
    "                    image.data['Pixels']['PhysicalSizeY'] = '1.24'\n",
    "                    # Add plane metadata for each plane with timestamp\n",
    "                    options = {\n",
    "                        'DeltaT': f\"{t_min}\",\n",
    "                        'DeltaTUnit': 'min',\n",
    "                    }\n",
    "                    image.add_plane(c=c, z=0, t=t, options=options)\n",
    "            well.add_wellsample(field_index, image)\n",
    "\n"
   ]
  },
  {
   "cell_type": "code",
   "execution_count": 60,
   "id": "2a44dfb2-3114-461f-a926-60e582ed3510",
   "metadata": {},
   "outputs": [],
   "source": [
    "\n",
    "companion_file = f\"{plate_name}.companion.ome\"\n",
    "create_companion(plates=[plate], out=companion_file)"
   ]
  },
  {
   "cell_type": "code",
   "execution_count": 61,
   "id": "887665b0-66e2-41b2-a1aa-67bcf449bb13",
   "metadata": {},
   "outputs": [
    {
     "name": "stdout",
     "output_type": "stream",
     "text": [
      "Done.\n"
     ]
    }
   ],
   "source": [
    "# Indent XML for readability\n",
    "proc = subprocess.Popen(\n",
    "    ['xmllint', '--format', '-o', companion_file, companion_file],\n",
    "    stdin=subprocess.PIPE,\n",
    "    stdout=subprocess.PIPE)\n",
    "(output, error_output) = proc.communicate()\n",
    "\n",
    "print(\"Done.\")\n"
   ]
  },
  {
   "cell_type": "code",
   "execution_count": null,
   "id": "527ca08a-e7a9-4dff-b626-2a8d30b10518",
   "metadata": {},
   "outputs": [],
   "source": []
  },
  {
   "cell_type": "code",
   "execution_count": null,
   "id": "23dc66f9-2c88-4e10-8aba-4915e429dfc0",
   "metadata": {},
   "outputs": [],
   "source": []
  }
 ],
 "metadata": {
  "kernelspec": {
   "display_name": "biapy",
   "language": "python",
   "name": "biapy"
  },
  "language_info": {
   "codemirror_mode": {
    "name": "ipython",
    "version": 3
   },
   "file_extension": ".py",
   "mimetype": "text/x-python",
   "name": "python",
   "nbconvert_exporter": "python",
   "pygments_lexer": "ipython3",
   "version": "3.7.10"
  }
 },
 "nbformat": 4,
 "nbformat_minor": 5
}
