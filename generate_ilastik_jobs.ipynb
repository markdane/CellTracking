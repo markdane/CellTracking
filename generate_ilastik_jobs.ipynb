{
 "cells": [
  {
   "cell_type": "code",
   "execution_count": 1,
   "id": "bdd49336-2e19-40a8-ae27-8e81879fffca",
   "metadata": {},
   "outputs": [],
   "source": [
    "import os, re, glob, sys"
   ]
  },
  {
   "cell_type": "code",
   "execution_count": 2,
   "id": "996a4324-9499-499f-9317-a30e17afe9e7",
   "metadata": {},
   "outputs": [],
   "source": [
    "pipeline_name = \"PI\"\n",
    "data_path = '/home/exacloud/gscratch/HeiserLab/images/'\n",
    "plateID = 'AU99999'\n",
    "output_path = os.path.join(data_path+plateID,\"Analysis\",pipeline_name,\"intermediate_files\")\n",
    "file_paths = sorted(glob.glob(output_path+\"/*stack.tif\"))"
   ]
  },
  {
   "cell_type": "code",
   "execution_count": null,
   "id": "d3c28685-c868-4131-bae7-a4d51137e174",
   "metadata": {},
   "outputs": [],
   "source": []
  },
  {
   "cell_type": "code",
   "execution_count": null,
   "id": "5dcba05c-0037-409f-bc49-473df076cb17",
   "metadata": {},
   "outputs": [],
   "source": []
  },
  {
   "cell_type": "markdown",
   "id": "97578d0e-59e3-4995-8013-1c4ab320b80a",
   "metadata": {},
   "source": [
    "Only create an ilastik job if there is no mask file.\n",
    "--raw_data=\"+file_path+\" --export_source='Simple Segmentation' --output_format='hdf5' --output_filename_format=\"+output_path+\"/{nickname}_{result_type} &\"\n"
   ]
  },
  {
   "cell_type": "code",
   "execution_count": 36,
   "id": "208c5876-4cdf-4e8c-b9e0-ccfabcdadbfe",
   "metadata": {},
   "outputs": [
    {
     "name": "stdout",
     "output_type": "stream",
     "text": [
      "launched job to create masks for /home/exacloud/gscratch/HeiserLab/images/AU00902/Analysis/PI/intermediate_files/AU00902_RGP_A2_1_stack.tif\n"
     ]
    }
   ],
   "source": [
    "for file_path in file_paths:\n",
    "    mask_file_path = re.sub('.tif','_Simple Segmentation.h5',file_path)\n",
    "    well = re.findall(\"_[A-Z][1-9]_\",mask_file_path)[0]\n",
    "    well = re.sub(\"_\",\"\",well)\n",
    "    field = re.findall(\"_[1-9]_\",mask_file_path)[0]\n",
    "    field = re.sub(\"_\",\"\", field)[0]\n",
    "    if not os.path.exists(mask_file_path):\n",
    "        cmd = \"nohup srun  -c 4 --job-name=i\"+plateID[3:8]+well+field+\" /home/users/dane/ilastik-1.4.0b15-Linux/run_ilastik.sh --headless --readonly=True --input_axes=tyxc --project=/home/groups/heiserlab_genomics/home/dane/CellTracking/AU565/AU00901_Pixel_112920_TRAINING.ilp --raw_data=\"+file_path+\" --export_source='Simple Segmentation' --output_format='hdf5' --output_filename_format=\"+output_path+\"/{nickname}_{result_type} &\"\n",
    "        returned_value = os.system(cmd)  # returns the exit code in unix\n",
    "        if returned_value == 0:\n",
    "            print(\"launched job to create masks for \"+file_path)\n",
    "        else:\n",
    "            print(\"failed to launch job to create masks for \"+file_path)\n"
   ]
  },
  {
   "cell_type": "code",
   "execution_count": null,
   "id": "222cb0b8-58cb-4650-b358-c064f4ac8ca7",
   "metadata": {},
   "outputs": [],
   "source": [
    "for file_path in file_paths:\n",
    "    mask_file_path = re.sub('.tif','_Simple Segmentation.h5',file_path)\n",
    "    well = re.findall(\"_[A-Z][1-9]_\",mask_file_path)[0]\n",
    "    well = re.sub(\"_\",\"\",well)\n",
    "    field = re.findall(\"_[1-9]_\",mask_file_path)[0]\n",
    "    field = re.sub(\"_\",\"\", field)[0]\n",
    "    if not os.path.exists(mask_file_path):\n",
    "        cmd = \"srun -c 4 --job-name=i\"+plateID[3:8]+well+field+\" -o i\"+plateID[3:8]+well+field+\".txt /home/users/dane/ilastik-1.4.0b15-Linux/run_ilastik.sh --headless --readonly=True --input_axes=tyxc --project=/home/groups/heiserlab_genomics/home/dane/CellTracking/AU565/AU00901_Pixel_112920_TRAINING.ilp --raw_data=\"+file_path+\" --export_source='Simple Segmentation' --output_format='hdf5' --output_filename_format=\"+output_path+\"/{nickname}_{result_type} &\"\n",
    "        returned_value = os.system(cmd)  # returns the exit code in unix\n",
    "        if returned_value == 0:\n",
    "            print(\"launched job to create masks for \"+file_path)\n",
    "        else:\n",
    "            print(\"failed to launch job to create masks for \"+file_path)"
   ]
  },
  {
   "cell_type": "code",
   "execution_count": 3,
   "id": "4e557200-7b02-4d91-8310-33d8f2c436f3",
   "metadata": {},
   "outputs": [
    {
     "data": {
      "text/plain": [
       "['/home/exacloud/gscratch/HeiserLab/images/AU99999/Analysis/PI/intermediate_files/AU99999_RGP_C4_3_stack.tif']"
      ]
     },
     "execution_count": 3,
     "metadata": {},
     "output_type": "execute_result"
    }
   ],
   "source": [
    "file_paths"
   ]
  },
  {
   "cell_type": "code",
   "execution_count": 4,
   "id": "6a874db4-5da9-4b5c-b977-fc586556535b",
   "metadata": {},
   "outputs": [],
   "source": [
    "file_path = file_paths[0]"
   ]
  },
  {
   "cell_type": "code",
   "execution_count": 5,
   "id": "ce25811c-09e5-44ca-844b-cbf98e355160",
   "metadata": {},
   "outputs": [
    {
     "data": {
      "text/plain": [
       "'/home/exacloud/gscratch/HeiserLab/images/AU99999/Analysis/PI/intermediate_files/AU99999_RGP_C4_3_stack.tif'"
      ]
     },
     "execution_count": 5,
     "metadata": {},
     "output_type": "execute_result"
    }
   ],
   "source": [
    "file_path"
   ]
  },
  {
   "cell_type": "code",
   "execution_count": 6,
   "id": "b055870d-255d-4f47-8e31-c8820db5ff07",
   "metadata": {},
   "outputs": [],
   "source": [
    "mask_file_path = re.sub('.tif','_Simple Segmentation.h5',file_path)\n",
    "well = re.findall(\"_[A-Z][1-9]_\",mask_file_path)[0]\n",
    "well = re.sub(\"_\",\"\",well)\n",
    "field = re.findall(\"_[1-9]_\",mask_file_path)[0]\n",
    "field = re.sub(\"_\",\"\", field)[0]"
   ]
  },
  {
   "cell_type": "code",
   "execution_count": 7,
   "id": "4d397801-154c-4ef5-9331-c157a56a11a0",
   "metadata": {},
   "outputs": [
    {
     "data": {
      "text/plain": [
       "'/home/exacloud/gscratch/HeiserLab/images/AU99999/Analysis/PI/intermediate_files/AU99999_RGP_C4_3_stack_Simple Segmentation.h5'"
      ]
     },
     "execution_count": 7,
     "metadata": {},
     "output_type": "execute_result"
    }
   ],
   "source": [
    "mask_file_path"
   ]
  },
  {
   "cell_type": "code",
   "execution_count": 9,
   "id": "e4a58f58-51c5-4b87-a7b9-fd39dd985c8e",
   "metadata": {},
   "outputs": [
    {
     "ename": "SyntaxError",
     "evalue": "invalid syntax (<ipython-input-9-3aee5b254c53>, line 1)",
     "output_type": "error",
     "traceback": [
      "\u001b[0;36m  File \u001b[0;32m\"<ipython-input-9-3aee5b254c53>\"\u001b[0;36m, line \u001b[0;32m1\u001b[0m\n\u001b[0;31m    cmd = \"srun -c 4 -j i\"+plateID[3:8]+well+field\" -o i\"+plateID[3:8]+well+field+\".txt /home/users/dane/ilastik-1.4.0b15-Linux/run_ilastik.sh --headless --readonly=True --input_axes=tyxc --project=/home/groups/heiserlab_genomics/home/dane/CellTracking/AU565/AU00901_Pixel_112920_TRAINING.ilp --raw_data=\"+file_path+\" --export_source='Simple Segmentation' --output_format='hdf5' --output_filename_format=\"+output_path+\"/{nickname}_{result_type} &\"\u001b[0m\n\u001b[0m                                                        ^\u001b[0m\n\u001b[0;31mSyntaxError\u001b[0m\u001b[0;31m:\u001b[0m invalid syntax\n"
     ]
    }
   ],
   "source": [
    "cmd = \"srun -c 4 -j i\"+plateID[3:8]+well+field\" -o i\"+plateID[3:8]+well+field+\".txt /home/users/dane/ilastik-1.4.0b15-Linux/run_ilastik.sh --headless --readonly=True --input_axes=tyxc --project=/home/groups/heiserlab_genomics/home/dane/CellTracking/AU565/AU00901_Pixel_112920_TRAINING.ilp --raw_data=\"+file_path+\" --export_source='Simple Seon' --output_format='hdf5' --output_filename_format=\"+output_path+\"/{nickn"
   ]
  },
  {
   "cell_type": "code",
   "execution_count": 10,
   "id": "0ca3e987-6667-48f7-b856-b3c77b5ba5cb",
   "metadata": {},
   "outputs": [],
   "source": [
    "cmd = \"srun -c 4 --job-name=i\"+plateID[3:8]+well+field+\" -o i\"+plateID[3:8]+well+field+\".txt /home/users/dane/ilastik-1.4.0b15-Linux/run_ilastik.sh --headless --readonly=True --input_axes=tyxc --project=/home/groups/heiserlab_genomics/home/dane/CellTracking/AU565/AU00901_Pixel_112920_TRAINING.ilp --raw_data=\"+file_path+\" --export_source='Simple Segmentation' --output_format='hdf5' --output_filename_format=\"+output_path+\"/{nickname}_{result_type} &\"\n"
   ]
  },
  {
   "cell_type": "code",
   "execution_count": 11,
   "id": "857f78b9-d0b4-4014-8e93-a555d12b6285",
   "metadata": {},
   "outputs": [
    {
     "data": {
      "text/plain": [
       "\"srun -c 4 --job-name=i9999C43 -o i9999C43.txt /home/users/dane/ilastik-1.4.0b15-Linux/run_ilastik.sh --headless --readonly=True --input_axes=tyxc --project=/home/groups/heiserlab_genomics/home/dane/CellTracking/AU565/AU00901_Pixel_112920_TRAINING.ilp --raw_data=/home/exacloud/gscratch/HeiserLab/images/AU99999/Analysis/PI/intermediate_files/AU99999_RGP_C4_3_stack.tif --export_source='Simple Segmentation' --output_format='hdf5' --output_filename_format=/home/exacloud/gscratch/HeiserLab/images/AU99999/Analysis/PI/intermediate_files/{nickname}_{result_type} &\""
      ]
     },
     "execution_count": 11,
     "metadata": {},
     "output_type": "execute_result"
    }
   ],
   "source": [
    "cmd"
   ]
  },
  {
   "cell_type": "code",
   "execution_count": null,
   "id": "1c65b9a0-311e-4d4b-bbeb-48e3c1b70b3a",
   "metadata": {},
   "outputs": [],
   "source": []
  }
 ],
 "metadata": {
  "kernelspec": {
   "display_name": "biapy",
   "language": "python",
   "name": "biapy"
  },
  "language_info": {
   "codemirror_mode": {
    "name": "ipython",
    "version": 3
   },
   "file_extension": ".py",
   "mimetype": "text/x-python",
   "name": "python",
   "nbconvert_exporter": "python",
   "pygments_lexer": "ipython3",
   "version": "3.7.10"
  }
 },
 "nbformat": 4,
 "nbformat_minor": 5
}
